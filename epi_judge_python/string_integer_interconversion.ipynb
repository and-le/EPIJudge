{
 "cells": [
  {
   "cell_type": "code",
   "execution_count": null,
   "metadata": {},
   "outputs": [],
   "source": [
    "\"\"\"\n",
    "Convert between the string and numerical representations of an integer.\n",
    "\"\"\""
   ]
  },
  {
   "cell_type": "code",
   "execution_count": 14,
   "metadata": {},
   "outputs": [],
   "source": [
    "def int_to_str(i):\n",
    "    \"\"\"\n",
    "    Converts the given integer, i, into its string representation\n",
    "    Let n = the number of digits in i.\n",
    "    Time: O(n)\n",
    "    Space: O(n)\n",
    "    \"\"\"\n",
    "    s = \"\" # will be the string representation of the int\n",
    "    \n",
    "    # Remember if the integer was negative\n",
    "    is_negative = False\n",
    "    if i < 0:\n",
    "        is_negative = True\n",
    "        i *= -1 # Make i positive    \n",
    "    \n",
    "    while i > 0:\n",
    "        s += str(i % 10) # Append the current least significant digit\n",
    "        i //= 10 # Integer division to move onto the next digit\n",
    "        \n",
    "    # If i is negative, add a '-' sign\n",
    "    print(s)\n",
    "    if is_negative:\n",
    "        s += '-'      \n",
    "    \n",
    "    # Reverse the string\n",
    "    s = s[::-1]\n",
    "    return s"
   ]
  },
  {
   "cell_type": "code",
   "execution_count": 15,
   "metadata": {},
   "outputs": [
    {
     "name": "stdout",
     "output_type": "stream",
     "text": [
      "321\n"
     ]
    },
    {
     "data": {
      "text/plain": [
       "'123'"
      ]
     },
     "execution_count": 15,
     "metadata": {},
     "output_type": "execute_result"
    }
   ],
   "source": [
    "i = 123\n",
    "int_to_str(i)"
   ]
  },
  {
   "cell_type": "code",
   "execution_count": 16,
   "metadata": {},
   "outputs": [
    {
     "name": "stdout",
     "output_type": "stream",
     "text": [
      "321\n"
     ]
    },
    {
     "data": {
      "text/plain": [
       "'-123'"
      ]
     },
     "execution_count": 16,
     "metadata": {},
     "output_type": "execute_result"
    }
   ],
   "source": [
    "i = -123\n",
    "int_to_str(i)"
   ]
  },
  {
   "cell_type": "code",
   "execution_count": 16,
   "metadata": {},
   "outputs": [],
   "source": [
    "def str_to_int(s):\n",
    "    \"\"\"\n",
    "    Converts the given string, s, into its integer representation\n",
    "    Let n = length of s\n",
    "    Time: O(n)\n",
    "    Space: O(1)\n",
    "    \"\"\"\n",
    "    i = 0 # Integer representation of string\n",
    "    k = 0 # Index into string\n",
    "    \n",
    "    # If the string represents a negative integer,\n",
    "    # the first character will be a negative sign,\n",
    "    # so advance the k index by 1.\n",
    "    if s[0] == '-':\n",
    "        k = 1\n",
    "        \n",
    "    while k < len(s):\n",
    "        # Multiply the accumulated integer by 10 and add the next digit.\n",
    "        i = (i * 10) + int(s[k])  \n",
    "        print\n",
    "        k += 1\n",
    "    \n",
    "    # If the string represented a negative integer,\n",
    "    # multiply the integer we have by -1.    \n",
    "    if s[0] == '-':\n",
    "        i *= -1\n",
    "        \n",
    "    return i        "
   ]
  },
  {
   "cell_type": "code",
   "execution_count": 18,
   "metadata": {},
   "outputs": [
    {
     "data": {
      "text/plain": [
       "123"
      ]
     },
     "execution_count": 18,
     "metadata": {},
     "output_type": "execute_result"
    }
   ],
   "source": [
    "s = \"123\"\n",
    "str_to_int(s)"
   ]
  },
  {
   "cell_type": "code",
   "execution_count": 19,
   "metadata": {},
   "outputs": [
    {
     "data": {
      "text/plain": [
       "-123"
      ]
     },
     "execution_count": 19,
     "metadata": {},
     "output_type": "execute_result"
    }
   ],
   "source": [
    "s = \"-123\"\n",
    "str_to_int(s)"
   ]
  }
 ],
 "metadata": {
  "kernelspec": {
   "display_name": "Python 3",
   "language": "python",
   "name": "python3"
  },
  "language_info": {
   "codemirror_mode": {
    "name": "ipython",
    "version": 3
   },
   "file_extension": ".py",
   "mimetype": "text/x-python",
   "name": "python",
   "nbconvert_exporter": "python",
   "pygments_lexer": "ipython3",
   "version": "3.7.4"
  }
 },
 "nbformat": 4,
 "nbformat_minor": 2
}
