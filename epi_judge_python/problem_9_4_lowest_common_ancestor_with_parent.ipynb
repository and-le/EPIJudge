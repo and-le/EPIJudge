{
 "cells": [
  {
   "cell_type": "code",
   "execution_count": 10,
   "metadata": {},
   "outputs": [],
   "source": [
    "from binary_tree_with_parent_prototype import BinaryTreeNode"
   ]
  },
  {
   "cell_type": "code",
   "execution_count": 13,
   "metadata": {},
   "outputs": [],
   "source": [
    "def lca_parent(tree, node0, node1):\n",
    "    \"\"\"\n",
    "    Returns the lowest common ancestor of node0 and node1 for the tree rooted at \"tree\".\n",
    "    \n",
    "    Time: O(h), h = height of tree rooted at tree\n",
    "    Space: O(1)\n",
    "    \"\"\"\n",
    "    def get_depth(node):\n",
    "        depth = 0\n",
    "        while node.parent:\n",
    "            node = node.parent\n",
    "            depth += 1\n",
    "        return depth\n",
    "    \n",
    "    depth0, depth1 = map(get_depth, (node0, node1))\n",
    "    \n",
    "    # Make node0 the deeper node\n",
    "    if depth1 > depth0:\n",
    "        node0, node1 = node1, node0\n",
    "        \n",
    "    # Ascend from the deeper node until the depths are equal\n",
    "    depth_diff = abs(depth1 - depth0)\n",
    "    while depth_diff:\n",
    "        depth_diff -= 1\n",
    "        node0 = node0.parent\n",
    "        \n",
    "    # Ascend until the LCA is reached\n",
    "    while node0 is not node1:\n",
    "        node0, node1 = node0.parent, node1.parent\n",
    "        \n",
    "    return node0\n",
    "        "
   ]
  },
  {
   "cell_type": "code",
   "execution_count": 16,
   "metadata": {},
   "outputs": [
    {
     "data": {
      "text/plain": [
       "[\"20\"]"
      ]
     },
     "execution_count": 16,
     "metadata": {},
     "output_type": "execute_result"
    }
   ],
   "source": [
    "root = BinaryTreeNode(20)\n",
    "l1 = BinaryTreeNode(10)\n",
    "r1 = BinaryTreeNode(30)\n",
    "root.parent = None\n",
    "l1.parent = root\n",
    "r1.parent = root\n",
    "lca_parent(root, l1, r1)"
   ]
  },
  {
   "cell_type": "code",
   "execution_count": null,
   "metadata": {},
   "outputs": [],
   "source": []
  }
 ],
 "metadata": {
  "kernelspec": {
   "display_name": "Python 3",
   "language": "python",
   "name": "python3"
  },
  "language_info": {
   "codemirror_mode": {
    "name": "ipython",
    "version": 3
   },
   "file_extension": ".py",
   "mimetype": "text/x-python",
   "name": "python",
   "nbconvert_exporter": "python",
   "pygments_lexer": "ipython3",
   "version": "3.7.4"
  }
 },
 "nbformat": 4,
 "nbformat_minor": 2
}
