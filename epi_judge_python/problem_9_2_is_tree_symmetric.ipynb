{
 "cells": [
  {
   "cell_type": "code",
   "execution_count": 2,
   "metadata": {},
   "outputs": [],
   "source": [
    "from bst_node import BstNode"
   ]
  },
  {
   "cell_type": "code",
   "execution_count": 4,
   "metadata": {},
   "outputs": [],
   "source": [
    "def is_symmetric(root):\n",
    "    \"\"\"\n",
    "    Returns True if the binary tree rooted at root is symmetric; False otherwise.\n",
    "    \n",
    "    Time: O(n), n = size(tree)\n",
    "    Space: O(h), h = height(tree)\n",
    "    \"\"\"    \n",
    "    # Base case: root is a leaf node\n",
    "    return not root or is_symmetric_helper(root.left, root.right)\n",
    "        \n",
    "    \n",
    "def is_symmetric_helper(left_subtree, right_subtree):\n",
    "    if not left_subtree and not right_subtree:\n",
    "        return True\n",
    "    \n",
    "    elif left_subtree and right_subtree:\n",
    "        return (left_subtree.data == right_subtree.data) and is_symmetric_helper(left_subtree.left, right_subtree.right) and is_symmetric_helper(left_subtree.right, right_subtree.left)\n",
    "    \n",
    "    else:\n",
    "        return False"
   ]
  },
  {
   "cell_type": "code",
   "execution_count": 5,
   "metadata": {},
   "outputs": [
    {
     "data": {
      "text/plain": [
       "True"
      ]
     },
     "execution_count": 5,
     "metadata": {},
     "output_type": "execute_result"
    }
   ],
   "source": [
    "root = BstNode(314)\n",
    "l1 = r1 = BstNode(6)\n",
    "l2 = r2 = BstNode(2)\n",
    "l3 = r3 = BstNode(3)\n",
    "root.left, root.right = l1, r1\n",
    "l1.right, r1.left = l2, r2\n",
    "l2.right, r2.left = l3, r3\n",
    "is_symmetric(root)"
   ]
  },
  {
   "cell_type": "code",
   "execution_count": null,
   "metadata": {},
   "outputs": [],
   "source": []
  }
 ],
 "metadata": {
  "kernelspec": {
   "display_name": "Python 3",
   "language": "python",
   "name": "python3"
  },
  "language_info": {
   "codemirror_mode": {
    "name": "ipython",
    "version": 3
   },
   "file_extension": ".py",
   "mimetype": "text/x-python",
   "name": "python",
   "nbconvert_exporter": "python",
   "pygments_lexer": "ipython3",
   "version": "3.7.4"
  }
 },
 "nbformat": 4,
 "nbformat_minor": 2
}
