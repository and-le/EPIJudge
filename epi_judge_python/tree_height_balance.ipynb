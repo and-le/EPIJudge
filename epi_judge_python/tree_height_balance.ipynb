{
 "cells": [
  {
   "cell_type": "code",
   "execution_count": 14,
   "metadata": {},
   "outputs": [],
   "source": [
    "from bst_node import BstNode"
   ]
  },
  {
   "cell_type": "code",
   "execution_count": 15,
   "metadata": {},
   "outputs": [
    {
     "data": {
      "text/plain": [
       "'\\nProblem 10.1: Height-balanced binary tree\\n'"
      ]
     },
     "execution_count": 15,
     "metadata": {},
     "output_type": "execute_result"
    }
   ],
   "source": [
    "\"\"\"\n",
    "Problem 10.1: Height-balanced binary tree\n",
    "\"\"\""
   ]
  },
  {
   "cell_type": "code",
   "execution_count": 24,
   "metadata": {},
   "outputs": [],
   "source": [
    "def is_height_balanced(root):\n",
    "    \"\"\"\n",
    "    Returns a 2-tuple (tree rooted at \"root\" is balanced, height of subtree)\n",
    "    \"\"\"\n",
    "    if not root:\n",
    "        return True, 0\n",
    "    \n",
    "    # Check if the left subtree is height balanced\n",
    "    left_res = is_height_balanced(root.left)\n",
    "    if not left_res[0]:\n",
    "        return False, 0\n",
    "    \n",
    "    # Check if the right subtree is height balanced\n",
    "    right_res = is_height_balanced(root.right)\n",
    "    if not right_res[0]:\n",
    "        return False, 0\n",
    "    \n",
    "    # Check if the left and right subtrees, considered together, are height balanced\n",
    "    left_ht = left_res[1]\n",
    "    right_ht = right_res[1]\n",
    "    ht = 0 # Height of both subtrees: the larger of the two + 1\n",
    "    if abs(left_ht - right_ht) <= 1:\n",
    "        ht = max(left_ht, right_ht) + 1\n",
    "        return True, ht\n",
    "    else:\n",
    "        return False, ht\n",
    "    "
   ]
  },
  {
   "cell_type": "code",
   "execution_count": 26,
   "metadata": {},
   "outputs": [
    {
     "data": {
      "text/plain": [
       "(True, 3)"
      ]
     },
     "execution_count": 26,
     "metadata": {},
     "output_type": "execute_result"
    }
   ],
   "source": [
    "# Test cases\n",
    "\"\"\"\n",
    "        10 <- 20 -> 30 -> 25\n",
    "\"\"\"\n",
    "lt = BstNode(10, None, None)\n",
    "rt_lt = BstNode(25, None, None)\n",
    "rt = BstNode(30, rt_lt, None)\n",
    "root = BstNode(20, lt, rt)\n",
    "is_height_balanced(root)"
   ]
  },
  {
   "cell_type": "code",
   "execution_count": 28,
   "metadata": {},
   "outputs": [
    {
     "data": {
      "text/plain": [
       "(False, 0)"
      ]
     },
     "execution_count": 28,
     "metadata": {},
     "output_type": "execute_result"
    }
   ],
   "source": [
    "\"\"\"\n",
    "        <- 10 20 -> 30 -> 25 -> 22\n",
    "\"\"\"\n",
    "lt = BstNode(10, None, None)\n",
    "rt_lt_lt = BstNode(22, None, None)\n",
    "rt_lt = BstNode(25, rt_lt_lt, None)\n",
    "rt = BstNode(30, rt_lt, None)\n",
    "root = BstNode(20, lt, rt)\n",
    "is_height_balanced(root)"
   ]
  },
  {
   "cell_type": "code",
   "execution_count": null,
   "metadata": {},
   "outputs": [],
   "source": []
  }
 ],
 "metadata": {
  "kernelspec": {
   "display_name": "Python 3",
   "language": "python",
   "name": "python3"
  },
  "language_info": {
   "codemirror_mode": {
    "name": "ipython",
    "version": 3
   },
   "file_extension": ".py",
   "mimetype": "text/x-python",
   "name": "python",
   "nbconvert_exporter": "python",
   "pygments_lexer": "ipython3",
   "version": "3.7.4"
  }
 },
 "nbformat": 4,
 "nbformat_minor": 2
}
