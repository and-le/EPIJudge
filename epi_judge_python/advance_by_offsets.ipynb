{
 "cells": [
  {
   "cell_type": "code",
   "execution_count": 1,
   "metadata": {},
   "outputs": [
    {
     "data": {
      "text/plain": [
       "'\\nProblem 6.4: Advancing through an array\\n'"
      ]
     },
     "execution_count": 1,
     "metadata": {},
     "output_type": "execute_result"
    }
   ],
   "source": [
    "\"\"\"\n",
    "Problem 6.4: Advancing through an array\n",
    "\"\"\""
   ]
  },
  {
   "cell_type": "code",
   "execution_count": 20,
   "metadata": {},
   "outputs": [],
   "source": [
    "def advance(A):\n",
    "    \"\"\"\n",
    "    Returns True if it is possible to get to index n - 1 of the \n",
    "    given array of size n starting from index 0, using the offsets contained within the\n",
    "    array. Each A[i] represents the maximum number of indexes that\n",
    "    can be reached from index i.\n",
    "    Time: O(n)\n",
    "    Space: O(1)\n",
    "    \"\"\"\n",
    "    if len(A) <= 1:\n",
    "        return True\n",
    "    \n",
    "    # Iterate up to the farthest entry reachable from the start\n",
    "    farthest_reachable_idx = 0\n",
    "    for i in range(len(A) - 1):\n",
    "        farthest_reachable_idx = max(i + A[i], farthest_reachable_idx)\n",
    "        \n",
    "        print(f\"i = {i}\")\n",
    "        print(f\"curr idx = {farthest_reachable_idx}\")\n",
    "\n",
    "        \n",
    "        # If the farthest reachable index equals the current index, then it is not\n",
    "        # possible to reach the end of the array.\n",
    "        if i == farthest_reachable_idx:\n",
    "            return False\n",
    "        \n",
    "        # If the farthest reachable index is at the end of the array or greater\n",
    "        # than the ending index, then it is possible to get to index n - 1\n",
    "        if farthest_reachable_idx >= len(A) - 1:\n",
    "            return True\n",
    "        \n",
    "    return False\n",
    "        "
   ]
  },
  {
   "cell_type": "code",
   "execution_count": 21,
   "metadata": {},
   "outputs": [
    {
     "name": "stdout",
     "output_type": "stream",
     "text": [
      "i = 0\n",
      "curr idx = 1\n",
      "i = 1\n",
      "curr idx = 1\n"
     ]
    },
    {
     "data": {
      "text/plain": [
       "False"
      ]
     },
     "execution_count": 21,
     "metadata": {},
     "output_type": "execute_result"
    }
   ],
   "source": [
    "advance([1, 0, 0])"
   ]
  },
  {
   "cell_type": "code",
   "execution_count": 22,
   "metadata": {},
   "outputs": [
    {
     "name": "stdout",
     "output_type": "stream",
     "text": [
      "i = 0\n",
      "curr idx = 2\n",
      "i = 1\n",
      "curr idx = 4\n"
     ]
    },
    {
     "data": {
      "text/plain": [
       "True"
      ]
     },
     "execution_count": 22,
     "metadata": {},
     "output_type": "execute_result"
    }
   ],
   "source": [
    "advance([2, 3, 0, 0, 0])"
   ]
  },
  {
   "cell_type": "code",
   "execution_count": 23,
   "metadata": {},
   "outputs": [
    {
     "name": "stdout",
     "output_type": "stream",
     "text": [
      "i = 0\n",
      "curr idx = 2\n",
      "i = 1\n",
      "curr idx = 4\n",
      "i = 2\n",
      "curr idx = 4\n",
      "i = 3\n",
      "curr idx = 4\n",
      "i = 4\n",
      "curr idx = 4\n"
     ]
    },
    {
     "data": {
      "text/plain": [
       "False"
      ]
     },
     "execution_count": 23,
     "metadata": {},
     "output_type": "execute_result"
    }
   ],
   "source": [
    "advance([2, 3, 0, 0, 0, 1, 0])"
   ]
  },
  {
   "cell_type": "code",
   "execution_count": null,
   "metadata": {},
   "outputs": [],
   "source": []
  }
 ],
 "metadata": {
  "kernelspec": {
   "display_name": "Python 3",
   "language": "python",
   "name": "python3"
  },
  "language_info": {
   "codemirror_mode": {
    "name": "ipython",
    "version": 3
   },
   "file_extension": ".py",
   "mimetype": "text/x-python",
   "name": "python",
   "nbconvert_exporter": "python",
   "pygments_lexer": "ipython3",
   "version": "3.7.4"
  }
 },
 "nbformat": 4,
 "nbformat_minor": 2
}
