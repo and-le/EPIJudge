{
 "cells": [
  {
   "cell_type": "code",
   "execution_count": 10,
   "metadata": {},
   "outputs": [],
   "source": [
    "import itertools\n",
    "import bisect\n",
    "import random\n",
    "\n",
    "def nonuniform_rng(values, probabilities):\n",
    "    \"\"\"\n",
    "    Returns one of the values from \"values\" with its associated probability\n",
    "    in \"probabilities\". probabilities[i] = the frequency that values[i]\n",
    "    should appear.\n",
    "    Time: O(n)\n",
    "    Space: O(n)\n",
    "    \"\"\"\n",
    "    \n",
    "    # Record the start of each interval corresponding to one\n",
    "    # of the values\n",
    "    interval_starts = list(itertools.accumulate(probabilities))\n",
    "    \n",
    "    # Pick a random number in the interval [0, 1). Use binary search\n",
    "    # to find the index corresponding to the interval that the number falls in\n",
    "    idx = bisect.bisect(interval_starts, random.random())\n",
    "    return values[idx]"
   ]
  },
  {
   "cell_type": "code",
   "execution_count": 29,
   "metadata": {},
   "outputs": [],
   "source": [
    "def test_nonuniform_rng():\n",
    "    values = [10, 15, 20, 25]\n",
    "    probabilities = [3/8, 1/8, 3/8, 1/8]\n",
    "    num_calls = 1000000\n",
    "    frequencies = {}\n",
    "    for i in range(num_calls):\n",
    "        val = nonuniform_rng(values, probabilities)\n",
    "        frequencies[val] = frequencies.get(val, 0) + 1\n",
    "    \n",
    "    expected_frequencies = {values[i] : probabilities[i] * num_calls for i in range(len(values))}\n",
    "    \n",
    "    print(f\"Expected frequencies: {sorted(expected_frequencies.items())}\\n\")\n",
    "    print(f\"Actual frequencies: {sorted(frequencies.items())}\\n\")"
   ]
  },
  {
   "cell_type": "code",
   "execution_count": 30,
   "metadata": {},
   "outputs": [
    {
     "name": "stdout",
     "output_type": "stream",
     "text": [
      "Expected frequencies: [(10, 375000.0), (15, 125000.0), (20, 375000.0), (25, 125000.0)]\n",
      "\n",
      "Actual frequencies: [(10, 374987), (15, 125234), (20, 375354), (25, 124425)]\n",
      "\n"
     ]
    }
   ],
   "source": [
    "test_nonuniform_rng()"
   ]
  },
  {
   "cell_type": "code",
   "execution_count": null,
   "metadata": {},
   "outputs": [],
   "source": []
  },
  {
   "cell_type": "code",
   "execution_count": null,
   "metadata": {},
   "outputs": [],
   "source": []
  }
 ],
 "metadata": {
  "kernelspec": {
   "display_name": "Python 3",
   "language": "python",
   "name": "python3"
  },
  "language_info": {
   "codemirror_mode": {
    "name": "ipython",
    "version": 3
   },
   "file_extension": ".py",
   "mimetype": "text/x-python",
   "name": "python",
   "nbconvert_exporter": "python",
   "pygments_lexer": "ipython3",
   "version": "3.7.4"
  }
 },
 "nbformat": 4,
 "nbformat_minor": 2
}
