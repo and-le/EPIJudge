{
 "cells": [
  {
   "cell_type": "code",
   "execution_count": 1,
   "metadata": {
    "scrolled": false
   },
   "outputs": [
    {
     "data": {
      "text/plain": [
       "'\\nProblem 5.1: Dutch National Flag\\n'"
      ]
     },
     "execution_count": 1,
     "metadata": {},
     "output_type": "execute_result"
    }
   ],
   "source": [
    "\"\"\"\n",
    "Problem 5.1: Dutch National Flag\n",
    "\"\"\""
   ]
  },
  {
   "cell_type": "code",
   "execution_count": 2,
   "metadata": {},
   "outputs": [],
   "source": [
    "def dnf_v1(A, i):\n",
    "    \"\"\"\n",
    "    Version 1 implementation: Makes 3 passes through the array\n",
    "    and creates an extra array to store the rearranged elements\n",
    "    Time: O(n)\n",
    "    Space: O(n)\n",
    "    \"\"\"\n",
    "    B = [] # Rearranged array\n",
    "    \n",
    "    # Identify the < elements\n",
    "    for k in range(len(A)):\n",
    "        if A[k] < A[i]: \n",
    "            B.append(A[k])\n",
    "    \n",
    "    # Identify the == elements\n",
    "    for k in range(len(A)):\n",
    "        if A[k] == A[i]:\n",
    "            B.append(A[k])\n",
    "    \n",
    "    # Identify the > elements\n",
    "    for k in range(len(A)):\n",
    "        if A[k] > A[i]:\n",
    "            B.append(A[k])\n",
    "            \n",
    "    return B\n",
    "            "
   ]
  },
  {
   "cell_type": "code",
   "execution_count": 3,
   "metadata": {},
   "outputs": [],
   "source": [
    "def swap(A, i, j):\n",
    "    \"\"\"\n",
    "    Swaps the ith element of A with the jth element of A\n",
    "    \"\"\"\n",
    "    temp = A[i]\n",
    "    A[i] = A[j]\n",
    "    A[j] = temp    \n",
    "    \n",
    "def dnf_v2(A, i):\n",
    "    \"\"\"\n",
    "    Version 2 implementation: Uses the existing array to\n",
    "    store the rearranged elements\n",
    "    Time: O(n)\n",
    "    Space: O(1)\n",
    "    \"\"\"\n",
    "    left = 0 # Index into < portion \n",
    "    mid = left + 1 # Index into == portion\n",
    "    right = len(A) - 1 # Index into > portion\n",
    "    pivot = A[i]\n",
    "    \n",
    "    while left < right and mid <= right:\n",
    "        if A[left] < pivot:\n",
    "            left += 1\n",
    "            mid += 1\n",
    "        elif A[left] > pivot:\n",
    "            swap(A, left, right)\n",
    "            right -= 1\n",
    "        else:\n",
    "            swap(A, left, mid)\n",
    "            mid += 1\n",
    "        print(A)\n",
    "            \n",
    "    return A\n",
    "    \n"
   ]
  },
  {
   "cell_type": "code",
   "execution_count": 4,
   "metadata": {},
   "outputs": [],
   "source": [
    "# Test input\n",
    "A = [3, 2, 1, 2, 3,]\n",
    "i = 1\n",
    "expected = [1, 2, 2, 3, 3]"
   ]
  },
  {
   "cell_type": "code",
   "execution_count": 5,
   "metadata": {},
   "outputs": [
    {
     "name": "stdout",
     "output_type": "stream",
     "text": [
      "['A', 'C', 'A', 'C', 'B', 'C', 'B']\n",
      "['A', 'C', 'A', 'C', 'B', 'C', 'B']\n",
      "['A', 'A', 'C', 'C', 'B', 'C', 'B']\n",
      "['A', 'A', 'C', 'C', 'B', 'C', 'B']\n",
      "['A', 'A', 'B', 'C', 'C', 'C', 'B']\n",
      "['A', 'A', 'C', 'C', 'C', 'B', 'B']\n"
     ]
    },
    {
     "data": {
      "text/plain": [
       "['A', 'A', 'C', 'C', 'C', 'B', 'B']"
      ]
     },
     "execution_count": 5,
     "metadata": {},
     "output_type": "execute_result"
    }
   ],
   "source": [
    "def threekey(A):\n",
    "    \"\"\"\n",
    "    Given an array that contains 3 different types of elements,\n",
    "    rearranges the elements so that all elements of the same type are\n",
    "    placed together.\n",
    "    Time: O(n)\n",
    "    Space: O(1)\n",
    "    \"\"\"\n",
    "    left = 0 # Index into type-1 portion \n",
    "    mid = left + 1 # Index into type-2 portion\n",
    "    right = len(A) - 1 # Index into type-3 portion\n",
    "    \n",
    "    type1 = 'A'\n",
    "    type2 = 'B'\n",
    "    type3 = 'C'\n",
    "    \n",
    "    while left < right and mid <= right:\n",
    "        if A[left] == type1:\n",
    "            left += 1\n",
    "            mid += 1\n",
    "        elif A[left] == type2:\n",
    "            swap(A, left, right)\n",
    "            right -= 1\n",
    "        else: # type 3\n",
    "            swap(A, left, mid)\n",
    "            mid += 1\n",
    "        print(A)\n",
    "            \n",
    "    return A\n",
    "\n",
    "threekey(['B', 'C', 'A', 'C', 'B', 'C', 'A'])"
   ]
  },
  {
   "cell_type": "code",
   "execution_count": 6,
   "metadata": {},
   "outputs": [
    {
     "data": {
      "text/plain": [
       "['A', 'A', 'B', 'B', 'B', 'C', 'C', 'C', 'D', 'D']"
      ]
     },
     "execution_count": 6,
     "metadata": {},
     "output_type": "execute_result"
    }
   ],
   "source": [
    "def fourkey(A):\n",
    "    \"\"\"\n",
    "    Given an array that contains 4 different types of elements,\n",
    "    rearranges the elements so that all elements of the same type are\n",
    "    placed together.\n",
    "    Time: O(n)\n",
    "    Space: O(1)\n",
    "    \"\"\"\n",
    "    type1 = 'A'\n",
    "    type2 = 'B'\n",
    "    type3 = 'C'\n",
    "    type4 = 'D'\n",
    "    \n",
    "    t1 = 0 # Index into type-1 portion \n",
    "    for i in range(len(A)):\n",
    "        if A[i] == type1: \n",
    "            swap(A, i, t1)\n",
    "            t1 += 1\n",
    "            \n",
    "    # t1 is the index of the first element such that A[t1] != type1   \n",
    "    t2 = t1 # Index into type-2 portion\n",
    "        \n",
    "    for i in range(len(A)):\n",
    "        if A[i] == type2: \n",
    "            swap(A, i, t2)\n",
    "            t2 += 1\n",
    "            \n",
    "    t3 = t2 # Index into type-3 portion\n",
    "    \n",
    "    for i in range(len(A)):\n",
    "        if A[i] == type3: \n",
    "            swap(A, i, t3)\n",
    "            t3 += 1\n",
    "            \n",
    "    # All elements of type 4 will be at the end of the array           \n",
    "    return A\n",
    "\n",
    "fourkey(['B', 'C', 'A', 'C', 'B', 'C', 'A', 'D', 'B', 'D'])"
   ]
  },
  {
   "cell_type": "code",
   "execution_count": 7,
   "metadata": {},
   "outputs": [
    {
     "data": {
      "text/plain": [
       "[False, False, False, True, True, True, True]"
      ]
     },
     "execution_count": 7,
     "metadata": {},
     "output_type": "execute_result"
    }
   ],
   "source": [
    "def boolkey(A):\n",
    "    \"\"\"\n",
    "    Given an array that contains Boolean-valued elements,\n",
    "    rearranges the elements so that keys with the value 'False'\n",
    "    appear first\n",
    "    Time: O(n)\n",
    "    Space: O(1)\n",
    "    \"\"\"\n",
    "    false_idx = 0\n",
    "    for i in range(len(A)):\n",
    "        if not A[i]:\n",
    "            swap(A, i, false_idx)\n",
    "            false_idx += 1\n",
    "           \n",
    "    # All of the true elements will be located after the false ones\n",
    "    return A\n",
    "\n",
    "boolkey([True, False, True, True, False, False, True])"
   ]
  },
  {
   "cell_type": "code",
   "execution_count": 8,
   "metadata": {},
   "outputs": [
    {
     "data": {
      "text/plain": [
       "[False, False, False, True, True]"
      ]
     },
     "execution_count": 8,
     "metadata": {},
     "output_type": "execute_result"
    }
   ],
   "source": [
    "boolkey([True, True, False, False, False])"
   ]
  },
  {
   "cell_type": "code",
   "execution_count": 19,
   "metadata": {},
   "outputs": [
    {
     "data": {
      "text/plain": [
       "[(False, 3), (False, 4), (False, 2), (True, 0), (True, 1), (True, 5)]"
      ]
     },
     "execution_count": 19,
     "metadata": {},
     "output_type": "execute_result"
    }
   ],
   "source": [
    "def stable_boolkey(A):\n",
    "    \"\"\"\n",
    "    Given an array that contains Boolean-valued elements,\n",
    "    rearranges the elements so that keys with the value 'False'\n",
    "    appear first, while preserving the relative ordering of elements\n",
    "    with the key 'True'.\n",
    "    Time: O(n)\n",
    "    Space: O(1)\n",
    "    \"\"\"    \n",
    "    idx = 0\n",
    "    # Put all of the true elements at the front\n",
    "    for i in range(len(A)):\n",
    "        if A[i][0]:\n",
    "            swap(A, i, idx)\n",
    "            idx += 1\n",
    "            \n",
    "    # Put the false elements in front\n",
    "    idx_false = 0 # index of first false element\n",
    "    for i in range(len(A)):\n",
    "        if not A[i][0]:\n",
    "            idx_false = i\n",
    "            break\n",
    "    \n",
    "    for i in range(idx_false):\n",
    "        swap(A, i, idx_false + i)\n",
    "        \n",
    "            \n",
    "    return A\n",
    "\n",
    "stable_boolkey([(True, 0), (True, 1), (False, 2), (False, 3), (False, 4), (True, 5)])"
   ]
  },
  {
   "cell_type": "code",
   "execution_count": null,
   "metadata": {},
   "outputs": [],
   "source": []
  },
  {
   "cell_type": "code",
   "execution_count": null,
   "metadata": {},
   "outputs": [],
   "source": []
  }
 ],
 "metadata": {
  "kernelspec": {
   "display_name": "Python 3",
   "language": "python",
   "name": "python3"
  },
  "language_info": {
   "codemirror_mode": {
    "name": "ipython",
    "version": 3
   },
   "file_extension": ".py",
   "mimetype": "text/x-python",
   "name": "python",
   "nbconvert_exporter": "python",
   "pygments_lexer": "ipython3",
   "version": "3.7.4"
  }
 },
 "nbformat": 4,
 "nbformat_minor": 2
}
