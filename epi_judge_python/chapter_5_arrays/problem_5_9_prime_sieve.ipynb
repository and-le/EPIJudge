{
 "cells": [
  {
   "cell_type": "code",
   "execution_count": 4,
   "metadata": {},
   "outputs": [],
   "source": [
    "def all_primes(n):\n",
    "    \"\"\"\n",
    "    Returns all prime numbers from 2 up to and including n.\n",
    "    Note: 0 and 1 are not prime numbers\n",
    "    Time: O( n log(log n) ) \n",
    "    Space: O(n)\n",
    "    \"\"\"\n",
    "    \n",
    "    is_prime = [True for x in range(n + 1)]\n",
    "    # is_prime[k] indicates whether k is prime\n",
    "    is_prime[0] = False\n",
    "    is_prime[1] = False\n",
    "    \n",
    "    primes = []\n",
    "    \n",
    "    for k in range(2, n + 1):\n",
    "        if is_prime[k]:\n",
    "            primes.append(k)            \n",
    "            # Use the sieving approach to remove multiples of k from consideration of being prime\n",
    "            for i in range(k * 2, n + 1, k):\n",
    "                is_prime[i] = False\n",
    "                \n",
    "    return primes  "
   ]
  },
  {
   "cell_type": "code",
   "execution_count": 7,
   "metadata": {},
   "outputs": [
    {
     "data": {
      "text/plain": [
       "[2]"
      ]
     },
     "execution_count": 7,
     "metadata": {},
     "output_type": "execute_result"
    }
   ],
   "source": [
    "# Smallest prime number\n",
    "all_primes(2)"
   ]
  },
  {
   "cell_type": "code",
   "execution_count": 8,
   "metadata": {},
   "outputs": [
    {
     "data": {
      "text/plain": [
       "[2, 3, 5, 7, 11, 13, 17]"
      ]
     },
     "execution_count": 8,
     "metadata": {},
     "output_type": "execute_result"
    }
   ],
   "source": [
    "# n is not prime\n",
    "all_primes(18)"
   ]
  },
  {
   "cell_type": "code",
   "execution_count": 10,
   "metadata": {},
   "outputs": [
    {
     "data": {
      "text/plain": [
       "[2, 3, 5, 7, 11, 13, 17]"
      ]
     },
     "execution_count": 10,
     "metadata": {},
     "output_type": "execute_result"
    }
   ],
   "source": [
    "# n is prime\n",
    "all_primes(17)"
   ]
  },
  {
   "cell_type": "code",
   "execution_count": null,
   "metadata": {},
   "outputs": [],
   "source": []
  }
 ],
 "metadata": {
  "kernelspec": {
   "display_name": "Python 3",
   "language": "python",
   "name": "python3"
  },
  "language_info": {
   "codemirror_mode": {
    "name": "ipython",
    "version": 3
   },
   "file_extension": ".py",
   "mimetype": "text/x-python",
   "name": "python",
   "nbconvert_exporter": "python",
   "pygments_lexer": "ipython3",
   "version": "3.7.4"
  }
 },
 "nbformat": 4,
 "nbformat_minor": 2
}
