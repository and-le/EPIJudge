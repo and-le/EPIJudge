{
 "cells": [
  {
   "cell_type": "code",
   "execution_count": 25,
   "metadata": {},
   "outputs": [],
   "source": [
    "import random"
   ]
  },
  {
   "cell_type": "code",
   "execution_count": 30,
   "metadata": {},
   "outputs": [],
   "source": [
    "def online_sample(A, k):\n",
    "    \"\"\"\n",
    "    Returns a random subset of size k from A. A must have at least\n",
    "    k elements. All subsets are equally likely.\n",
    "    Time: O(n), proportional to the size of A\n",
    "    Space: O(k)\n",
    "    \"\"\"\n",
    "    sample = A[:k]\n",
    "    \n",
    "    n_seen = k # Number of packets seen so far\n",
    "    \n",
    "    for packet in A[k:len(A)]:\n",
    "        n_seen += 1\n",
    "        # Generate a random number in the range [0, n_seen - 1) to pick the packet\n",
    "        idx = random.randrange(n_seen)\n",
    "        \n",
    "        # If the randomly chosen index is within k, replace the existing element\n",
    "        # with the new element.\n",
    "        \n",
    "        if idx < k:\n",
    "            sample[idx] = packet   \n",
    "    \n",
    "    return sample"
   ]
  },
  {
   "cell_type": "code",
   "execution_count": 35,
   "metadata": {},
   "outputs": [
    {
     "data": {
      "text/plain": [
       "[2, 3]"
      ]
     },
     "execution_count": 35,
     "metadata": {},
     "output_type": "execute_result"
    }
   ],
   "source": [
    "online_sample([0, 1, 2, 3], 2)"
   ]
  }
 ],
 "metadata": {
  "kernelspec": {
   "display_name": "Python 3",
   "language": "python",
   "name": "python3"
  },
  "language_info": {
   "codemirror_mode": {
    "name": "ipython",
    "version": 3
   },
   "file_extension": ".py",
   "mimetype": "text/x-python",
   "name": "python",
   "nbconvert_exporter": "python",
   "pygments_lexer": "ipython3",
   "version": "3.7.4"
  }
 },
 "nbformat": 4,
 "nbformat_minor": 2
}
