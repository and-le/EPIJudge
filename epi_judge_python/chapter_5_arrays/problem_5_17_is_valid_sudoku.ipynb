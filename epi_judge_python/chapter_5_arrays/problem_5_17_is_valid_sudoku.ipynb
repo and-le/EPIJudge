{
 "cells": [
  {
   "cell_type": "code",
   "execution_count": 1,
   "metadata": {},
   "outputs": [],
   "source": [
    "import math       "
   ]
  },
  {
   "cell_type": "code",
   "execution_count": 46,
   "metadata": {},
   "outputs": [],
   "source": [
    "def is_valid_sudoku(grid):\n",
    "    \"\"\"\n",
    "    Returns True if the given (partially) completed Sudoku\n",
    "    grid is a valid assignment of integers in [1, n]; False otherwise.\n",
    "    \n",
    "    For an n x n grid, an assignment is valid if \n",
    "    all 3 of the following conditions hold:\n",
    "    1) Each row in the grid contains at most one copy each of an integer,\n",
    "    2) Each column in the grid contains at most one copy each of an integer,\n",
    "    3) Each sqrt(n) x sqrt(n) subgrid contains at most one copy of each integer.\n",
    "    \n",
    "    Unassigned entries are marked with the integer 0.\n",
    "    \n",
    "    Time: O(n^2)\n",
    "    Space: O(n)    \n",
    "    \"\"\"\n",
    "    \n",
    "    # Check the rows\n",
    "    n = len(grid[0])\n",
    "    \n",
    "    # Fix a row\n",
    "    for i in range(n):\n",
    "        \n",
    "        # Use an array to track counts of integers\n",
    "        assignments = [0 for x in range(n)]\n",
    "        \n",
    "        # Iterate over columns in row\n",
    "        for j in range(n):\n",
    "            assignments[grid[i][j] - 1] += 1\n",
    "            \n",
    "            # If there is a duplicate of an integer in [1, 9]\n",
    "            if grid[i][j] != 0 and assignments[grid[i][j] - 1] > 1:\n",
    "                return False\n",
    "    \n",
    "    # Check the columns\n",
    "    for j in range(n):\n",
    "\n",
    "        # Use an array to track counts of integers\n",
    "        assignments = [0 for x in range(n)]\n",
    "\n",
    "        # Iterate over rows in column\n",
    "        for i in range(n):\n",
    "            assignments[grid[i][j] - 1] += 1\n",
    "\n",
    "            if grid[i][j] != 0 and assignments[grid[i][j] - 1] > 1:\n",
    "                return False\n",
    "        \n",
    "    # Check each subgrid\n",
    "    n_subgrid = int(math.sqrt(n))\n",
    "        \n",
    "    # Iterate over each row subgrid\n",
    "    for k in range(n_subgrid):\n",
    "        \n",
    "        # Iterate over each column subgrid\n",
    "        for m in range(n_subgrid):\n",
    "            \n",
    "            assignments = [0 for x in range(n)]\n",
    "            \n",
    "            # Iterate over the rows in a subgrid\n",
    "            for i in range(n_subgrid * k, (n_subgrid * k) + n_subgrid):\n",
    "                \n",
    "                # Iterate over the columns in a subgrid\n",
    "                for j in range(n_subgrid * k, (n_subgrid * k) + n_subgrid):\n",
    "                                        \n",
    "                    assignments[grid[i][j] - 1] += 1            \n",
    "                    # If there is a duplicate of an integer in [1, 9]\n",
    "                    if grid[i][j] != 0 and assignments[grid[i][j] - 1] > 1:\n",
    "                        return False\n",
    "                    \n",
    "    return True"
   ]
  },
  {
   "cell_type": "code",
   "execution_count": 47,
   "metadata": {},
   "outputs": [
    {
     "name": "stdout",
     "output_type": "stream",
     "text": [
      "i = 0, j = 0\n",
      "i = 0, j = 1\n",
      "i = 1, j = 0\n",
      "i = 1, j = 1\n",
      "i = 0, j = 0\n",
      "i = 0, j = 1\n",
      "i = 1, j = 0\n",
      "i = 1, j = 1\n",
      "i = 2, j = 2\n",
      "i = 2, j = 3\n",
      "i = 3, j = 2\n",
      "i = 3, j = 3\n",
      "i = 2, j = 2\n",
      "i = 2, j = 3\n",
      "i = 3, j = 2\n",
      "i = 3, j = 3\n"
     ]
    }
   ],
   "source": [
    "assert is_valid_sudoku(\n",
    "    [\n",
    "        [1, 2, 3, 4],\n",
    "        [4, 3, 0, 0],\n",
    "        [2, 0, 0, 0],\n",
    "        [3, 0, 0, 0]\n",
    "    ]\n",
    ") == True"
   ]
  },
  {
   "cell_type": "code",
   "execution_count": 48,
   "metadata": {},
   "outputs": [
    {
     "name": "stdout",
     "output_type": "stream",
     "text": [
      "i = 0, j = 0\n",
      "i = 0, j = 1\n",
      "i = 1, j = 0\n"
     ]
    }
   ],
   "source": [
    "assert is_valid_sudoku(\n",
    "    [\n",
    "        [1, 2, 3, 4],\n",
    "        [2, 3, 0, 0],\n",
    "        [4, 0, 0, 0],\n",
    "        [3, 0, 0, 0]\n",
    "    ]\n",
    ") == False"
   ]
  },
  {
   "cell_type": "code",
   "execution_count": null,
   "metadata": {},
   "outputs": [],
   "source": []
  }
 ],
 "metadata": {
  "kernelspec": {
   "display_name": "Python 3",
   "language": "python",
   "name": "python3"
  },
  "language_info": {
   "codemirror_mode": {
    "name": "ipython",
    "version": 3
   },
   "file_extension": ".py",
   "mimetype": "text/x-python",
   "name": "python",
   "nbconvert_exporter": "python",
   "pygments_lexer": "ipython3",
   "version": "3.7.4"
  }
 },
 "nbformat": 4,
 "nbformat_minor": 2
}
