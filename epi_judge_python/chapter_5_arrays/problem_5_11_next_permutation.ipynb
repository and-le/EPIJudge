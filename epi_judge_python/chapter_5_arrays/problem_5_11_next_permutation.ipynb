{
 "cells": [
  {
   "cell_type": "code",
   "execution_count": 53,
   "metadata": {},
   "outputs": [],
   "source": [
    "import numpy as np\n",
    "\"\"\"\n",
    "Problem 5.11 : Compute the next permutation\n",
    "\"\"\"\n",
    "def swap(A, i, j):\n",
    "    temp = A[i]\n",
    "    A[i] = A[j]\n",
    "    A[j] = temp"
   ]
  },
  {
   "cell_type": "code",
   "execution_count": 73,
   "metadata": {},
   "outputs": [],
   "source": [
    "def next_permutation(P):\n",
    "    \"\"\"\n",
    "    Returns the next permutation of P according to dictionary ordering.\n",
    "    If there is no next permutation, returns an empty list.\n",
    "    For permutations p and q, p is ordered before q if, for the first letter where\n",
    "    p and q differ, p < q.\n",
    "    Time: O(n)\n",
    "    Space: O(1)\n",
    "    \"\"\"\n",
    "    # Find the index of the longest decreasing suffix, starting from the right\n",
    "    lds_idx = len(P) - 1 \n",
    "    for i in range(len(P) - 1, 0, -1):\n",
    "        if P[i - 1] > P[i]:\n",
    "            lds_idx -= 1\n",
    "        else:\n",
    "            break\n",
    "    \n",
    "    # If the entire array is the longest decreasing suffix, there is no next permutation\n",
    "    if lds_idx == 0:\n",
    "        return []\n",
    "    \n",
    "    # Find the index of the smallest element in P.\n",
    "    min_idx = np.argmin(P[lds_idx : ])  \n",
    "            \n",
    "    # The element right before the LDS should be swapped with the smallest\n",
    "    # element greater than it in the suffix. This increases the permutation\n",
    "    # by the minimal amount.\n",
    "    swap(P, lds_idx - 1, min_idx)\n",
    "    \n",
    "    # Re-order the suffix so that it is the next permutation.\n",
    "    # Since the suffix is in decreasing order up to the element that\n",
    "    # was swapped, the sub-suffix up to that point can be reversed \n",
    "    # to achieve this\n",
    "    P[lds_idx : len(P)] = P[len(P) - 1 : lds_idx - 1 : -1]\n",
    "    \n",
    "    return P\n",
    "        \n",
    "    \n",
    "        "
   ]
  },
  {
   "cell_type": "code",
   "execution_count": 74,
   "metadata": {},
   "outputs": [
    {
     "data": {
      "text/plain": [
       "[2, 1, 0, 3]"
      ]
     },
     "execution_count": 74,
     "metadata": {},
     "output_type": "execute_result"
    }
   ],
   "source": [
    "next_permutation([0, 1, 2, 3])"
   ]
  },
  {
   "cell_type": "code",
   "execution_count": 75,
   "metadata": {},
   "outputs": [
    {
     "data": {
      "text/plain": [
       "[1, 2, 0, 3]"
      ]
     },
     "execution_count": 75,
     "metadata": {},
     "output_type": "execute_result"
    }
   ],
   "source": [
    "next_permutation([0, 2, 1, 3])"
   ]
  },
  {
   "cell_type": "code",
   "execution_count": 76,
   "metadata": {},
   "outputs": [
    {
     "data": {
      "text/plain": [
       "[2, 1, 0, 3]"
      ]
     },
     "execution_count": 76,
     "metadata": {},
     "output_type": "execute_result"
    }
   ],
   "source": [
    "next_permutation([0, 3, 2, 1])"
   ]
  },
  {
   "cell_type": "code",
   "execution_count": 77,
   "metadata": {},
   "outputs": [
    {
     "data": {
      "text/plain": [
       "[]"
      ]
     },
     "execution_count": 77,
     "metadata": {},
     "output_type": "execute_result"
    }
   ],
   "source": [
    "next_permutation([3, 2, 1, 0])"
   ]
  }
 ],
 "metadata": {
  "kernelspec": {
   "display_name": "Python 3",
   "language": "python",
   "name": "python3"
  },
  "language_info": {
   "codemirror_mode": {
    "name": "ipython",
    "version": 3
   },
   "file_extension": ".py",
   "mimetype": "text/x-python",
   "name": "python",
   "nbconvert_exporter": "python",
   "pygments_lexer": "ipython3",
   "version": "3.7.4"
  }
 },
 "nbformat": 4,
 "nbformat_minor": 2
}
