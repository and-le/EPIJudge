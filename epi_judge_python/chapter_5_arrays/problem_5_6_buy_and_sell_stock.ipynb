{
 "cells": [
  {
   "cell_type": "code",
   "execution_count": 1,
   "metadata": {},
   "outputs": [
    {
     "data": {
      "text/plain": [
       "'\\nProblem 6.6: Buy and sell a stock once.\\nObjective: Maximize the profit that can by made by buying\\na stock on one day and selling it on a subsequent day.\\n'"
      ]
     },
     "execution_count": 1,
     "metadata": {},
     "output_type": "execute_result"
    }
   ],
   "source": [
    "\"\"\"\n",
    "Problem 5.6: Buy and sell a stock once.\n",
    "Objective: Maximize the profit that can by made by buying\n",
    "a stock on one day and selling it on a subsequent day.\n",
    "\"\"\""
   ]
  },
  {
   "cell_type": "code",
   "execution_count": 4,
   "metadata": {},
   "outputs": [],
   "source": [
    "def buy_and_sell_stock_once(A):\n",
    "    \"\"\"\n",
    "    Returns the maximum profit that can be made by buying a stock\n",
    "    on one day and selling it on a subsequent day. A[i] contains\n",
    "    the price of the stock on the ith day. If no profit can\n",
    "    be made, returns 0.\n",
    "    Time: O(n)\n",
    "    Space: O(1)\n",
    "    \"\"\"\n",
    "    min_stock = A[0] # Smallest-priced stock so far\n",
    "    p = 0 # max profit so far\n",
    "    for i in range(1, len(A)):\n",
    "        min_stock = min(min_stock, A[i])\n",
    "        p = max(p, A[i] - min_stock)\n",
    "    \n",
    "    return p   "
   ]
  },
  {
   "cell_type": "code",
   "execution_count": 6,
   "metadata": {},
   "outputs": [
    {
     "data": {
      "text/plain": [
       "9"
      ]
     },
     "execution_count": 6,
     "metadata": {},
     "output_type": "execute_result"
    }
   ],
   "source": [
    "buy_and_sell_stock_once([5, 1, 4, 10, 0])"
   ]
  },
  {
   "cell_type": "code",
   "execution_count": 10,
   "metadata": {},
   "outputs": [
    {
     "data": {
      "text/plain": [
       "0"
      ]
     },
     "execution_count": 10,
     "metadata": {},
     "output_type": "execute_result"
    }
   ],
   "source": [
    "buy_and_sell_stock_once([10, 5])"
   ]
  },
  {
   "cell_type": "code",
   "execution_count": 11,
   "metadata": {},
   "outputs": [
    {
     "data": {
      "text/plain": [
       "4"
      ]
     },
     "execution_count": 11,
     "metadata": {},
     "output_type": "execute_result"
    }
   ],
   "source": [
    "buy_and_sell_stock_once([1, 5])"
   ]
  },
  {
   "cell_type": "code",
   "execution_count": 12,
   "metadata": {},
   "outputs": [
    {
     "data": {
      "text/plain": [
       "19"
      ]
     },
     "execution_count": 12,
     "metadata": {},
     "output_type": "execute_result"
    }
   ],
   "source": [
    "buy_and_sell_stock_once([1, 5, 10, 1, 20])"
   ]
  },
  {
   "cell_type": "code",
   "execution_count": 22,
   "metadata": {},
   "outputs": [],
   "source": [
    "def longest_equal_subarray(A):\n",
    "    \"\"\"\n",
    "    Returns the length of the longest contiguous subarray in A in which\n",
    "    all of the elements are equal to each other.\n",
    "    Time: O(n)\n",
    "    Space: O(1)\n",
    "    \"\"\"\n",
    "    max_len = 1 # Length of the longest contiguous equal subarray found so far\n",
    "    curr_len = 1 # length of the current candidate for longest equal subarray\n",
    "    \n",
    "    # Base case: a single-element subarray has 1 equal element\n",
    "    if len(A) == 1:\n",
    "        return 1\n",
    "    \n",
    "    for i in range(1, len(A)):\n",
    "        # If the current element equals the previous element, then it\n",
    "        # is part of a sub-array of length at least 2\n",
    "        if A[i] == A[i - 1]:\n",
    "            curr_len += 1            \n",
    "            # Update the max length if applicable\n",
    "            max_len = max(max_len, curr_len)\n",
    "        else:\n",
    "            # Reset the length of the current candidate for longest equal subarray\n",
    "            curr_len = 1\n",
    "                \n",
    "#         print(f\"i = {i}\")\n",
    "#         print(f\"max_len = {max_len}\")\n",
    "#         print(f\"curr_len = {curr_len}\\n\")\n",
    "                \n",
    "    return max_len\n",
    "    \n",
    "    "
   ]
  },
  {
   "cell_type": "code",
   "execution_count": 23,
   "metadata": {},
   "outputs": [
    {
     "data": {
      "text/plain": [
       "1"
      ]
     },
     "execution_count": 23,
     "metadata": {},
     "output_type": "execute_result"
    }
   ],
   "source": [
    "longest_equal_subarray([1, 2, 1])"
   ]
  },
  {
   "cell_type": "code",
   "execution_count": 24,
   "metadata": {},
   "outputs": [
    {
     "data": {
      "text/plain": [
       "2"
      ]
     },
     "execution_count": 24,
     "metadata": {},
     "output_type": "execute_result"
    }
   ],
   "source": [
    "longest_equal_subarray([1, 1, 2])"
   ]
  },
  {
   "cell_type": "code",
   "execution_count": 25,
   "metadata": {},
   "outputs": [
    {
     "data": {
      "text/plain": [
       "1"
      ]
     },
     "execution_count": 25,
     "metadata": {},
     "output_type": "execute_result"
    }
   ],
   "source": [
    "longest_equal_subarray([1, 2, 3])"
   ]
  },
  {
   "cell_type": "code",
   "execution_count": 27,
   "metadata": {},
   "outputs": [
    {
     "data": {
      "text/plain": [
       "3"
      ]
     },
     "execution_count": 27,
     "metadata": {},
     "output_type": "execute_result"
    }
   ],
   "source": [
    "longest_equal_subarray([1, 1, 2, 1, 1, 1, 3])"
   ]
  },
  {
   "cell_type": "code",
   "execution_count": 30,
   "metadata": {},
   "outputs": [
    {
     "data": {
      "text/plain": [
       "2"
      ]
     },
     "execution_count": 30,
     "metadata": {},
     "output_type": "execute_result"
    }
   ],
   "source": [
    "longest_equal_subarray([1, 1, 2, 2, 1, 2, 1])"
   ]
  },
  {
   "cell_type": "code",
   "execution_count": null,
   "metadata": {},
   "outputs": [],
   "source": []
  }
 ],
 "metadata": {
  "kernelspec": {
   "display_name": "Python 3",
   "language": "python",
   "name": "python3"
  },
  "language_info": {
   "codemirror_mode": {
    "name": "ipython",
    "version": 3
   },
   "file_extension": ".py",
   "mimetype": "text/x-python",
   "name": "python",
   "nbconvert_exporter": "python",
   "pygments_lexer": "ipython3",
   "version": "3.7.4"
  }
 },
 "nbformat": 4,
 "nbformat_minor": 2
}
