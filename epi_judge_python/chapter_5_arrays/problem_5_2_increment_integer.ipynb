{
 "cells": [
  {
   "cell_type": "code",
   "execution_count": 1,
   "metadata": {},
   "outputs": [
    {
     "data": {
      "text/plain": [
       "'\\nProblem 5.2: Increment an arbitrary precision integer\\n'"
      ]
     },
     "execution_count": 1,
     "metadata": {},
     "output_type": "execute_result"
    }
   ],
   "source": [
    "\"\"\"\n",
    "Problem 5.2: Increment an arbitrary precision integer\n",
    "\"\"\""
   ]
  },
  {
   "cell_type": "code",
   "execution_count": null,
   "metadata": {},
   "outputs": [],
   "source": [
    "def incr_int(D):\n",
    "    \"\"\"\n",
    "    Adds 1 to the digit represented by the array D.\n",
    "    Returns the resulting array.\n",
    "    \"\"\"\n",
    "    i = len(D) - 1\n",
    "    carry = 0\n",
    "    while i >= 0:\n",
    "        if D[i] + 1 == 10:\n",
    "            carry = 1\n",
    "        else:\n",
    "            carry = 0\n",
    "            \n",
    "        # Increment this current digit\n",
    "        if carry:\n",
    "            D[i] = 0\n",
    "        else:\n",
    "            D[i] = D[i] + 1\n",
    "            \n",
    "        # If there is no carry, stop.\n",
    "        if not carry:\n",
    "            break\n",
    "        else:\n",
    "            i = i - 1\n",
    "    \n",
    "    # Check for overflow\n",
    "    if carry:\n",
    "        # Add a leading 1\n",
    "        lst = D.insert(0, 1)\n",
    "        return D\n",
    "    else:\n",
    "        return D"
   ]
  },
  {
   "cell_type": "code",
   "execution_count": null,
   "metadata": {},
   "outputs": [],
   "source": [
    "incr_int([1, 3, 9, 9])"
   ]
  },
  {
   "cell_type": "code",
   "execution_count": null,
   "metadata": {},
   "outputs": [],
   "source": [
    "incr_int([9, 9, 9])"
   ]
  },
  {
   "cell_type": "code",
   "execution_count": 14,
   "metadata": {},
   "outputs": [],
   "source": [
    "def incr_ints(B1, B2):\n",
    "    \"\"\"\n",
    "    Given two binary string representations of integers,\n",
    "    returns the result of adding both.\n",
    "    \"\"\"    \n",
    "    if not B1:\n",
    "        return B2\n",
    "    elif not B2:\n",
    "        return B1\n",
    "    \n",
    "    \n",
    "    i = len(B1) - 1 # Index into B1\n",
    "    j = len(B2) - 1 # Index into B2\n",
    "        \n",
    "    # Perform addition\n",
    "    sum_bit = 0\n",
    "    carry = 0   \n",
    "    result = [\"\" for x in range(max(len(B1), len(B2)) + 1)] \n",
    "    while i >= 0 and j >= 0:\n",
    "        sum_bit = int(B1[i]) ^ int(B2[j]) ^ carry\n",
    "        print(B1[i], B2[j], carry)\n",
    "        carry = (int(B1[i]) & int(B2[j])) | ((int(B1[i]) | int(B2[j])) & carry)\n",
    "        result[max(i, j) + 1] = str(sum_bit)\n",
    "        i -= 1\n",
    "        j -= 1\n",
    "        \n",
    "    print(i, j)\n",
    "    # Add up any remaining bits\n",
    "    while i >= 0:\n",
    "        sum_bit = int(B1[i]) ^ carry\n",
    "        carry = int(B1[i]) & carry\n",
    "        result[i + 1] = str(sum_bit)\n",
    "        i -= 1\n",
    "        \n",
    "    while j >= 0:\n",
    "        sum_bit = int(B2[j]) ^ carry\n",
    "        carry = int(B2[j]) & carry\n",
    "        result[j + 1] = str(sum_bit)  \n",
    "        j -= 1\n",
    "        \n",
    "    result[0] = str(carry)        \n",
    "    return result"
   ]
  },
  {
   "cell_type": "code",
   "execution_count": 16,
   "metadata": {},
   "outputs": [
    {
     "name": "stdout",
     "output_type": "stream",
     "text": [
      "0 1 0\n",
      "-1 1\n"
     ]
    },
    {
     "data": {
      "text/plain": [
       "['0', '1', '1', '1']"
      ]
     },
     "execution_count": 16,
     "metadata": {},
     "output_type": "execute_result"
    }
   ],
   "source": [
    "B1 = \"0\"\n",
    "B2 = \"111\"\n",
    "incr_ints(B1, B2)"
   ]
  },
  {
   "cell_type": "code",
   "execution_count": null,
   "metadata": {},
   "outputs": [],
   "source": []
  },
  {
   "cell_type": "code",
   "execution_count": null,
   "metadata": {},
   "outputs": [],
   "source": []
  }
 ],
 "metadata": {
  "kernelspec": {
   "display_name": "Python 3",
   "language": "python",
   "name": "python3"
  },
  "language_info": {
   "codemirror_mode": {
    "name": "ipython",
    "version": 3
   },
   "file_extension": ".py",
   "mimetype": "text/x-python",
   "name": "python",
   "nbconvert_exporter": "python",
   "pygments_lexer": "ipython3",
   "version": "3.7.4"
  }
 },
 "nbformat": 4,
 "nbformat_minor": 2
}
