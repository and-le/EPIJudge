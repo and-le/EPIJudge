{
 "cells": [
  {
   "cell_type": "code",
   "execution_count": 156,
   "metadata": {},
   "outputs": [],
   "source": [
    "def spiral_ordering(A):\n",
    "    \"\"\"\n",
    "    Returns the spiral ordering of a square 2D array.\n",
    "    Time: O(n^2)\n",
    "    Space: O(n^2)\n",
    "    \"\"\"\n",
    "    n = len(A[0])    \n",
    "    r = 0\n",
    "    c = 0\n",
    "    return spiral_ordering_helper(A, n, r, c)\n",
    "\n",
    "def spiral_ordering_helper(A, n, r, c):\n",
    "    \"\"\"\n",
    "    Helper method to return the spiral ordering of the\n",
    "    given 2D array, \"A\". The spiral ordering is returned\n",
    "    as a list\n",
    "    \n",
    "    Parameters:\n",
    "    n - the length of one side of the array \n",
    "    r - starting row index\n",
    "    c - starting column index\n",
    "    \"\"\"    \n",
    "    # Base cases - n = 1 and n = 2\n",
    "    if n == 1: return [A[r][c]]\n",
    "    elif n == 2: return [A[r][c], A[r][c + 1], A[r + 1][c + 1], A[r + 1][c]]\n",
    "    else:\n",
    "        # There are 2n + 2(n-2) elements in the outer spiral ordering.\n",
    "        # The 2n elements correspond to the top and bottom rows of the array.\n",
    "        # The 2(n - 2) elements correspond to the left and right columns of the array.\n",
    "        spiral_order = [None for x in range((2 * n) + (2 * (n - 2)))]\n",
    "        \n",
    "        # Index into spiral_order\n",
    "        idx = 0\n",
    "        \n",
    "        # Add the elements in the top row\n",
    "        for j in range(c, c + n):\n",
    "            spiral_order[idx] = A[r][j]\n",
    "            idx += 1\n",
    "            \n",
    "        # Add the elements in the right column, excluding the element from the top row that\n",
    "        # overlaps.\n",
    "        for i in range(r + 1, r + n):\n",
    "            spiral_order[idx] = A[i][c + n - 1]\n",
    "            idx += 1\n",
    "            \n",
    "        # Add the elements in the bottom row, excluding the element from the\n",
    "        # right column that overlaps\n",
    "        for j in reversed(range(c, c + n - 1)):\n",
    "            spiral_order[idx] = A[r + n - 1][j]\n",
    "            idx += 1\n",
    "            \n",
    "        # Add the elements in the left column, excluding the elements from\n",
    "        # the bottom row and top row that overlap.\n",
    "        for i in reversed(range(r + 1, r + n - 1)):\n",
    "            spiral_order[idx] = A[i][c]\n",
    "            idx += 1           \n",
    "            \n",
    "        # Recursively compute the spiral ordering for the smaller internal 2D array. \n",
    "        sub_spiral_order = spiral_ordering_helper(A, n - 2, r + 1, c + 1)\n",
    "        spiral_order.extend(sub_spiral_order)\n",
    "        return spiral_order"
   ]
  },
  {
   "cell_type": "code",
   "execution_count": 157,
   "metadata": {},
   "outputs": [],
   "source": [
    "def get_square_array(n):\n",
    "    A = [[None for i in range(n)] for j in range(n)]\n",
    "    k = 1\n",
    "    for i in range(n):\n",
    "        for j in range(n):\n",
    "            A[i][j] = k\n",
    "            k += 1\n",
    "    return A"
   ]
  },
  {
   "cell_type": "code",
   "execution_count": 158,
   "metadata": {},
   "outputs": [
    {
     "data": {
      "text/plain": [
       "[1, 2, 3, 6, 9, 8, 7, 4, 5]"
      ]
     },
     "execution_count": 158,
     "metadata": {},
     "output_type": "execute_result"
    }
   ],
   "source": [
    "# 3 x 3\n",
    "spiral_ordering(get_square_array(3))"
   ]
  },
  {
   "cell_type": "code",
   "execution_count": 159,
   "metadata": {},
   "outputs": [
    {
     "data": {
      "text/plain": [
       "[1, 2, 3, 4, 8, 12, 16, 15, 14, 13, 9, 5, 6, 7, 11, 10]"
      ]
     },
     "execution_count": 159,
     "metadata": {},
     "output_type": "execute_result"
    }
   ],
   "source": [
    "# 4 x 4 array\n",
    "spiral_ordering(get_square_array(4))   "
   ]
  },
  {
   "cell_type": "code",
   "execution_count": 160,
   "metadata": {},
   "outputs": [
    {
     "data": {
      "text/plain": [
       "[1,\n",
       " 2,\n",
       " 3,\n",
       " 4,\n",
       " 5,\n",
       " 10,\n",
       " 15,\n",
       " 20,\n",
       " 25,\n",
       " 24,\n",
       " 23,\n",
       " 22,\n",
       " 21,\n",
       " 16,\n",
       " 11,\n",
       " 6,\n",
       " 7,\n",
       " 8,\n",
       " 9,\n",
       " 14,\n",
       " 19,\n",
       " 18,\n",
       " 17,\n",
       " 12,\n",
       " 13]"
      ]
     },
     "execution_count": 160,
     "metadata": {},
     "output_type": "execute_result"
    }
   ],
   "source": [
    "# 5 x 5\n",
    "spiral_ordering(get_square_array(5))"
   ]
  },
  {
   "cell_type": "code",
   "execution_count": 162,
   "metadata": {},
   "outputs": [
    {
     "data": {
      "text/plain": [
       "[1,\n",
       " 2,\n",
       " 3,\n",
       " 4,\n",
       " 5,\n",
       " 6,\n",
       " 12,\n",
       " 18,\n",
       " 24,\n",
       " 30,\n",
       " 36,\n",
       " 35,\n",
       " 34,\n",
       " 33,\n",
       " 32,\n",
       " 31,\n",
       " 25,\n",
       " 19,\n",
       " 13,\n",
       " 7,\n",
       " 8,\n",
       " 9,\n",
       " 10,\n",
       " 11,\n",
       " 17,\n",
       " 23,\n",
       " 29,\n",
       " 28,\n",
       " 27,\n",
       " 26,\n",
       " 20,\n",
       " 14,\n",
       " 15,\n",
       " 16,\n",
       " 22,\n",
       " 21]"
      ]
     },
     "execution_count": 162,
     "metadata": {},
     "output_type": "execute_result"
    }
   ],
   "source": [
    "spiral_ordering(get_square_array(6))"
   ]
  },
  {
   "cell_type": "code",
   "execution_count": null,
   "metadata": {},
   "outputs": [],
   "source": []
  }
 ],
 "metadata": {
  "kernelspec": {
   "display_name": "Python 3",
   "language": "python",
   "name": "python3"
  },
  "language_info": {
   "codemirror_mode": {
    "name": "ipython",
    "version": 3
   },
   "file_extension": ".py",
   "mimetype": "text/x-python",
   "name": "python",
   "nbconvert_exporter": "python",
   "pygments_lexer": "ipython3",
   "version": "3.7.4"
  }
 },
 "nbformat": 4,
 "nbformat_minor": 2
}
