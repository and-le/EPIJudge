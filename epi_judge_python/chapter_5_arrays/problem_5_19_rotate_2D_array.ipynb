{
 "cells": [
  {
   "cell_type": "code",
   "execution_count": 6,
   "metadata": {},
   "outputs": [],
   "source": [
    "def rotate(A):\n",
    "    \"\"\"\n",
    "    Rotates the given n x n square 2D array by 90 degrees clockwise.\n",
    "    Example:\n",
    "    [\n",
    "     [1, 2, 3],\n",
    "     [4, 5, 6],\n",
    "     [7, 8, 9]    \n",
    "    ]\n",
    "    \n",
    "    becomes\n",
    "    [\n",
    "     [7, 4, 1],\n",
    "     [8, 5, 2],\n",
    "     [9, 6, 3]    \n",
    "    ]\n",
    "    \n",
    "    Time: O(n^2)\n",
    "    Space: O(n^2)    \n",
    "    \"\"\"\n",
    "    n = len(A[0])\n",
    "    temp = [[0 for i in range(n)] for j in range(n)]\n",
    "    for i in range(n):\n",
    "        for j in range(n):\n",
    "            temp[j][n - 1 - i] = A[i][j]\n",
    "            \n",
    "    return temp"
   ]
  },
  {
   "cell_type": "code",
   "execution_count": 7,
   "metadata": {},
   "outputs": [
    {
     "data": {
      "text/plain": [
       "[[7, 4, 1], [8, 5, 2], [9, 6, 3]]"
      ]
     },
     "execution_count": 7,
     "metadata": {},
     "output_type": "execute_result"
    }
   ],
   "source": [
    "A = [\n",
    "    [1, 2, 3],\n",
    "     [4, 5, 6],\n",
    "     [7, 8, 9]  \n",
    "]\n",
    "rotate(A)"
   ]
  },
  {
   "cell_type": "code",
   "execution_count": null,
   "metadata": {},
   "outputs": [],
   "source": []
  }
 ],
 "metadata": {
  "kernelspec": {
   "display_name": "Python 3",
   "language": "python",
   "name": "python3"
  },
  "language_info": {
   "codemirror_mode": {
    "name": "ipython",
    "version": 3
   },
   "file_extension": ".py",
   "mimetype": "text/x-python",
   "name": "python",
   "nbconvert_exporter": "python",
   "pygments_lexer": "ipython3",
   "version": "3.7.4"
  }
 },
 "nbformat": 4,
 "nbformat_minor": 2
}
