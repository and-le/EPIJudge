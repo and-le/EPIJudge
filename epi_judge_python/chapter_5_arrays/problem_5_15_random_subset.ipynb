{
 "cells": [
  {
   "cell_type": "code",
   "execution_count": 5,
   "metadata": {},
   "outputs": [],
   "source": [
    "import random"
   ]
  },
  {
   "cell_type": "code",
   "execution_count": 23,
   "metadata": {},
   "outputs": [],
   "source": [
    "def random_subset(n, k):\n",
    "    \"\"\"\n",
    "    Returns a random subset of size k, chosen from\n",
    "    the numbers {0, ..., n - 1}. All subsets are\n",
    "    equally likely.\n",
    "    \n",
    "    Time: O(k) (average)\n",
    "    Space: O(k)\n",
    "    \"\"\"\n",
    "    \n",
    "    # Dictionary [int, int] of modified integers in [0, n - 1]\n",
    "    # Each (key, value) pair represents (index of chosen element in final subset array, value of chosen element)\n",
    "    modified = {}\n",
    "    for i in range(k):\n",
    "        # Pick a number to be in the subset\n",
    "        rand_idx = random.randrange(i, n) \n",
    "        \n",
    "        # Get the actual value stored at this index.\n",
    "        # If the index isn't already in the dict,\n",
    "        # then the value returned is just rand_idx.\n",
    "        val_rand_idx = modified.get(rand_idx, rand_idx)\n",
    "        \n",
    "        # Get the actual value stored at location i in the subset array.\n",
    "        # If i hasn't been written to already, the value returned is just i\n",
    "        val_i = modified.get(i, i)\n",
    "           \n",
    "        # \"Swap\" the values stored at the randomly chosen index and at i.\n",
    "        modified[rand_idx] = val_i\n",
    "        modified[i] = val_rand_idx\n",
    "        \n",
    "    \n",
    "    return [modified[x] for x in range(k)]     "
   ]
  },
  {
   "cell_type": "code",
   "execution_count": 24,
   "metadata": {},
   "outputs": [
    {
     "data": {
      "text/plain": [
       "[6, 9, 4]"
      ]
     },
     "execution_count": 24,
     "metadata": {},
     "output_type": "execute_result"
    }
   ],
   "source": [
    "random_subset(10, 3)"
   ]
  },
  {
   "cell_type": "code",
   "execution_count": null,
   "metadata": {},
   "outputs": [],
   "source": []
  }
 ],
 "metadata": {
  "kernelspec": {
   "display_name": "Python 3",
   "language": "python",
   "name": "python3"
  },
  "language_info": {
   "codemirror_mode": {
    "name": "ipython",
    "version": 3
   },
   "file_extension": ".py",
   "mimetype": "text/x-python",
   "name": "python",
   "nbconvert_exporter": "python",
   "pygments_lexer": "ipython3",
   "version": "3.7.4"
  }
 },
 "nbformat": 4,
 "nbformat_minor": 2
}
