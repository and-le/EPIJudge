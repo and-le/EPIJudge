{
 "cells": [
  {
   "cell_type": "code",
   "execution_count": 14,
   "metadata": {},
   "outputs": [],
   "source": [
    "def evaluate_rpn(expr):\n",
    "    \"\"\"\n",
    "    Evaluates the given RPN string\n",
    "    \n",
    "    Time: O(n)\n",
    "    Space: O(1)\n",
    "    \"\"\"\n",
    "    \n",
    "    intermediates = []\n",
    "    delim = ','\n",
    "    operators = {\n",
    "        '+' : lambda x, y : y + x,\n",
    "        '-' : lambda x, y : y - x,\n",
    "        '*' : lambda x, y : y * x,\n",
    "        '/' : lambda x, y : y // x\n",
    "    }\n",
    "    \n",
    "    for token in expr.split(delim):\n",
    "        # If token is one of the operators\n",
    "        if token in operators:\n",
    "            # Apply the operator to the 2 most recent intermediates:\n",
    "            # The first argument is the most recent intermediate, the second\n",
    "            # argument is the one before it on the stack\n",
    "            temp = operators[token](intermediates.pop(), intermediates.pop())\n",
    "            intermediates.append(temp)        \n",
    "        # If token is an integer\n",
    "        else:            \n",
    "            intermediates.append(int(token))\n",
    "            \n",
    "    return intermediates[-1]"
   ]
  },
  {
   "cell_type": "code",
   "execution_count": 19,
   "metadata": {},
   "outputs": [
    {
     "data": {
      "text/plain": [
       "15"
      ]
     },
     "execution_count": 19,
     "metadata": {},
     "output_type": "execute_result"
    }
   ],
   "source": [
    "evaluate_rpn(\"3,4,+,2,*,1,+\")"
   ]
  },
  {
   "cell_type": "code",
   "execution_count": null,
   "metadata": {},
   "outputs": [],
   "source": []
  }
 ],
 "metadata": {
  "kernelspec": {
   "display_name": "Python 3",
   "language": "python",
   "name": "python3"
  },
  "language_info": {
   "codemirror_mode": {
    "name": "ipython",
    "version": 3
   },
   "file_extension": ".py",
   "mimetype": "text/x-python",
   "name": "python",
   "nbconvert_exporter": "python",
   "pygments_lexer": "ipython3",
   "version": "3.7.4"
  }
 },
 "nbformat": 4,
 "nbformat_minor": 2
}
