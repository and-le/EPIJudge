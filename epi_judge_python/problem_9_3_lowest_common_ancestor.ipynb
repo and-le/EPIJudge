{
 "cells": [
  {
   "cell_type": "code",
   "execution_count": 21,
   "metadata": {},
   "outputs": [],
   "source": [
    "import collections\n",
    "from bst_node import BstNode"
   ]
  },
  {
   "cell_type": "code",
   "execution_count": 22,
   "metadata": {},
   "outputs": [],
   "source": [
    "def lca(tree, node1, node2):\n",
    "    Status = collections.namedtuple(\"Status\", (\"num_target_nodes\", \"ancestor\"))\n",
    "    \n",
    "    def lca_helper(tree, node1, node2):\n",
    "        if tree is None:\n",
    "            return Status(num_target_nodes=0, ancestor=None)\n",
    "        \n",
    "        left_result = lca_helper(tree.left, node1, node2)\n",
    "        if left_result.num_target_nodes == 2:\n",
    "            return left_result\n",
    "        \n",
    "        right_result = lca_helper(tree.right, node1, node2)\n",
    "        if right_result.num_target_nodes == 2:\n",
    "            return right_result\n",
    "        \n",
    "        num_target_nodes = (left_result.num_target_nodes + right_result.num_target_nodes + (node1, node2).count(tree))\n",
    "        \n",
    "        return Status(num_target_nodes, tree if num_target_nodes == 2 else None)\n",
    "    \n",
    "    return lca_helper(tree, node1, node2).ancestor"
   ]
  },
  {
   "cell_type": "code",
   "execution_count": 23,
   "metadata": {},
   "outputs": [
    {
     "data": {
      "text/plain": [
       "[\"20\", \"10\", \"40\", \"5\", null, \"30\"]"
      ]
     },
     "execution_count": 23,
     "metadata": {},
     "output_type": "execute_result"
    }
   ],
   "source": [
    "# Nodes are in different subtrees\n",
    "root = BstNode(20)\n",
    "l1 = BstNode(10)\n",
    "l2 = BstNode(5)\n",
    "r1 = BstNode(40)\n",
    "r2 = BstNode(30)\n",
    "\n",
    "root.left = l1\n",
    "l1.left = l2\n",
    "\n",
    "root.right = r1\n",
    "r1.left = r2\n",
    "\n",
    "lca(root, l2, r2)\n",
    "\n",
    "\n"
   ]
  },
  {
   "cell_type": "code",
   "execution_count": 28,
   "metadata": {},
   "outputs": [
    {
     "data": {
      "text/plain": [
       "[\"40\", null, \"60\"]"
      ]
     },
     "execution_count": 28,
     "metadata": {},
     "output_type": "execute_result"
    }
   ],
   "source": [
    "# Nodes in same subtrees\n",
    "root = BstNode(20)\n",
    "r1 = BstNode(40)\n",
    "r2 = BstNode(60)\n",
    "\n",
    "root.right = r1\n",
    "r1.right = r2\n",
    "\n",
    "lca(root, r1, r2)"
   ]
  },
  {
   "cell_type": "code",
   "execution_count": null,
   "metadata": {},
   "outputs": [],
   "source": []
  },
  {
   "cell_type": "code",
   "execution_count": null,
   "metadata": {},
   "outputs": [],
   "source": []
  }
 ],
 "metadata": {
  "kernelspec": {
   "display_name": "Python 3",
   "language": "python",
   "name": "python3"
  },
  "language_info": {
   "codemirror_mode": {
    "name": "ipython",
    "version": 3
   },
   "file_extension": ".py",
   "mimetype": "text/x-python",
   "name": "python",
   "nbconvert_exporter": "python",
   "pygments_lexer": "ipython3",
   "version": "3.7.4"
  }
 },
 "nbformat": 4,
 "nbformat_minor": 2
}
