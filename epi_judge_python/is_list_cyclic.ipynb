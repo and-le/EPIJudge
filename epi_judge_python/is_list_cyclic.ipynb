{
 "cells": [
  {
   "cell_type": "code",
   "execution_count": 2,
   "metadata": {},
   "outputs": [],
   "source": [
    "\"\"\"\n",
    "Problem 8.3 : Testing a linked list for having a cycle\n",
    "\"\"\"\n",
    "from list_node import ListNode"
   ]
  },
  {
   "cell_type": "code",
   "execution_count": 18,
   "metadata": {},
   "outputs": [],
   "source": [
    "def has_cycle(L):\n",
    "    \"\"\"\n",
    "    Returns None if the given list does not have a cycle; otherwise,\n",
    "    returns the first node in the cycle if the list does contain\n",
    "    a cycle.\n",
    "    \n",
    "    Time: O(n)\n",
    "    Space: O(1)\n",
    "    \"\"\"    \n",
    "    # If list is just one node and cyclic\n",
    "    if L.next is L:\n",
    "        print(f\"List is just 1 node and cyclic\")\n",
    "        return L\n",
    "    \n",
    "    # Use two iterators, one fast and one slow. If there is a cycle,\n",
    "    # then the fast iterator will evntually overlap with the slow\n",
    "    # iterator.\n",
    "    fast = L\n",
    "    slow = L\n",
    "    while fast:\n",
    "        print(f\"Still in first loop\")\n",
    "\n",
    "        fast = fast.next\n",
    "        \n",
    "        # Check for a cycle or if the end of the linked list was reached\n",
    "        if (fast is slow) or (not fast):\n",
    "            break\n",
    "        \n",
    "        # Advance fast one more node\n",
    "        fast = fast.next\n",
    "        \n",
    "        # Check for a cycle\n",
    "        if (fast is slow) or (not fast):\n",
    "            break\n",
    "            \n",
    "        # Advance slow\n",
    "        slow = slow.next\n",
    "        \n",
    "    print(\"Exited first loop\")\n",
    "        \n",
    "    \n",
    "    # If there is no cycle, fast will be None\n",
    "    if not fast:\n",
    "        print(f\"No cycle\")\n",
    "        return None\n",
    "        \n",
    "    # To find the first node in the cycle, first determine the length of the cycle\n",
    "    cycle_len = 1\n",
    "    curr = fast.next\n",
    "    while curr is not fast:\n",
    "        cycle_len += 1\n",
    "        curr = curr.next\n",
    "        \n",
    "    print(f\"Cycle length = {cycle_len}\")\n",
    "    \n",
    "    # Determine the first node in the cycle, using a node at the start of the list, and a \n",
    "    # node of cycle_len nodes away. When iterators to both nodes overlap, the start node\n",
    "    # has been found.\n",
    "    \n",
    "    head = L\n",
    "    cycle_start = L\n",
    "    i = 0\n",
    "    while i < cycle_len:\n",
    "        cycle_start = cycle_start.next\n",
    "        i += 1\n",
    "    \n",
    "    while head is not cycle_start:\n",
    "        head = head.next\n",
    "        cycle_start = cycle_start.next\n",
    "        \n",
    "    return cycle_start"
   ]
  },
  {
   "cell_type": "code",
   "execution_count": 20,
   "metadata": {},
   "outputs": [
    {
     "name": "stdout",
     "output_type": "stream",
     "text": [
      "Still in first loop\n",
      "Still in first loop\n",
      "Still in first loop\n",
      "Exited first loop\n",
      "Cycle length = 3\n"
     ]
    },
    {
     "data": {
      "text/plain": [
       "3 -> 4 -> 5 -> 3 -> ... -> 3 -> ..."
      ]
     },
     "execution_count": 20,
     "metadata": {},
     "output_type": "execute_result"
    }
   ],
   "source": [
    "n1 = ListNode(1)\n",
    "n2 = ListNode(2)\n",
    "n3 = ListNode(3)\n",
    "n4 = ListNode(4)\n",
    "n5 = ListNode(5)\n",
    "\n",
    "n1.next = n2\n",
    "n2.next = n3\n",
    "n2.next = n3\n",
    "n3.next = n4\n",
    "n4.next = n5\n",
    "n5.next = n3 # Cycle start\n",
    "has_cycle(n1)"
   ]
  },
  {
   "cell_type": "code",
   "execution_count": null,
   "metadata": {},
   "outputs": [],
   "source": []
  },
  {
   "cell_type": "code",
   "execution_count": null,
   "metadata": {},
   "outputs": [],
   "source": []
  }
 ],
 "metadata": {
  "kernelspec": {
   "display_name": "Python 3",
   "language": "python",
   "name": "python3"
  },
  "language_info": {
   "codemirror_mode": {
    "name": "ipython",
    "version": 3
   },
   "file_extension": ".py",
   "mimetype": "text/x-python",
   "name": "python",
   "nbconvert_exporter": "python",
   "pygments_lexer": "ipython3",
   "version": "3.7.4"
  }
 },
 "nbformat": 4,
 "nbformat_minor": 2
}
