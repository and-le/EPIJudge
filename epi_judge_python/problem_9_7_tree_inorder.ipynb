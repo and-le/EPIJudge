{
 "cells": [
  {
   "cell_type": "code",
   "execution_count": 1,
   "metadata": {},
   "outputs": [],
   "source": [
    "from binary_tree_node import BinaryTreeNode"
   ]
  },
  {
   "cell_type": "code",
   "execution_count": 2,
   "metadata": {},
   "outputs": [],
   "source": [
    "def inorder(tree):\n",
    "    \"\"\"\n",
    "    Returns a list of the nodes visited rooted at \"tree\" in an inorder traversal. Does not use recursion.\n",
    "    \n",
    "    Time: O(n)\n",
    "    Space: O(h)\n",
    "    \"\"\"\n",
    "    results = []\n",
    "    processing = [(tree, False)]  # (node, whether_node's_children_have_been_processed)\n",
    "    while processing:\n",
    "        node, left_subtree_traversed = processing.pop()\n",
    "        if node:\n",
    "            if left_subtree_traversed:\n",
    "                results.append(node.data)\n",
    "            else:\n",
    "                processing.append((node.right, False))\n",
    "                processing.append((node, True))                \n",
    "                processing.append((node.left, False))\n",
    "                \n",
    "    return results\n",
    "                    "
   ]
  },
  {
   "cell_type": "code",
   "execution_count": 3,
   "metadata": {},
   "outputs": [
    {
     "data": {
      "text/plain": [
       "[25, 35, 50, 75, 85, 100]"
      ]
     },
     "execution_count": 3,
     "metadata": {},
     "output_type": "execute_result"
    }
   ],
   "source": [
    "\"\"\"\n",
    "                    50\n",
    "        25                  100\n",
    "        \n",
    "            35           75\n",
    "                             85\n",
    "                    \n",
    "\n",
    "\n",
    "\"\"\"\n",
    "\n",
    "root = BinaryTreeNode(50)\n",
    "l1 = BinaryTreeNode(25)\n",
    "l2 = BinaryTreeNode(35)\n",
    "r1 = BinaryTreeNode(100)\n",
    "r2 = BinaryTreeNode(75)\n",
    "r3 = BinaryTreeNode(85)\n",
    "root.left = l1\n",
    "l1.right = l2\n",
    "root.right = r1\n",
    "r1.left = r2\n",
    "r2.right = r3\n",
    "inorder(root)"
   ]
  },
  {
   "cell_type": "code",
   "execution_count": 10,
   "metadata": {},
   "outputs": [],
   "source": [
    "def preorder(tree):\n",
    "    results = []\n",
    "    processing = [tree]  \n",
    "    while processing:\n",
    "        node = processing.pop()\n",
    "        if node:\n",
    "            results.append(node.data)\n",
    "            processing.append(node.right)\n",
    "            processing.append(node.left)             \n",
    "                \n",
    "    return results\n",
    "    "
   ]
  },
  {
   "cell_type": "code",
   "execution_count": 11,
   "metadata": {},
   "outputs": [
    {
     "data": {
      "text/plain": [
       "[50, 25, 35, 100, 75, 85]"
      ]
     },
     "execution_count": 11,
     "metadata": {},
     "output_type": "execute_result"
    }
   ],
   "source": [
    "preorder(root)"
   ]
  },
  {
   "cell_type": "code",
   "execution_count": 16,
   "metadata": {},
   "outputs": [],
   "source": [
    "def postorder(tree):\n",
    "    results = []\n",
    "    processing = [(tree, False, False)]\n",
    "    while processing:\n",
    "        node, left_subtree_traversed, right_subtree_traversed = processing.pop()\n",
    "        if node:\n",
    "            if left_subtree_traversed and right_subtree_traversed:\n",
    "                results.append(node.data)\n",
    "            else:\n",
    "                processing.append((node, True, True))             \n",
    "                processing.append((node.right, False, False))\n",
    "                processing.append((node.left, False, False))\n",
    "\n",
    "    return results"
   ]
  },
  {
   "cell_type": "code",
   "execution_count": 17,
   "metadata": {},
   "outputs": [
    {
     "data": {
      "text/plain": [
       "[35, 25, 85, 75, 100, 50]"
      ]
     },
     "execution_count": 17,
     "metadata": {},
     "output_type": "execute_result"
    }
   ],
   "source": [
    "postorder(root)"
   ]
  },
  {
   "cell_type": "code",
   "execution_count": null,
   "metadata": {},
   "outputs": [],
   "source": []
  }
 ],
 "metadata": {
  "kernelspec": {
   "display_name": "Python 3",
   "language": "python",
   "name": "python3"
  },
  "language_info": {
   "codemirror_mode": {
    "name": "ipython",
    "version": 3
   },
   "file_extension": ".py",
   "mimetype": "text/x-python",
   "name": "python",
   "nbconvert_exporter": "python",
   "pygments_lexer": "ipython3",
   "version": "3.7.4"
  }
 },
 "nbformat": 4,
 "nbformat_minor": 2
}
