{
 "cells": [
  {
   "cell_type": "code",
   "execution_count": 2,
   "metadata": {},
   "outputs": [],
   "source": [
    "from list_node import ListNode"
   ]
  },
  {
   "cell_type": "code",
   "execution_count": 25,
   "metadata": {},
   "outputs": [],
   "source": [
    "def length(L):\n",
    "    if not L:\n",
    "        return 0\n",
    "    cur = L\n",
    "    i = 0\n",
    "    while cur:\n",
    "        cur = cur.next \n",
    "        i += 1\n",
    "    return i\n",
    "    \n",
    "def reverse_list(L):\n",
    "    cur = L\n",
    "    prev = None\n",
    "    while cur:\n",
    "        temp = cur.next\n",
    "        cur.next = prev\n",
    "        prev = cur\n",
    "        cur = temp\n",
    "    return prev"
   ]
  },
  {
   "cell_type": "code",
   "execution_count": 110,
   "metadata": {},
   "outputs": [],
   "source": [
    "def is_linked_list_palindromic(L):\n",
    "    \"\"\"\n",
    "    Returns True if the string represented by the linked list \"L\"\n",
    "    is a palindrome; False otherwise\n",
    "    \n",
    "    Time: O(n)\n",
    "    Space: O(1)\n",
    "    \"\"\"\n",
    "    \n",
    "    # Find the length of the list\n",
    "    size = length(L)\n",
    "    \n",
    "    # Find the middle of the list. \n",
    "    mid_idx = size // 2\n",
    "    mid = L\n",
    "    for i in range(mid_idx):\n",
    "        mid = mid.next        \n",
    "            \n",
    "    # Save the middle node\n",
    "    dummy_mid = mid\n",
    "    print(f\"Middle node is {dummy_mid}\")\n",
    "    \n",
    "    # Reverse the second half of the list\n",
    "    first_half_iter, second_half_iter = L, reverse_list(mid) \n",
    "    print(f\"Second half: {second_half_iter}\")\n",
    "    \n",
    "    # Save the reversed second half\n",
    "    dummy_second = second_half_iter\n",
    "    \n",
    "    # Compare the first half and the reversed second half\n",
    "    while first_half_iter and second_half_iter:\n",
    "        if first_half_iter.data == second_half_iter.data:\n",
    "            first_half_iter, second_half_iter = first_half_iter.next, second_half_iter.next\n",
    "        else:\n",
    "            # Restore the original list before exiting \n",
    "            dummy_mid = reverse_list(dummy_second)\n",
    "            return False\n",
    "        \n",
    "    # Restore the original list\n",
    "    dummy_mid = reverse_list(dummy_second)\n",
    "    \n",
    "    return True\n",
    "        \n"
   ]
  },
  {
   "cell_type": "code",
   "execution_count": 111,
   "metadata": {},
   "outputs": [
    {
     "name": "stdout",
     "output_type": "stream",
     "text": [
      "Middle node is v -> e -> l\n",
      "Second half: l -> e -> v\n",
      "l -> e -> v -> e -> l\n"
     ]
    }
   ],
   "source": [
    "L = ListNode(\"l\")\n",
    "n2 = ListNode(\"e\")\n",
    "n3 = ListNode(\"v\")\n",
    "n4 = ListNode(\"e\")\n",
    "n5 = ListNode(\"l\")\n",
    "L.next = n2\n",
    "n2.next = n3\n",
    "n3.next = n4\n",
    "n4.next = n5\n",
    "\n",
    "# n6 = ListNode(\"z\")\n",
    "# n5.next = n6\n",
    "is_linked_list_palindromic(L)\n",
    "print(L)"
   ]
  },
  {
   "cell_type": "code",
   "execution_count": 112,
   "metadata": {},
   "outputs": [
    {
     "name": "stdout",
     "output_type": "stream",
     "text": [
      "Middle node is b -> c\n",
      "Second half: c -> b\n",
      "a -> b -> b -> c\n"
     ]
    }
   ],
   "source": [
    "L = ListNode(\"a\")\n",
    "n2 = ListNode(\"b\")\n",
    "n3 = ListNode(\"b\")\n",
    "n4 = ListNode(\"c\")\n",
    "L.next = n2\n",
    "n2.next = n3\n",
    "n3.next = n4\n",
    "\n",
    "is_linked_list_palindromic(L)\n",
    "print(L)"
   ]
  },
  {
   "cell_type": "code",
   "execution_count": null,
   "metadata": {},
   "outputs": [],
   "source": []
  },
  {
   "cell_type": "code",
   "execution_count": null,
   "metadata": {},
   "outputs": [],
   "source": []
  }
 ],
 "metadata": {
  "kernelspec": {
   "display_name": "Python 3",
   "language": "python",
   "name": "python3"
  },
  "language_info": {
   "codemirror_mode": {
    "name": "ipython",
    "version": 3
   },
   "file_extension": ".py",
   "mimetype": "text/x-python",
   "name": "python",
   "nbconvert_exporter": "python",
   "pygments_lexer": "ipython3",
   "version": "3.7.4"
  }
 },
 "nbformat": 4,
 "nbformat_minor": 2
}
