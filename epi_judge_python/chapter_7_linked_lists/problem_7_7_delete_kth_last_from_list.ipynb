{
 "cells": [
  {
   "cell_type": "code",
   "execution_count": 2,
   "metadata": {},
   "outputs": [],
   "source": [
    "from list_node import ListNode"
   ]
  },
  {
   "cell_type": "code",
   "execution_count": 53,
   "metadata": {},
   "outputs": [],
   "source": [
    "def delete_kth_last_v2(L, k):\n",
    "    \"\"\"\n",
    "    Deletes the kth last element of the given list.\n",
    "    The given list L must have at least k elements.\n",
    "    \n",
    "    Example: For the list 1 -> 2 -> 3, the 1st last element (k = 1) is 3,\n",
    "    and the 3rd last element (k = 3) is 1.\n",
    "    \n",
    "    The 0th last element is not defined (k = 0).\n",
    "    \n",
    "    Time: O(n)\n",
    "    Space: O(1)\n",
    "    \"\"\"\n",
    "    # \"Dummy\" head node\n",
    "    head = ListNode(0, L)\n",
    "    \n",
    "    # Advance one iterator k nodes ahead\n",
    "    iter2 = head.next    \n",
    "    for _ in range(k):\n",
    "        iter2 = iter2.next\n",
    "        \n",
    "    # Advance both iterators until the end of the list is reached\n",
    "    iter1 = head                \n",
    "    while iter2:\n",
    "        iter1 = iter1.next\n",
    "        iter2 = iter2.next\n",
    "        \n",
    "    # iter1 points to the (k + 1)st-last element (i.e. the element right before the kth last element)    \n",
    "    iter1.next = iter1.next.next\n",
    "    \n",
    "    return head.next"
   ]
  },
  {
   "cell_type": "code",
   "execution_count": 54,
   "metadata": {},
   "outputs": [
    {
     "data": {
      "text/plain": [
       "1 -> 2 -> 4"
      ]
     },
     "execution_count": 54,
     "metadata": {},
     "output_type": "execute_result"
    }
   ],
   "source": [
    "n1 = ListNode(1)\n",
    "n2 = ListNode(2)\n",
    "n3 = ListNode(3)\n",
    "n4 = ListNode(4)\n",
    "n1.next = n2\n",
    "n2.next = n3\n",
    "n3.next = n4\n",
    "delete_kth_last_v2(n1, 2)"
   ]
  },
  {
   "cell_type": "code",
   "execution_count": 23,
   "metadata": {},
   "outputs": [],
   "source": [
    "def delete_kth_last_v1(L, k):\n",
    "    \"\"\"\n",
    "    Deletes the kth last element of the given list\n",
    "    \"\"\"\n",
    "    prev, cur = None, L\n",
    "    \n",
    "    # Reverse the list\n",
    "    while cur:\n",
    "        temp = cur.next\n",
    "        cur.next = prev\n",
    "        prev = cur\n",
    "        cur = temp\n",
    "    \n",
    "    head = prev\n",
    "        \n",
    "    cur = prev = head\n",
    "    i = 0\n",
    "    \n",
    "    # Find the kth last element\n",
    "    while cur and i < k:\n",
    "        prev = cur\n",
    "        cur = cur.next\n",
    "        i += 1        \n",
    " \n",
    "    print(f\"{k}th last element: {cur.data}\")\n",
    "        \n",
    "    # Delete the kth last element\n",
    "    prev.next = cur.next\n",
    "    \n",
    "    # Case in which element to delete is the last element\n",
    "    if i == 0:\n",
    "        head = cur.next             \n",
    "        \n",
    "    # Reverse the list again\n",
    "    prev, cur = None, head\n",
    "    while cur:\n",
    "        temp = cur.next\n",
    "        cur.next = prev\n",
    "        prev = cur\n",
    "        cur = temp\n",
    "        \n",
    "    head = prev\n",
    "    return head      "
   ]
  },
  {
   "cell_type": "code",
   "execution_count": null,
   "metadata": {},
   "outputs": [],
   "source": []
  }
 ],
 "metadata": {
  "kernelspec": {
   "display_name": "Python 3",
   "language": "python",
   "name": "python3"
  },
  "language_info": {
   "codemirror_mode": {
    "name": "ipython",
    "version": 3
   },
   "file_extension": ".py",
   "mimetype": "text/x-python",
   "name": "python",
   "nbconvert_exporter": "python",
   "pygments_lexer": "ipython3",
   "version": "3.7.4"
  }
 },
 "nbformat": 4,
 "nbformat_minor": 2
}
