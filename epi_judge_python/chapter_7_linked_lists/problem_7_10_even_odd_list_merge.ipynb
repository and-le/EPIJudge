{
 "cells": [
  {
   "cell_type": "code",
   "execution_count": 1,
   "metadata": {},
   "outputs": [],
   "source": [
    "from list_node import ListNode"
   ]
  },
  {
   "cell_type": "code",
   "execution_count": 28,
   "metadata": {},
   "outputs": [],
   "source": [
    "def merge(L):\n",
    "    \"\"\"\n",
    "    Performs an even-odd merge on the given linked list.\n",
    "    The nodes in the list are numbered with indexes 0, 1, 2, ...\n",
    "    The even-odd merge rearranges the list so that the nodes\n",
    "    appear in the order 0, 2, 4, ... , 1 (i.e. even indexes followed by odd indexes)\n",
    "    Time: O(n)\n",
    "    Space: O(1)\n",
    "    \"\"\"\n",
    "    if not L:\n",
    "        return L\n",
    "    if not L.next:\n",
    "        return L\n",
    "    \n",
    "    # Maintain two lists: one of the even-numbered nodes and one\n",
    "    # of the odd-numbered nodes\n",
    "    cur_even, cur_odd = ListNode(-2, None), ListNode(-1, None)\n",
    "    \n",
    "    # \"Dummy\" head pointers\n",
    "    head_even, head_odd = cur_even, cur_odd    \n",
    "   \n",
    "    # Indicator variable to determine which list to append to\n",
    "    append_to_even = True\n",
    "    cur = L\n",
    "    while cur:\n",
    "        \n",
    "        if append_to_even:\n",
    "            # Add the next odd-numbered node to the odds list\n",
    "            cur_odd.next = cur.next\n",
    "            cur_odd = cur_odd.next\n",
    "            \n",
    "            # Add the next even-numbered node to the evens list\n",
    "            cur_even.next = cur\n",
    "            cur_even = cur_even.next\n",
    "            \n",
    "            append_to_even = False\n",
    "            \n",
    "        else:\n",
    "            append_to_even = True\n",
    "        \n",
    "        # Advance the current node\n",
    "        cur = cur.next   \n",
    "            \n",
    "    # Append the odd-numbered nodes to the even-numbered nodes\n",
    "    cur_even.next = head_odd.next\n",
    "    return head_even.next"
   ]
  },
  {
   "cell_type": "code",
   "execution_count": 29,
   "metadata": {},
   "outputs": [
    {
     "data": {
      "text/plain": [
       "0 -> 2 -> 4 -> 1 -> 3"
      ]
     },
     "execution_count": 29,
     "metadata": {},
     "output_type": "execute_result"
    }
   ],
   "source": [
    "L = ListNode(0)\n",
    "n1 = ListNode(1)\n",
    "n2 = ListNode(2)\n",
    "n3 = ListNode(3)\n",
    "n4 = ListNode(4)\n",
    "L.next = n1\n",
    "n1.next = n2\n",
    "n2.next = n3\n",
    "n3.next = n4\n",
    "merge(L)"
   ]
  },
  {
   "cell_type": "code",
   "execution_count": null,
   "metadata": {},
   "outputs": [],
   "source": []
  }
 ],
 "metadata": {
  "kernelspec": {
   "display_name": "Python 3",
   "language": "python",
   "name": "python3"
  },
  "language_info": {
   "codemirror_mode": {
    "name": "ipython",
    "version": 3
   },
   "file_extension": ".py",
   "mimetype": "text/x-python",
   "name": "python",
   "nbconvert_exporter": "python",
   "pygments_lexer": "ipython3",
   "version": "3.7.4"
  }
 },
 "nbformat": 4,
 "nbformat_minor": 2
}
