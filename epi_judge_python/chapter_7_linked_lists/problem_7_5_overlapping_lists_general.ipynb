{
 "cells": [
  {
   "cell_type": "code",
   "execution_count": 3,
   "metadata": {},
   "outputs": [],
   "source": [
    "from problem_7_3_is_list_cyclic import has_cycle\n",
    "from problem_7_4_do_terminated_lists_overlap import overlapping_no_cycle_lists"
   ]
  },
  {
   "cell_type": "code",
   "execution_count": 4,
   "metadata": {},
   "outputs": [],
   "source": [
    "def overlapping_lists(L1, L2):\n",
    "    \"\"\"\n",
    "    Returns a shared node between L1 and L2, if one exists;\n",
    "    None otherwise.\n",
    "    Lists L1 and L2 may contain cycles.\n",
    "    \n",
    "    Time: O(n), n = number of nodes in L1 + number of nodes in L2\n",
    "    Space: O(1)\n",
    "    \"\"\"\n",
    "    \n",
    "    # Get the starting node of each cycle, if one exists\n",
    "    cycle1, cycle2 = has_cycle(L1), has_cycle(L2)\n",
    "    \n",
    "    # If both lists are acyclic:\n",
    "    if not cycle1 and not cycle2:\n",
    "        return overlapping_no_cycle_lists(L1, L2)\n",
    "    \n",
    "    # If one list is cyclic and the other is acyclic, there cannot\n",
    "    # be a shared node\n",
    "    if (cycle1 and not cycle2) or (not cycle1 and cycle2):\n",
    "        return None\n",
    "    \n",
    "    # If both lists are cyclic, they must contain the same cycle, if they overlap at all\n",
    "    \n",
    "    temp = cycle1.next\n",
    "    while temp:\n",
    "        temp = temp.next\n",
    "        # If a shared node was found or all nodes in the cycle were traversed but no shared node was found\n",
    "        if temp == cycle2 or temp == cycle1:\n",
    "            break\n",
    "    \n",
    "    return cycle2 if temp == cycle2 else None"
   ]
  },
  {
   "cell_type": "code",
   "execution_count": null,
   "metadata": {},
   "outputs": [],
   "source": []
  }
 ],
 "metadata": {
  "kernelspec": {
   "display_name": "Python 3",
   "language": "python",
   "name": "python3"
  },
  "language_info": {
   "codemirror_mode": {
    "name": "ipython",
    "version": 3
   },
   "file_extension": ".py",
   "mimetype": "text/x-python",
   "name": "python",
   "nbconvert_exporter": "python",
   "pygments_lexer": "ipython3",
   "version": "3.7.4"
  }
 },
 "nbformat": 4,
 "nbformat_minor": 2
}
