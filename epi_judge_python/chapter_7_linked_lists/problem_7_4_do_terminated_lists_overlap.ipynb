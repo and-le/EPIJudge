{
 "cells": [
  {
   "cell_type": "code",
   "execution_count": 5,
   "metadata": {},
   "outputs": [],
   "source": [
    "from list_node import ListNode"
   ]
  },
  {
   "cell_type": "code",
   "execution_count": 6,
   "metadata": {},
   "outputs": [],
   "source": [
    "def length(L):\n",
    "    \"\"\"\n",
    "    Returns the length of the given list L.\n",
    "    \"\"\"\n",
    "    cur = L\n",
    "    length = 0\n",
    "    while cur:\n",
    "        length += 1\n",
    "        cur = cur.next\n",
    "        \n",
    "    return length\n",
    "\n",
    "\n",
    "def advance(L, k):\n",
    "    \"\"\"\n",
    "    Returns a pointer to the kth node in the given list.\n",
    "    If k > length(L), returns None.\n",
    "    \"\"\"\n",
    "    cur = L\n",
    "    i = 0\n",
    "    while cur and i < k:\n",
    "        i += 1\n",
    "        cur = cur.next\n",
    "        \n",
    "    return cur\n",
    "\n",
    "def overlapping_no_cycle_lists(L1, L2):\n",
    "    \"\"\"\n",
    "    Returns the first overlapping node between L1 and L2, if one exists.\n",
    "    Otherwise, returns None.\n",
    "    \n",
    "    Time: O(n), n = total number of nodes\n",
    "    Space: O(1)\n",
    "    \"\"\"\n",
    "    len_L1 = length(L1)\n",
    "    len_L2 = length(L2)\n",
    "    \n",
    "    # The first overlapping node is found by advancing the longer list by \n",
    "    # abs(len_L1 - len_L2) nodes and then advancing both lists one node\n",
    "    # at a time until there is a common node.\n",
    "    cur_L1 = L1\n",
    "    cur_L2 = L2\n",
    "    \n",
    "    if len_L1 > len_L2:\n",
    "        cur_L1 = advance(L1, len_L1 - len_L2)\n",
    "    elif len_L2 > len_L1:\n",
    "        cur_L2 = advance(L2, len_L2 - len_L1)\n",
    "    # No advancing is needed if both lists have the same length\n",
    "    \n",
    "    while cur_L1 and cur_L2:\n",
    "        if cur_L1 == cur_L2:\n",
    "            return cur_L1\n",
    "        else:\n",
    "            cur_L1 = cur_L1.next\n",
    "            cur_L2 = cur_L2.next\n",
    "    \n",
    "    # If there were no common nodes, cur_L1 will be None\n",
    "    return cur_L1   "
   ]
  },
  {
   "cell_type": "code",
   "execution_count": 10,
   "metadata": {},
   "outputs": [
    {
     "data": {
      "text/plain": [
       "5 -> 7"
      ]
     },
     "execution_count": 10,
     "metadata": {},
     "output_type": "execute_result"
    }
   ],
   "source": [
    "# Both lists have the same length, with an overlapping node in the middle.\n",
    "n1_L1 = ListNode(3)\n",
    "n2_L1 = ListNode(5)\n",
    "n3_L1 = ListNode(7)\n",
    "\n",
    "n1_L1.next = n2_L1\n",
    "n2_L1.next = n3_L1\n",
    "\n",
    "n1_L2 = ListNode(2)\n",
    "n1_L2.next = n2_L1\n",
    "\n",
    "overlapping_no_cycle_lists(n1_L1, n1_L2)"
   ]
  },
  {
   "cell_type": "code",
   "execution_count": 11,
   "metadata": {},
   "outputs": [
    {
     "data": {
      "text/plain": [
       "7 -> 9"
      ]
     },
     "execution_count": 11,
     "metadata": {},
     "output_type": "execute_result"
    }
   ],
   "source": [
    "# One list is longer than the other\n",
    "n1_L1 = ListNode(3)\n",
    "n2_L1 = ListNode(5)\n",
    "n3_L1 = ListNode(7)\n",
    "n4_L1 = ListNode(9)\n",
    "\n",
    "n1_L1.next = n2_L1\n",
    "n2_L1.next = n3_L1\n",
    "n3_L1.next = n4_L1\n",
    "\n",
    "\n",
    "n1_L2 = ListNode(2)\n",
    "n1_L2.next = n3_L1\n",
    "\n",
    "overlapping_no_cycle_lists(n1_L1, n1_L2)"
   ]
  },
  {
   "cell_type": "code",
   "execution_count": null,
   "metadata": {},
   "outputs": [],
   "source": []
  }
 ],
 "metadata": {
  "kernelspec": {
   "display_name": "Python 3",
   "language": "python",
   "name": "python3"
  },
  "language_info": {
   "codemirror_mode": {
    "name": "ipython",
    "version": 3
   },
   "file_extension": ".py",
   "mimetype": "text/x-python",
   "name": "python",
   "nbconvert_exporter": "python",
   "pygments_lexer": "ipython3",
   "version": "3.7.4"
  }
 },
 "nbformat": 4,
 "nbformat_minor": 2
}
