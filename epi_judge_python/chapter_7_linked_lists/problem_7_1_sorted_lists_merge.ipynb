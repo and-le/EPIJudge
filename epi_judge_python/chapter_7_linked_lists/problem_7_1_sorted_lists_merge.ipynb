{
 "cells": [
  {
   "cell_type": "code",
   "execution_count": 27,
   "metadata": {},
   "outputs": [],
   "source": [
    "\"\"\"\n",
    "Problem 7.1 : Merging two sorted linked lists\n",
    "\"\"\"\n",
    "from typing import Optional\n",
    "from list_node import ListNode"
   ]
  },
  {
   "cell_type": "code",
   "execution_count": 54,
   "metadata": {},
   "outputs": [],
   "source": [
    "def merge_two_sorted_lists(L1: Optional[ListNode],\n",
    "                           L2: Optional[ListNode]) -> Optional[ListNode]:\n",
    "    \"\"\"\n",
    "    Let n = size of list 1, m = size of list 2.\n",
    "    Time: O(n + m)\n",
    "    Space: O(1)\n",
    "    \"\"\"\n",
    "    # Edge cases\n",
    "    if not L1:\n",
    "        return L2\n",
    "    if not L2:\n",
    "        return L1\n",
    "    if not L1 and not L2:\n",
    "        return None\n",
    "    \n",
    "    curr_L1 = L1\n",
    "    curr_L2 = L2\n",
    "    \n",
    "    # Dummy head node\n",
    "    head = ListNode(None, None)\n",
    "    curr = head\n",
    "    \n",
    "    while curr_L1 and curr_L2:\n",
    "        # Debug statement: shows progress of building the sorted list\n",
    "        print(f\"L1 = {curr_L1}\\nL2 = {curr_L2}\")\n",
    "        if curr_L1.data <= curr_L2.data:\n",
    "            curr.next = curr_L1\n",
    "            curr = curr_L1\n",
    "            curr_L1 = curr_L1.next\n",
    "        else:\n",
    "            curr.next = curr_L2\n",
    "            curr = curr_L2\n",
    "            curr_L2 = curr_L2.next\n",
    "            \n",
    "    # Append the rest of the nodes\n",
    "    if not curr_L1:\n",
    "        curr.next = curr_L2\n",
    "    elif not curr_L2:\n",
    "        curr.next = curr_L1\n",
    "        \n",
    "    return head.next"
   ]
  },
  {
   "cell_type": "code",
   "execution_count": 53,
   "metadata": {},
   "outputs": [
    {
     "name": "stdout",
     "output_type": "stream",
     "text": [
      "L1 = 1 -> 2 -> 3\n",
      "L2 = 2 -> 4 -> 5\n",
      "L1 = 2 -> 3\n",
      "L2 = 2 -> 4 -> 5\n",
      "L1 = 3\n",
      "L2 = 2 -> 4 -> 5\n",
      "L1 = 3\n",
      "L2 = 4 -> 5\n"
     ]
    },
    {
     "data": {
      "text/plain": [
       "1 -> 2 -> 2 -> 3 -> 4 -> 5"
      ]
     },
     "execution_count": 53,
     "metadata": {},
     "output_type": "execute_result"
    }
   ],
   "source": [
    "# Test input\n",
    "# Linked list: 1 -> 2 -> 3\n",
    "A_node_3 = ListNode(3, None)\n",
    "A_node_2 = ListNode(2, A_node_3)\n",
    "head_A = ListNode(1, A_node_2)\n",
    "\n",
    "# Linked list: 2 -> 4 -> 5\n",
    "\n",
    "B_node_3 = ListNode(5, None)\n",
    "B_node_2 = ListNode(4, B_node_3)\n",
    "head_B = ListNode(2, B_node_2)\n",
    "\n",
    "merge_two_sorted_lists(head_A, head_B)"
   ]
  }
 ],
 "metadata": {
  "kernelspec": {
   "display_name": "Python 3",
   "language": "python",
   "name": "python3"
  },
  "language_info": {
   "codemirror_mode": {
    "name": "ipython",
    "version": 3
   },
   "file_extension": ".py",
   "mimetype": "text/x-python",
   "name": "python",
   "nbconvert_exporter": "python",
   "pygments_lexer": "ipython3",
   "version": "3.7.4"
  }
 },
 "nbformat": 4,
 "nbformat_minor": 2
}
