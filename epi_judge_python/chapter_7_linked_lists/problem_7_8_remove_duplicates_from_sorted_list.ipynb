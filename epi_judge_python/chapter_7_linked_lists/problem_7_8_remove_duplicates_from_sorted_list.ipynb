{
 "cells": [
  {
   "cell_type": "code",
   "execution_count": 1,
   "metadata": {},
   "outputs": [],
   "source": [
    "from list_node import ListNode"
   ]
  },
  {
   "cell_type": "code",
   "execution_count": 2,
   "metadata": {},
   "outputs": [],
   "source": [
    "def remove_duplicates(L):\n",
    "    \"\"\"\n",
    "    Removes all of the duplicates from the given sorted linked list.\n",
    "    \n",
    "    Time: O(n)\n",
    "    Space: O(1)\n",
    "    \"\"\"\n",
    "    prev = L\n",
    "    cur = L.next\n",
    "    \n",
    "    while cur:\n",
    "        # If there is a duplicate\n",
    "        if prev.data == cur.data:\n",
    "            # Delete the duplicate node\n",
    "            prev.next = cur.next \n",
    "            \n",
    "            cur = cur.next\n",
    "            \n",
    "        # If there is a non-duplicate\n",
    "        else:\n",
    "            prev = cur\n",
    "            cur = cur.next\n",
    "            \n",
    "    return L\n",
    "        "
   ]
  },
  {
   "cell_type": "code",
   "execution_count": 4,
   "metadata": {},
   "outputs": [
    {
     "data": {
      "text/plain": [
       "1 -> 2 -> 3"
      ]
     },
     "execution_count": 4,
     "metadata": {},
     "output_type": "execute_result"
    }
   ],
   "source": [
    "n1 = ListNode(1)\n",
    "n2 = ListNode(1)\n",
    "n3 = ListNode(2)\n",
    "n4 = ListNode(3)\n",
    "n5 = ListNode(3)\n",
    "n6 = ListNode(3)\n",
    "n1.next = n2\n",
    "n2.next = n3\n",
    "n3.next = n4\n",
    "n4.next = n5\n",
    "n5.next = n6\n",
    "remove_duplicates(n1)"
   ]
  },
  {
   "cell_type": "code",
   "execution_count": null,
   "metadata": {},
   "outputs": [],
   "source": []
  }
 ],
 "metadata": {
  "kernelspec": {
   "display_name": "Python 3",
   "language": "python",
   "name": "python3"
  },
  "language_info": {
   "codemirror_mode": {
    "name": "ipython",
    "version": 3
   },
   "file_extension": ".py",
   "mimetype": "text/x-python",
   "name": "python",
   "nbconvert_exporter": "python",
   "pygments_lexer": "ipython3",
   "version": "3.7.4"
  }
 },
 "nbformat": 4,
 "nbformat_minor": 2
}
