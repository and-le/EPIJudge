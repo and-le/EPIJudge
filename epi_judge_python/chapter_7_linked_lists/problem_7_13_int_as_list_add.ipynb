{
 "cells": [
  {
   "cell_type": "code",
   "execution_count": 1,
   "metadata": {},
   "outputs": [],
   "source": [
    "from list_node import ListNode"
   ]
  },
  {
   "cell_type": "code",
   "execution_count": 2,
   "metadata": {},
   "outputs": [],
   "source": [
    "def add_integers(L1, L2):\n",
    "    \"\"\"\n",
    "    Adds the two integers represented by L1 and L2. The least significant digits\n",
    "    appear first in the lists.\n",
    "    Let n = size(L1), m = size(L2)\n",
    "    \n",
    "    Time: O(n + m)\n",
    "    Space: O(max(n, m))\n",
    "    \"\"\"\n",
    "    \n",
    "    head = digit_iter = ListNode()    \n",
    "    iter1, iter2 = L1, L2\n",
    "    carry = 0\n",
    "    \n",
    "    while iter1 or iter2 or carry:\n",
    "        digit_sum = (carry + (iter1.data if iter1 else 0) + (iter2.data if iter2 else 0))\n",
    "        \n",
    "        carry = digit_sum // 10\n",
    "        \n",
    "        iter1 = iter1.next if iter1 else None\n",
    "        iter2 = iter2.next if iter2 else None\n",
    "        \n",
    "        # Append the next digit\n",
    "        digit_iter.next = ListNode(digit_sum % 10, None)\n",
    "        digit_iter= digit_iter.next\n",
    "        \n",
    "    return head.next\n",
    "        "
   ]
  },
  {
   "cell_type": "code",
   "execution_count": 3,
   "metadata": {},
   "outputs": [
    {
     "data": {
      "text/plain": [
       "1 -> 2 -> 1"
      ]
     },
     "execution_count": 3,
     "metadata": {},
     "output_type": "execute_result"
    }
   ],
   "source": [
    "L1 = ListNode(7)\n",
    "L1.next = ListNode(3, None)\n",
    "\n",
    "L2 = ListNode(4)\n",
    "L2.next = ListNode(8, None)\n",
    "\n",
    "add_integers(L1, L2)"
   ]
  },
  {
   "cell_type": "code",
   "execution_count": null,
   "metadata": {},
   "outputs": [],
   "source": []
  }
 ],
 "metadata": {
  "kernelspec": {
   "display_name": "Python 3",
   "language": "python",
   "name": "python3"
  },
  "language_info": {
   "codemirror_mode": {
    "name": "ipython",
    "version": 3
   },
   "file_extension": ".py",
   "mimetype": "text/x-python",
   "name": "python",
   "nbconvert_exporter": "python",
   "pygments_lexer": "ipython3",
   "version": "3.7.4"
  }
 },
 "nbformat": 4,
 "nbformat_minor": 2
}
