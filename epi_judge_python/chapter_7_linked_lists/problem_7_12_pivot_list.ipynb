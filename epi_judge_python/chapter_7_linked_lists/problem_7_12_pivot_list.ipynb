{
 "cells": [
  {
   "cell_type": "code",
   "execution_count": 2,
   "metadata": {},
   "outputs": [],
   "source": [
    "from list_node import ListNode"
   ]
  },
  {
   "cell_type": "code",
   "execution_count": 7,
   "metadata": {},
   "outputs": [],
   "source": [
    "def pivot_list(L, k):\n",
    "    \"\"\"\n",
    "    Reorders the list \"L\" so that all nodes whose keys are less than k appear\n",
    "    before all nodes whose keys are equal to k, followed by all nodes\n",
    "    whose keys are greater than k. The relative ordering of the nodes is\n",
    "    unchanged.\n",
    "    \n",
    "    Time: O(n)\n",
    "    Space: O(1)\n",
    "    \"\"\"\n",
    "    cur = L\n",
    "    less_head = less_iter = ListNode()\n",
    "    eq_head = eq_iter = ListNode()\n",
    "    greater_head = greater_iter = ListNode()\n",
    "    \n",
    "    cur = L\n",
    "    while cur:\n",
    "        if cur.data < k:\n",
    "            less_iter.next = cur\n",
    "            less_iter = less_iter.next\n",
    "        elif cur.data == k:\n",
    "            eq_iter.next = cur\n",
    "            eq_iter = eq_iter.next\n",
    "        else:\n",
    "            greater_iter.next = cur\n",
    "            greater_iter = greater_iter.next\n",
    "        \n",
    "        cur = cur.next\n",
    "       \n",
    "    # Prepend the less-than nodes to the equal-to nodes\n",
    "    less_iter.next = eq_head.next\n",
    "    \n",
    "    # Prepend the equal-to nodes to the greater-than nodes\n",
    "    eq_iter.next = greater_head.next\n",
    "    \n",
    "    greater_iter.next = None\n",
    "    \n",
    "    return less_head.next"
   ]
  },
  {
   "cell_type": "code",
   "execution_count": 8,
   "metadata": {},
   "outputs": [
    {
     "data": {
      "text/plain": [
       "1 -> 2 -> 3 -> 5"
      ]
     },
     "execution_count": 8,
     "metadata": {},
     "output_type": "execute_result"
    }
   ],
   "source": [
    "L = ListNode(5)\n",
    "n2 = ListNode(1)\n",
    "n3 = ListNode(3)\n",
    "n4 = ListNode(2)\n",
    "L.next = n2\n",
    "n2.next = n3\n",
    "n3.next = n4\n",
    "\n",
    "pivot_list(L, 3)"
   ]
  },
  {
   "cell_type": "code",
   "execution_count": null,
   "metadata": {},
   "outputs": [],
   "source": []
  }
 ],
 "metadata": {
  "kernelspec": {
   "display_name": "Python 3",
   "language": "python",
   "name": "python3"
  },
  "language_info": {
   "codemirror_mode": {
    "name": "ipython",
    "version": 3
   },
   "file_extension": ".py",
   "mimetype": "text/x-python",
   "name": "python",
   "nbconvert_exporter": "python",
   "pygments_lexer": "ipython3",
   "version": "3.7.4"
  }
 },
 "nbformat": 4,
 "nbformat_minor": 2
}
