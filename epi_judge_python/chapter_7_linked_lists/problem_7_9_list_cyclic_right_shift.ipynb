{
 "cells": [
  {
   "cell_type": "code",
   "execution_count": 1,
   "metadata": {},
   "outputs": [],
   "source": [
    "from list_node import ListNode"
   ]
  },
  {
   "cell_type": "code",
   "execution_count": 28,
   "metadata": {},
   "outputs": [],
   "source": [
    "def cyclically_right_shift_list(L, k):\n",
    "    \"\"\"\n",
    "    Shifts the linked list \"L\" right by k nodes.\n",
    "    Time: O(n)\n",
    "    Space: O(1)\n",
    "    \"\"\"   \n",
    "\n",
    "    # Find the length of the list\n",
    "    dummy = L.next\n",
    "    size = 1\n",
    "    while dummy:\n",
    "        size += 1\n",
    "        dummy = dummy.next    \n",
    "    \n",
    "#     print(size)\n",
    "    # Ensure that k is between 1 and size\n",
    "    k = k % size\n",
    "    \n",
    "    # If k == 0, then no shifting occurs\n",
    "    if k == 0:\n",
    "        return L    \n",
    "    \n",
    "    dummy_head = ListNode(0, L)\n",
    "    \n",
    "    # Advance k nodes through the list\n",
    "    last = dummy_head.next\n",
    "    for _ in range(k):\n",
    "        last = last.next\n",
    "        \n",
    "    # Find the kth last node in the list\n",
    "    cur = dummy_head.next\n",
    "    \n",
    "    while last.next:\n",
    "        cur = cur.next\n",
    "        last = last.next\n",
    "        \n",
    "    # cur contains the (k+1)st last node\n",
    "    # last contains the (1st) last node\n",
    "#     print(cur.data)\n",
    "#     print(last.data)\n",
    "    \n",
    "    # kth last node becomes the new head node\n",
    "    new_head = cur.next\n",
    "    \n",
    "    # (k + 1)st last node becomes the new tail node\n",
    "    cur.next = None\n",
    "    \n",
    "    # Last node's next reference becomes the old head node\n",
    "    last.next = dummy_head.next\n",
    "    \n",
    "    return new_head"
   ]
  },
  {
   "cell_type": "code",
   "execution_count": 29,
   "metadata": {},
   "outputs": [
    {
     "data": {
      "text/plain": [
       "2 -> 3 -> 4 -> 5 -> 6"
      ]
     },
     "execution_count": 29,
     "metadata": {},
     "output_type": "execute_result"
    }
   ],
   "source": [
    "L = ListNode(2)\n",
    "n2 = ListNode(3)\n",
    "n3 = ListNode(4)\n",
    "n4 = ListNode(5)\n",
    "n5 = ListNode(6)\n",
    "L.next = n2\n",
    "n2.next = n3\n",
    "n3.next = n4\n",
    "n4.next = n5\n",
    "shift(L, 5)"
   ]
  },
  {
   "cell_type": "code",
   "execution_count": null,
   "metadata": {},
   "outputs": [],
   "source": []
  }
 ],
 "metadata": {
  "kernelspec": {
   "display_name": "Python 3",
   "language": "python",
   "name": "python3"
  },
  "language_info": {
   "codemirror_mode": {
    "name": "ipython",
    "version": 3
   },
   "file_extension": ".py",
   "mimetype": "text/x-python",
   "name": "python",
   "nbconvert_exporter": "python",
   "pygments_lexer": "ipython3",
   "version": "3.7.4"
  }
 },
 "nbformat": 4,
 "nbformat_minor": 2
}
