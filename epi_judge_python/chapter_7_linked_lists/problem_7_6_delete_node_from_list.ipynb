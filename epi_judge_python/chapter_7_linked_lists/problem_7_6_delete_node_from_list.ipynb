{
 "cells": [
  {
   "cell_type": "code",
   "execution_count": 2,
   "metadata": {},
   "outputs": [],
   "source": [
    "from list_node import ListNode"
   ]
  },
  {
   "cell_type": "code",
   "execution_count": 3,
   "metadata": {},
   "outputs": [],
   "source": [
    "def deletion_from_list(node):\n",
    "    \"\"\"\n",
    "    Deletes the given node \"node\" from its associated linked list.\n",
    "    \"node\" must not be the tail node of the linked list.\n",
    "    \n",
    "    Time: O(1)\n",
    "    Space: O(1)\n",
    "    \"\"\"\n",
    "    \n",
    "    # Copy the next node's data into the node to be deleted\n",
    "    node.data = node.next.data\n",
    "    \n",
    "    # Copy the reference to the node following the next node into the\n",
    "    # node to be deleted\n",
    "    node.next = node.next.next"
   ]
  },
  {
   "cell_type": "code",
   "execution_count": 6,
   "metadata": {},
   "outputs": [
    {
     "data": {
      "text/plain": [
       "1 -> 3"
      ]
     },
     "execution_count": 6,
     "metadata": {},
     "output_type": "execute_result"
    }
   ],
   "source": [
    "n1 = ListNode(1)\n",
    "n2 = ListNode(2)\n",
    "n3 = ListNode(3)\n",
    "n1.next = n2\n",
    "n2.next = n3\n",
    "deletion_from_list(n2)\n",
    "n1"
   ]
  }
 ],
 "metadata": {
  "kernelspec": {
   "display_name": "Python 3",
   "language": "python",
   "name": "python3"
  },
  "language_info": {
   "codemirror_mode": {
    "name": "ipython",
    "version": 3
   },
   "file_extension": ".py",
   "mimetype": "text/x-python",
   "name": "python",
   "nbconvert_exporter": "python",
   "pygments_lexer": "ipython3",
   "version": "3.7.4"
  }
 },
 "nbformat": 4,
 "nbformat_minor": 2
}
