{
 "cells": [
  {
   "cell_type": "code",
   "execution_count": 1,
   "metadata": {},
   "outputs": [],
   "source": [
    "from binary_tree_node import BinaryTreeNode"
   ]
  },
  {
   "cell_type": "code",
   "execution_count": 17,
   "metadata": {},
   "outputs": [],
   "source": [
    "def has_sum(num, tree):\n",
    "    \"\"\"\n",
    "    Returns True if the binary tree rooted at \"tree\" contains a root-to-leaf path whose sum == \"num\",\n",
    "    False otherwise.\n",
    "    \n",
    "    Time: O(n)\n",
    "    Space: O(h)\n",
    "    \"\"\"\n",
    "    def has_sum_helper(num, tree, partial_sum):\n",
    "        if not tree.left and not tree.right:\n",
    "            return (tree.data + partial_sum == num)\n",
    "        \n",
    "        # If the left subtree contains a path whose root-to-leaf sum == num\n",
    "        left_has_sum = has_sum_helper(num, tree.left, tree.data + partial_sum) if tree.left else False\n",
    "        \n",
    "        # If the right subtree contains a path whose root-to-leaf sum == num\n",
    "        right_has_sum = has_sum_helper(num, tree.right, tree.data + partial_sum) if tree.right else False\n",
    "        \n",
    "        return left_has_sum or right_has_sum\n",
    "    \n",
    "    \n",
    "    return has_sum_helper(num, tree, 0)\n",
    "\n",
    "\n",
    "def has_path_sum(tree, remaining_weight):\n",
    "    \"\"\"\n",
    "    Alternative implementation\n",
    "    \"\"\"\n",
    "    if not tree:\n",
    "        return False\n",
    "    if not tree.left and not tree.right:\n",
    "        return tree.data == remaining_weight\n",
    "    return (has_path_sum(tree.left, remaining_weight - tree.data)) or (has_path_sum(tree.right, remaining_weight - tree.data))"
   ]
  },
  {
   "cell_type": "code",
   "execution_count": 13,
   "metadata": {},
   "outputs": [],
   "source": [
    "# Root only\n",
    "tree = BinaryTreeNode(20)\n",
    "assert has_sum(20, tree)"
   ]
  },
  {
   "cell_type": "code",
   "execution_count": 14,
   "metadata": {},
   "outputs": [],
   "source": [
    "# Path exists; in left subtree\n",
    "tree = BinaryTreeNode(20)\n",
    "l1 = BinaryTreeNode(10)\n",
    "l2 = BinaryTreeNode(15)\n",
    "r1 = BinaryTreeNode(40)\n",
    "tree.left = l1\n",
    "l1.right = l2\n",
    "tree.right = r1\n",
    "assert has_sum(45, tree)"
   ]
  },
  {
   "cell_type": "code",
   "execution_count": 15,
   "metadata": {},
   "outputs": [],
   "source": [
    "# Root-to-leaf path doesn't exist; intermediate path exists\n",
    "tree = BinaryTreeNode(20)\n",
    "l1 = BinaryTreeNode(10)\n",
    "l2 = BinaryTreeNode(15)\n",
    "r1 = BinaryTreeNode(40)\n",
    "tree.left = l1\n",
    "l1.right = l2\n",
    "tree.right = r1\n",
    "assert not has_sum(30, tree)"
   ]
  },
  {
   "cell_type": "code",
   "execution_count": null,
   "metadata": {},
   "outputs": [],
   "source": []
  }
 ],
 "metadata": {
  "kernelspec": {
   "display_name": "Python 3",
   "language": "python",
   "name": "python3"
  },
  "language_info": {
   "codemirror_mode": {
    "name": "ipython",
    "version": 3
   },
   "file_extension": ".py",
   "mimetype": "text/x-python",
   "name": "python",
   "nbconvert_exporter": "python",
   "pygments_lexer": "ipython3",
   "version": "3.7.4"
  }
 },
 "nbformat": 4,
 "nbformat_minor": 2
}
