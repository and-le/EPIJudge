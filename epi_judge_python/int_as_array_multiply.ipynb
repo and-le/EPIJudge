{
 "cells": [
  {
   "cell_type": "code",
   "execution_count": 2,
   "metadata": {},
   "outputs": [],
   "source": [
    "\"\"\"\n",
    "Problem 6.3 : Multiply two arbitrary-precision integers\n",
    "\"\"\"\n",
    "import numpy as np"
   ]
  },
  {
   "cell_type": "code",
   "execution_count": 17,
   "metadata": {},
   "outputs": [],
   "source": [
    "def int_as_array_multiply(L1, L2):\n",
    "    sign = -1 if (L1[0] < 0) ^ (L2[0] < 0) else 1\n",
    "    result = np.zeros(len(L1) + len(L2))\n",
    "    for i in range(len(L1) - 1, -1, -1):\n",
    "        for j in range(len(L2) - 1, -1, -1):\n",
    "            result[i + j + 1] += L1[i] * L2[j] # Product of digits\n",
    "            result[i + j] += result[i + j + 1] // 10 # Carry digit\n",
    "            result[i + j + 1] %= 10 # Least significant digit\n",
    "                        \n",
    "    # Remove leading zeros\n",
    "    k = 0\n",
    "    while result[k] == 0 and k < result.size:\n",
    "        k += 1 \n",
    "        \n",
    "    # k is the index of the digit after the leading zeros    \n",
    "    if sign == -1:\n",
    "        result[k] *= -1\n",
    "    \n",
    "    return result[k:]"
   ]
  },
  {
   "cell_type": "code",
   "execution_count": 18,
   "metadata": {},
   "outputs": [
    {
     "data": {
      "text/plain": [
       "array([1., 2., 1., 4., 0., 1.])"
      ]
     },
     "execution_count": 18,
     "metadata": {},
     "output_type": "execute_result"
    }
   ],
   "source": [
    "L1 = [1, 2, 3]\n",
    "L2 = [9, 8, 7]\n",
    "int_as_array_multiply(L1, L2)"
   ]
  },
  {
   "cell_type": "code",
   "execution_count": null,
   "metadata": {},
   "outputs": [],
   "source": []
  }
 ],
 "metadata": {
  "kernelspec": {
   "display_name": "Python 3",
   "language": "python",
   "name": "python3"
  },
  "language_info": {
   "codemirror_mode": {
    "name": "ipython",
    "version": 3
   },
   "file_extension": ".py",
   "mimetype": "text/x-python",
   "name": "python",
   "nbconvert_exporter": "python",
   "pygments_lexer": "ipython3",
   "version": "3.7.4"
  }
 },
 "nbformat": 4,
 "nbformat_minor": 2
}
