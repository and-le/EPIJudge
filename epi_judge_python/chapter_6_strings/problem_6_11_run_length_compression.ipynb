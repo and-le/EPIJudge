{
 "cells": [
  {
   "cell_type": "code",
   "execution_count": 40,
   "metadata": {},
   "outputs": [],
   "source": [
    "def encode(s):\n",
    "    \"\"\"\n",
    "    Returns the run-length encoding of the given string.\n",
    "    The run-length encoding of a string is a string in which\n",
    "    each run (i.e. consecutive sequence) of characters in \n",
    "    the string is encoded in as (length of run) (character).\n",
    "    \n",
    "    For example, the run-length encoding of aaba is\n",
    "    2a1b1a.\n",
    "    \n",
    "    Time: O(n)\n",
    "    Space: O(n)\n",
    "    \"\"\"\n",
    "    enc = []\n",
    "    i = 1\n",
    "    count = 1\n",
    "    while i < len(s):\n",
    "        \n",
    "        # If this character is the same as the previous one,\n",
    "        # increment the count\n",
    "        if s[i] == s[i - 1]:\n",
    "            count += 1\n",
    "            i += 1\n",
    "            \n",
    "        # If this character is different from the previous one,\n",
    "        # append the previous run and reset the count\n",
    "        else:\n",
    "            \n",
    "            enc.append(str(count))\n",
    "            enc.append(s[i - 1])\n",
    "            count = 1\n",
    "            i += 1\n",
    "    \n",
    "    # Add the final character encoding\n",
    "    enc.append(str(count))\n",
    "    enc.append(s[i - 1])\n",
    "    return ''.join(enc)\n",
    "    \n",
    "def decode(s):\n",
    "    \"\"\"\n",
    "    Returns the uncompressed string corresponding to the\n",
    "    valid encoded string, \"s\".\n",
    "    Time: O(n)\n",
    "    Space: O(n)\n",
    "    \"\"\"\n",
    "    dec = []\n",
    "    i = 0\n",
    "    for i in range(0, len(s) - 1, 2):\n",
    "        dec.append(s[i]) # Length of run\n",
    "        dec.append(s[i + 1]) # Character in run\n",
    "                \n",
    "    result = \"\"\n",
    "    for i in range(0, len(dec) - 1, 2):\n",
    "        result += dec[i + 1] * int(dec[i])\n",
    "        \n",
    "    return result\n",
    "    "
   ]
  },
  {
   "cell_type": "code",
   "execution_count": 42,
   "metadata": {},
   "outputs": [],
   "source": [
    "assert encode(\"abbaa\") == \"1a2b2a\"\n",
    "assert decode(\"1a2b2a\") == \"abbaa\""
   ]
  },
  {
   "cell_type": "code",
   "execution_count": null,
   "metadata": {},
   "outputs": [],
   "source": []
  }
 ],
 "metadata": {
  "kernelspec": {
   "display_name": "Python 3",
   "language": "python",
   "name": "python3"
  },
  "language_info": {
   "codemirror_mode": {
    "name": "ipython",
    "version": 3
   },
   "file_extension": ".py",
   "mimetype": "text/x-python",
   "name": "python",
   "nbconvert_exporter": "python",
   "pygments_lexer": "ipython3",
   "version": "3.7.4"
  }
 },
 "nbformat": 4,
 "nbformat_minor": 2
}
