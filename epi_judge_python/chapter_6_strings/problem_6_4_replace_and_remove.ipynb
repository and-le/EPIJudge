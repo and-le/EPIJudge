{
 "cells": [
  {
   "cell_type": "code",
   "execution_count": 9,
   "metadata": {},
   "outputs": [],
   "source": [
    "def replace_and_remove(size, A):\n",
    "    \"\"\"\n",
    "    Replaces all occurences of \"a\" in the given array A with 2 copies\n",
    "    of \"d\" and removes all occurrences of \"b\" in the array.\n",
    "    Returns the updated array and the remaining number of valid elements.\n",
    "    \n",
    "    size - number of valid elements in A\n",
    "    A - array representation of a string. Its capacity must be large\n",
    "    enough to hold the final result\n",
    "    \n",
    "    Time: O(n)\n",
    "    Space: O(1)\n",
    "    \"\"\"\n",
    "    # Remove all 'b' occurrences and count the number of 'a' occurrences.\n",
    "    write_idx = 0\n",
    "    count_a = 0\n",
    "    for i in range(size):\n",
    "        if A[i] != 'b':\n",
    "            A[write_idx] = A[i]\n",
    "            write_idx += 1\n",
    "            \n",
    "        if A[i] == 'a':\n",
    "            count_a += 1\n",
    "                        \n",
    "    # Replace the 'a' with two copies of 'd'\n",
    "    cur_idx = write_idx - 1 # Index moves from right to left as 'a' is replaced\n",
    "    write_idx += count_a - 1\n",
    "    count_valid = write_idx + 1\n",
    "    \n",
    "    while cur_idx >= 0:\n",
    "        \n",
    "        print(A)\n",
    "        \n",
    "        if A[cur_idx] == 'a':\n",
    "            A[write_idx - 1 : write_idx + 1] = 'dd'\n",
    "            write_idx -= 2\n",
    "        else:\n",
    "            A[write_idx] = A[cur_idx]\n",
    "            write_idx -= 1  \n",
    "            \n",
    "        cur_idx -= 1\n",
    "        \n",
    "        \n",
    "            \n",
    "    return A, count_valid\n",
    "    \n",
    "    "
   ]
  },
  {
   "cell_type": "code",
   "execution_count": 10,
   "metadata": {},
   "outputs": [
    {
     "name": "stdout",
     "output_type": "stream",
     "text": [
      "['a', 'a', 'c', 'c', '_', '_']\n",
      "['a', 'a', 'c', 'c', 'c', '_']\n",
      "['a', 'a', 'd', 'd', 'c', '_']\n"
     ]
    },
    {
     "data": {
      "text/plain": [
       "(['d', 'd', 'd', 'd', 'c', '_'], 5)"
      ]
     },
     "execution_count": 10,
     "metadata": {},
     "output_type": "execute_result"
    }
   ],
   "source": [
    "replace_and_remove(4, [\"a\", \"a\", \"b\", \"c\", \"_\", \"_\"])"
   ]
  },
  {
   "cell_type": "code",
   "execution_count": 11,
   "metadata": {},
   "outputs": [
    {
     "name": "stdout",
     "output_type": "stream",
     "text": [
      "['c', 'd', 'e', 'f', 'f', '_']\n",
      "['c', 'd', 'e', 'f', 'f', '_']\n",
      "['c', 'd', 'e', 'f', 'f', '_']\n",
      "['c', 'd', 'e', 'f', 'f', '_']\n"
     ]
    },
    {
     "data": {
      "text/plain": [
       "(['c', 'd', 'e', 'f', 'f', '_'], 4)"
      ]
     },
     "execution_count": 11,
     "metadata": {},
     "output_type": "execute_result"
    }
   ],
   "source": [
    "replace_and_remove(5, [\"b\", \"c\", \"d\", \"e\", \"f\", \"_\"])"
   ]
  },
  {
   "cell_type": "code",
   "execution_count": null,
   "metadata": {},
   "outputs": [],
   "source": []
  }
 ],
 "metadata": {
  "kernelspec": {
   "display_name": "Python 3",
   "language": "python",
   "name": "python3"
  },
  "language_info": {
   "codemirror_mode": {
    "name": "ipython",
    "version": 3
   },
   "file_extension": ".py",
   "mimetype": "text/x-python",
   "name": "python",
   "nbconvert_exporter": "python",
   "pygments_lexer": "ipython3",
   "version": "3.7.4"
  }
 },
 "nbformat": 4,
 "nbformat_minor": 2
}
