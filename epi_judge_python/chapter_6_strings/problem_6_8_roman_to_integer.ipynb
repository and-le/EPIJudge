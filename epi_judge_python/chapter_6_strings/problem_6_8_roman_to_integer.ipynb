{
 "cells": [
  {
   "cell_type": "code",
   "execution_count": 28,
   "metadata": {},
   "outputs": [],
   "source": [
    "def is_special_case(x, y):\n",
    "    \"\"\"\n",
    "    Returns True if the Roman numeral x, when followed by y, is a special case; False otherwise.\n",
    "    \"\"\"\n",
    "    if x == 'I' and y in ['V', 'X']:\n",
    "        return True\n",
    "    elif x == 'X' and y in ['L', 'C']:\n",
    "        return True\n",
    "    elif x == 'C' and y in ['D', 'M']:\n",
    "        return True\n",
    "    else:\n",
    "        return False\n",
    "    \n",
    "def roman_to_integer(s):\n",
    "    \"\"\"\n",
    "    Returns the integer value for the given string in\n",
    "    Roman numerals. The string must be valid: all symbols are in non-increasing order\n",
    "    of value, except for the special cases of I, X, and C.\n",
    "    I may precede V or X.\n",
    "    X may precede L or C.\n",
    "    C may precede D or M.\n",
    "    \n",
    "    Time: O(n), n = len(s)\n",
    "    Space: O(1)\n",
    "    \"\"\" \n",
    "    \n",
    "    values = {'I': 1, 'V' : 5, 'X' : 10, 'L' : 50, 'C' : 100, 'D' : 500, 'M' : 1000}\n",
    "    special_cases = ['I', 'X', 'C']\n",
    "    \n",
    "    # Single-numeral case\n",
    "    if len(s) == 1:\n",
    "        return values[s[0]]\n",
    "    \n",
    "    num = 0\n",
    "    i = 0\n",
    "    \n",
    "    while i < len(s) - 1:\n",
    "        if s[i] in special_cases:\n",
    "            if is_special_case(s[i], s[i + 1]):\n",
    "                num += values[s[i + 1]] - values[s[i]]\n",
    "                i += 2\n",
    "            else:\n",
    "                num += values[s[i]]\n",
    "                \n",
    "                # Case in which the next-to-lasr character of the string\n",
    "                # has been reached\n",
    "                if i + 1 == len(s) - 1:\n",
    "                    num += values[s[i + 1]]\n",
    "                i += 1\n",
    "        else:\n",
    "            num += values[s[i]]\n",
    "            i += 1\n",
    "    return num"
   ]
  },
  {
   "cell_type": "code",
   "execution_count": 29,
   "metadata": {},
   "outputs": [
    {
     "data": {
      "text/plain": [
       "909"
      ]
     },
     "execution_count": 29,
     "metadata": {},
     "output_type": "execute_result"
    }
   ],
   "source": [
    "roman_to_integer('CMIX')"
   ]
  },
  {
   "cell_type": "code",
   "execution_count": null,
   "metadata": {},
   "outputs": [],
   "source": []
  }
 ],
 "metadata": {
  "kernelspec": {
   "display_name": "Python 3",
   "language": "python",
   "name": "python3"
  },
  "language_info": {
   "codemirror_mode": {
    "name": "ipython",
    "version": 3
   },
   "file_extension": ".py",
   "mimetype": "text/x-python",
   "name": "python",
   "nbconvert_exporter": "python",
   "pygments_lexer": "ipython3",
   "version": "3.7.4"
  }
 },
 "nbformat": 4,
 "nbformat_minor": 2
}
