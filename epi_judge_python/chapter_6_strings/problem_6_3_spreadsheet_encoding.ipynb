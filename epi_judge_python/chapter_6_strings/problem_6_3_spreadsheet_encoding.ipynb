{
 "cells": [
  {
   "cell_type": "code",
   "execution_count": 14,
   "metadata": {},
   "outputs": [],
   "source": [
    "def spreadsheet_encode(s):\n",
    "    \"\"\"\n",
    "    Returns the spreadsheet encoding of the given string.\n",
    "    The string may only contain letters in [A, Z]. The value\n",
    "    of A = 1, Z = 26\n",
    "    Time: O(n), n = length of string\n",
    "    Space: O(1)\n",
    "    \"\"\"\n",
    "    n = len(s)\n",
    "    encoding = 0\n",
    "    for i in range(n):\n",
    "        # Subtract by the '@' character so that the value of 'A' is 1, 'B' is 2, etc.\n",
    "        encoding += ( ord(s[i]) - ord('@') ) * (26 ** i)\n",
    "        \n",
    "    return encoding\n",
    "        "
   ]
  },
  {
   "cell_type": "code",
   "execution_count": 19,
   "metadata": {},
   "outputs": [],
   "source": [
    "assert spreadsheet_encode(\"A\") == 1\n",
    "assert spreadsheet_encode(\"Y\") == 25\n",
    "assert spreadsheet_encode(\"Z\") == 26\n",
    "assert spreadsheet_encode(\"AA\") == 27\n",
    "assert spreadsheet_encode(\"ZZ\") == 702\n",
    "assert spreadsheet_encode(\"ABC\") == 2081"
   ]
  }
 ],
 "metadata": {
  "kernelspec": {
   "display_name": "Python 3",
   "language": "python",
   "name": "python3"
  },
  "language_info": {
   "codemirror_mode": {
    "name": "ipython",
    "version": 3
   },
   "file_extension": ".py",
   "mimetype": "text/x-python",
   "name": "python",
   "nbconvert_exporter": "python",
   "pygments_lexer": "ipython3",
   "version": "3.7.4"
  }
 },
 "nbformat": 4,
 "nbformat_minor": 2
}
