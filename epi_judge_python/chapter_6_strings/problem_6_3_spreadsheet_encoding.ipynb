{
 "cells": [
  {
   "cell_type": "code",
   "execution_count": 14,
   "metadata": {},
   "outputs": [],
   "source": [
    "def spreadsheet_encode(s):\n",
    "    \"\"\"\n",
    "    Returns the spreadsheet encoding of the given string.\n",
    "    The string may only contain letters in [A, Z]. The value\n",
    "    of A = 1, Z = 26\n",
    "    Time: O(n), n = length of string\n",
    "    Space: O(1)\n",
    "    \"\"\"\n",
    "    n = len(s)\n",
    "    encoding = 0\n",
    "    for i in range(n):\n",
    "        # Subtract by the '@' character so that the value of 'A' is 1, 'B' is 2, etc.\n",
    "        encoding += ( ord(s[i]) - ord('@') ) * (26 ** i)\n",
    "        \n",
    "    return encoding\n",
    "        "
   ]
  },
  {
   "cell_type": "code",
   "execution_count": 19,
   "metadata": {},
   "outputs": [],
   "source": [
    "assert spreadsheet_encode(\"A\") == 1\n",
    "assert spreadsheet_encode(\"Y\") == 25\n",
    "assert spreadsheet_encode(\"Z\") == 26\n",
    "assert spreadsheet_encode(\"AA\") == 27\n",
    "assert spreadsheet_encode(\"ZZ\") == 702\n",
    "assert spreadsheet_encode(\"ABC\") == 2081"
   ]
  },
  {
   "cell_type": "code",
   "execution_count": 19,
   "metadata": {},
   "outputs": [],
   "source": [
    "def spreadsheet_decode(int_id):\n",
    "    \"\"\"\n",
    "    Returns the string for the given spreadsheet encoding.\n",
    "    Time: O(n), n = number of digits in int_id\n",
    "    Space: O(m), m = length of string\n",
    "    \"\"\"\n",
    "    s = \"\"\n",
    "    i = 0\n",
    "    while int_id > 0:\n",
    "        # Calculate the next character of the string\n",
    "        rem = (int_id // (26 ** i) ) % 26\n",
    "                \n",
    "        ltr = chr( rem + ord('@') )        \n",
    "        # If int_id % 26 == 0\n",
    "        if ltr == '@':\n",
    "            ltr = 'Z'\n",
    "            rem = 26\n",
    "           \n",
    "        # Add character\n",
    "        s += ltr\n",
    "        \n",
    "        int_id -= rem * (26 ** i)        \n",
    "        \n",
    "        i += 1\n",
    "        \n",
    "        print(f\"rem = {rem}\")\n",
    "        print(int_id)\n",
    "\n",
    "                            \n",
    "        \n",
    "    return s "
   ]
  },
  {
   "cell_type": "code",
   "execution_count": 24,
   "metadata": {},
   "outputs": [
    {
     "name": "stdout",
     "output_type": "stream",
     "text": [
      "rem = 1\n",
      "0\n",
      "rem = 25\n",
      "0\n",
      "rem = 26\n",
      "0\n",
      "rem = 1\n",
      "26\n",
      "rem = 1\n",
      "0\n"
     ]
    }
   ],
   "source": [
    "assert spreadsheet_decode(1) == 'A'\n",
    "assert spreadsheet_decode(25) == 'Y'\n",
    "assert spreadsheet_decode(26) == 'Z'\n",
    "assert spreadsheet_decode(27) == 'AA'"
   ]
  },
  {
   "cell_type": "code",
   "execution_count": null,
   "metadata": {},
   "outputs": [],
   "source": []
  }
 ],
 "metadata": {
  "kernelspec": {
   "display_name": "Python 3",
   "language": "python",
   "name": "python3"
  },
  "language_info": {
   "codemirror_mode": {
    "name": "ipython",
    "version": 3
   },
   "file_extension": ".py",
   "mimetype": "text/x-python",
   "name": "python",
   "nbconvert_exporter": "python",
   "pygments_lexer": "ipython3",
   "version": "3.7.4"
  }
 },
 "nbformat": 4,
 "nbformat_minor": 2
}
