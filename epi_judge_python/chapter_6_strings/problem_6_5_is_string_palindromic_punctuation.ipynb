{
 "cells": [
  {
   "cell_type": "code",
   "execution_count": 4,
   "metadata": {},
   "outputs": [],
   "source": [
    "def is_palindrome(s):\n",
    "    \"\"\"\n",
    "    Returns True if the given string \"s\" is a palindrome, ignoring\n",
    "    case.\n",
    "    Non-alphanumeric characters are skipped.\n",
    "    Time: O(n), n = len(s)\n",
    "    Space: O(1)\n",
    "    \"\"\"\n",
    "    left = 0\n",
    "    right = len(s) - 1\n",
    "    \n",
    "    while left < right:\n",
    "        while not s[left].isalnum() and left < right:\n",
    "            left += 1\n",
    "        while not s[right].isalnum() and left < right:\n",
    "            right -= 1\n",
    "        \n",
    "        # Check for palindromicity\n",
    "        if s[left].lower() != s[right].lower():\n",
    "            return False\n",
    "    \n",
    "        left += 1\n",
    "        right -= 1\n",
    "        \n",
    "    return True"
   ]
  },
  {
   "cell_type": "code",
   "execution_count": 7,
   "metadata": {},
   "outputs": [],
   "source": [
    "assert is_palindrome(\"Not a palindrome\") == False\n",
    "assert is_palindrome(\"Level\") == True\n",
    "assert is_palindrome(\"A man, a plan a canal - Panama!\")"
   ]
  }
 ],
 "metadata": {
  "kernelspec": {
   "display_name": "Python 3",
   "language": "python",
   "name": "python3"
  },
  "language_info": {
   "codemirror_mode": {
    "name": "ipython",
    "version": 3
   },
   "file_extension": ".py",
   "mimetype": "text/x-python",
   "name": "python",
   "nbconvert_exporter": "python",
   "pygments_lexer": "ipython3",
   "version": "3.7.4"
  }
 },
 "nbformat": 4,
 "nbformat_minor": 2
}
