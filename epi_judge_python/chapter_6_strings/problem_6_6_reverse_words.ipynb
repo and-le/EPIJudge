{
 "cells": [
  {
   "cell_type": "code",
   "execution_count": 40,
   "metadata": {},
   "outputs": [],
   "source": [
    "def reverse_sentence(s):\n",
    "    \"\"\"\n",
    "    Reverses the words in a sentence delimited by whitespace ' ' characters.\n",
    "    The given sentence is a list of individual characters, such as\n",
    "    ['T', 'h', 'e', ' ', ...]\n",
    "    Time: O(n), n = length of sentence\n",
    "    Space: O(1)\n",
    "    \"\"\"\n",
    "    \n",
    "    # Reverse the sentence\n",
    "    s = list(reversed(s))\n",
    "    \n",
    "    # Reverse the individual words in the sentence\n",
    "    start, finish = 0, 1\n",
    "    while finish < len(s):\n",
    "        if s[finish] == ' ':\n",
    "            s[start:finish] = list(reversed(s[start:finish]))\n",
    "            s[finish] = ' '\n",
    "            start = finish + 1\n",
    "            finish += 1\n",
    "        else:\n",
    "            finish += 1\n",
    "            \n",
    "    # Reverse the last word\n",
    "    s[start:len(s)] = list(reversed(s[start:len(s)]))\n",
    "    return s"
   ]
  },
  {
   "cell_type": "code",
   "execution_count": 45,
   "metadata": {},
   "outputs": [
    {
     "data": {
      "text/plain": [
       "['r', 'a', 'n', ' ', 'f', 'o', 'x', ' ', 't', 'h', 'e']"
      ]
     },
     "execution_count": 45,
     "metadata": {},
     "output_type": "execute_result"
    }
   ],
   "source": [
    "s =  ['t', 'h', 'e', ' ', 'f', 'o', 'x', ' ', 'r', 'a', 'n']\n",
    "reverse_sentence(s)"
   ]
  }
 ],
 "metadata": {
  "kernelspec": {
   "display_name": "Python 3",
   "language": "python",
   "name": "python3"
  },
  "language_info": {
   "codemirror_mode": {
    "name": "ipython",
    "version": 3
   },
   "file_extension": ".py",
   "mimetype": "text/x-python",
   "name": "python",
   "nbconvert_exporter": "python",
   "pygments_lexer": "ipython3",
   "version": "3.7.4"
  }
 },
 "nbformat": 4,
 "nbformat_minor": 2
}
