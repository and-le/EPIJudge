{
 "cells": [
  {
   "cell_type": "code",
   "execution_count": 1,
   "metadata": {},
   "outputs": [
    {
     "data": {
      "text/plain": [
       "'\\nProblem 6.2 : Base conversion\\n'"
      ]
     },
     "execution_count": 1,
     "metadata": {},
     "output_type": "execute_result"
    }
   ],
   "source": [
    "\"\"\"\n",
    "Problem 6.2 : Base conversion\n",
    "\"\"\""
   ]
  },
  {
   "cell_type": "code",
   "execution_count": 31,
   "metadata": {},
   "outputs": [],
   "source": [
    "def chr_to_dec(c):\n",
    "    \"\"\"\n",
    "    Converts the given character to its decimal equivalent.\n",
    "    Example: chr_to_dec('A') -> 10\n",
    "    \"\"\"\n",
    "    if c == 'A':\n",
    "        return 10\n",
    "    elif c == 'B':\n",
    "        return 11\n",
    "    elif c == 'C':\n",
    "        return 12\n",
    "    elif c == 'D':\n",
    "        return 13\n",
    "    elif c == 'E':\n",
    "        return 14\n",
    "    elif c == 'F':\n",
    "        return 16\n",
    "    else:\n",
    "        return int(c)\n",
    "    \n",
    "def dec_to_chr(d):\n",
    "    \"\"\"\n",
    "    Converts the given decimal integer to its character equivalent\n",
    "    Example dec_to_chr(10) -> 'A'\n",
    "    \"\"\"\n",
    "    if d == 10:\n",
    "        return 'A'\n",
    "    elif d == 11:\n",
    "        return 'B'\n",
    "    elif d == 12:\n",
    "        return 'C'\n",
    "    elif d == 13:\n",
    "        return 'D'\n",
    "    elif d == 14:\n",
    "        return 'E'\n",
    "    elif d == 15:\n",
    "        return 'F'\n",
    "    else:\n",
    "        return str(d)\n",
    "\n",
    "def convert_base(s, b1, b2):\n",
    "    \"\"\"\n",
    "    Converts the string \"s\" (which is in base \"b1\") to base \"b2\"\n",
    "    b1 >= 2\n",
    "    b2 <= 16\n",
    "    \"\"\"\n",
    "    # First convert s from base \"b1\" to base 10\n",
    "    # Check if the number is negative\n",
    "    is_negative = (s[0] == '-')\n",
    "    \n",
    "    i = 0\n",
    "    base10 = 0\n",
    "    while i < len(s):\n",
    "        # Skip over the negative sign, if there is one\n",
    "        if s[0] == '-':\n",
    "            continue\n",
    "        deci = chr_to_dec(s[i]) \n",
    "        base10 = (base10 * b1) + deci\n",
    "        i += 1 \n",
    "    \n",
    "    # Second, convert from base 10 to base \"b2\"\n",
    "    b2str = \"\"\n",
    "    while base10 > 0:\n",
    "        b2str += dec_to_chr(base10 % b2)        \n",
    "        base10 //= b2\n",
    "    \n",
    "    # Add the negative sign, if applicable\n",
    "    if is_negative:\n",
    "        b2str += \"-\"\n",
    "        \n",
    "    # Reverse the string\n",
    "    b2str = b2str[::-1]\n",
    "    return b2str\n",
    "    "
   ]
  },
  {
   "cell_type": "code",
   "execution_count": 32,
   "metadata": {},
   "outputs": [
    {
     "data": {
      "text/plain": [
       "'55'"
      ]
     },
     "execution_count": 32,
     "metadata": {},
     "output_type": "execute_result"
    }
   ],
   "source": [
    "# Test inputs\n",
    "\n",
    "# Same bases b1 and b2\n",
    "s = \"55\"\n",
    "b1 = 10\n",
    "b2 = 10\n",
    "convert_base(s, b1, b2)"
   ]
  },
  {
   "cell_type": "code",
   "execution_count": 35,
   "metadata": {},
   "outputs": [
    {
     "data": {
      "text/plain": [
       "'10'"
      ]
     },
     "execution_count": 35,
     "metadata": {},
     "output_type": "execute_result"
    }
   ],
   "source": [
    "# Binary to hex\n",
    "s = \"10000\"\n",
    "b1 = 2\n",
    "b2 = 16\n",
    "convert_base(s, b1, b2)"
   ]
  },
  {
   "cell_type": "code",
   "execution_count": 29,
   "metadata": {},
   "outputs": [
    {
     "name": "stdout",
     "output_type": "stream",
     "text": [
      "Base 10 value is 171\n"
     ]
    },
    {
     "data": {
      "text/plain": [
       "'10101011'"
      ]
     },
     "execution_count": 29,
     "metadata": {},
     "output_type": "execute_result"
    }
   ],
   "source": [
    "# Hex to binary\n",
    "s = \"AB\"\n",
    "b1 = 16\n",
    "b2 = 2\n",
    "convert_base(s, b1, b2)"
   ]
  }
 ],
 "metadata": {
  "kernelspec": {
   "display_name": "Python 3",
   "language": "python",
   "name": "python3"
  },
  "language_info": {
   "codemirror_mode": {
    "name": "ipython",
    "version": 3
   },
   "file_extension": ".py",
   "mimetype": "text/x-python",
   "name": "python",
   "nbconvert_exporter": "python",
   "pygments_lexer": "ipython3",
   "version": "3.7.4"
  }
 },
 "nbformat": 4,
 "nbformat_minor": 2
}
