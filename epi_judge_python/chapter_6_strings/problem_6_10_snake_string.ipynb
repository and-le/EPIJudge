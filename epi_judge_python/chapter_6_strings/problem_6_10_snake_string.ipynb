{
 "cells": [
  {
   "cell_type": "code",
   "execution_count": 1,
   "metadata": {},
   "outputs": [],
   "source": [
    "def snake_string(s):\n",
    "    \"\"\"\n",
    "    Returns the snake string of the given string s when s is\n",
    "    written sinusoidally. For example, the sinusoidal string\n",
    "    for \"Hello_World!\" is\n",
    "    \n",
    "        e            _            l\n",
    "      H    l     o       W     r       d    \n",
    "               l           o              !\n",
    "    \n",
    "    Time: O(n), n = len(s)\n",
    "    Space: O(n)    \n",
    "    \"\"\"\n",
    "    # The letters on the top row are s[1], s[5], ...\n",
    "    # The letters on the middle row are s[0], s[2], ...\n",
    "    # The letters on the bottom row are s[3], s[7], ...\n",
    "    \n",
    "    return s[1::4] + s[0::2] + s[3::4]"
   ]
  },
  {
   "cell_type": "code",
   "execution_count": 2,
   "metadata": {},
   "outputs": [
    {
     "data": {
      "text/plain": [
       "'e_lHloWrdlo!'"
      ]
     },
     "execution_count": 2,
     "metadata": {},
     "output_type": "execute_result"
    }
   ],
   "source": [
    "snake_string(\"Hello_World!\")"
   ]
  }
 ],
 "metadata": {
  "kernelspec": {
   "display_name": "Python 3",
   "language": "python",
   "name": "python3"
  },
  "language_info": {
   "codemirror_mode": {
    "name": "ipython",
    "version": 3
   },
   "file_extension": ".py",
   "mimetype": "text/x-python",
   "name": "python",
   "nbconvert_exporter": "python",
   "pygments_lexer": "ipython3",
   "version": "3.7.4"
  }
 },
 "nbformat": 4,
 "nbformat_minor": 2
}
