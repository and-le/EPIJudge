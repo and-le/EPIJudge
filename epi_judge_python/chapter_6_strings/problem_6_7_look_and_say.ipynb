{
 "cells": [
  {
   "cell_type": "code",
   "execution_count": 41,
   "metadata": {},
   "outputs": [],
   "source": [
    "def look_and_say(n):\n",
    "    \"\"\"\n",
    "    Returns the nth string in the look-and-say sequence.\n",
    "    Time: O(n * 2^(n))\n",
    "    Space: O(2^n)\n",
    "    \"\"\"\n",
    "    if n == 1:\n",
    "        return \"1\"\n",
    "    \n",
    "    i, prev, cur = 1, \"1\", \"1\"\n",
    "    while i < n:\n",
    "        prev = cur\n",
    "        cur = \"\"\n",
    "        j, count, num = 1, 1, prev[0]\n",
    "        while j < len(prev):\n",
    "            if prev[j] == num:\n",
    "                j, count = j + 1, count + 1\n",
    "            else:\n",
    "                cur += str(count)\n",
    "                cur += str(num)\n",
    "                num = prev[j]\n",
    "                count = 1\n",
    "                j += 1\n",
    "        # Add the last digit group\n",
    "        cur += str(count)\n",
    "        cur += str(num)\n",
    "        i += 1\n",
    "        \n",
    "    return str(cur)"
   ]
  },
  {
   "cell_type": "code",
   "execution_count": 49,
   "metadata": {},
   "outputs": [],
   "source": [
    "assert look_and_say(1) == \"1\"\n",
    "assert look_and_say(2) == \"11\"\n",
    "assert look_and_say(3) == \"21\"\n",
    "assert look_and_say(4) == \"1211\"\n",
    "assert look_and_say(5) == \"111221\"\n",
    "assert look_and_say(6) == \"312111\""
   ]
  }
 ],
 "metadata": {
  "kernelspec": {
   "display_name": "Python 3",
   "language": "python",
   "name": "python3"
  },
  "language_info": {
   "codemirror_mode": {
    "name": "ipython",
    "version": 3
   },
   "file_extension": ".py",
   "mimetype": "text/x-python",
   "name": "python",
   "nbconvert_exporter": "python",
   "pygments_lexer": "ipython3",
   "version": "3.7.4"
  }
 },
 "nbformat": 4,
 "nbformat_minor": 2
}
