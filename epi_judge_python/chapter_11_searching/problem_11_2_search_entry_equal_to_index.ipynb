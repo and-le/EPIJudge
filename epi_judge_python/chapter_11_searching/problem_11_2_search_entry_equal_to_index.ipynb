{
 "cells": [
  {
   "cell_type": "code",
   "execution_count": 29,
   "metadata": {},
   "outputs": [],
   "source": [
    "def search_entry_equal_to_its_index(A):\n",
    "    \"\"\"\n",
    "    Returns the entry that is equal to its index in the sorted array A of distinct integers.\n",
    "    \n",
    "    Time: O(log n)\n",
    "    Space: O(1)\n",
    "    \"\"\"\n",
    "    if len(A) == 1:\n",
    "        return A[0] == 0\n",
    "    \n",
    "    left = 0\n",
    "    right = len(A) - 1\n",
    "    mid = left + ((right - left) // 2)\n",
    "    while mid >= left and mid <= right:\n",
    "        \n",
    "        print(f\"Before iteration: left = {left}, mid = {mid}, right = {right}\")\n",
    "        \n",
    "        if A[mid] == mid:\n",
    "            return mid\n",
    "        elif A[mid] < mid:\n",
    "            left = mid + 1\n",
    "            mid = left + ((right - left) // 2)\n",
    "        elif A[mid] > mid:\n",
    "            right = mid - 1\n",
    "            mid = left + ((right - left) // 2)\n",
    "            \n",
    "            \n",
    "        print(f\"After iteration: left = {left}, mid = {mid}, right = {right}\")\n",
    "\n",
    "    \n",
    "    return -1"
   ]
  },
  {
   "cell_type": "code",
   "execution_count": 30,
   "metadata": {},
   "outputs": [
    {
     "name": "stdout",
     "output_type": "stream",
     "text": [
      "Before iteration: left = 0, mid = 1, right = 3\n"
     ]
    },
    {
     "data": {
      "text/plain": [
       "1"
      ]
     },
     "execution_count": 30,
     "metadata": {},
     "output_type": "execute_result"
    }
   ],
   "source": [
    "# Find the entry immediately\n",
    "A = [0, 1, 2, 3]\n",
    "search_entry_equal_to_its_index(A)"
   ]
  },
  {
   "cell_type": "code",
   "execution_count": 31,
   "metadata": {},
   "outputs": [
    {
     "name": "stdout",
     "output_type": "stream",
     "text": [
      "Before iteration: left = 0, mid = 1, right = 3\n",
      "After iteration: left = 0, mid = 0, right = 0\n",
      "Before iteration: left = 0, mid = 0, right = 0\n"
     ]
    },
    {
     "data": {
      "text/plain": [
       "0"
      ]
     },
     "execution_count": 31,
     "metadata": {},
     "output_type": "execute_result"
    }
   ],
   "source": [
    "# Search in left half\n",
    "A = [0, 2, 5, 6]\n",
    "search_entry_equal_to_its_index(A)"
   ]
  },
  {
   "cell_type": "code",
   "execution_count": 33,
   "metadata": {},
   "outputs": [
    {
     "name": "stdout",
     "output_type": "stream",
     "text": [
      "Before iteration: left = 0, mid = 1, right = 3\n",
      "After iteration: left = 2, mid = 2, right = 3\n",
      "Before iteration: left = 2, mid = 2, right = 3\n",
      "After iteration: left = 3, mid = 3, right = 3\n",
      "Before iteration: left = 3, mid = 3, right = 3\n"
     ]
    },
    {
     "data": {
      "text/plain": [
       "3"
      ]
     },
     "execution_count": 33,
     "metadata": {},
     "output_type": "execute_result"
    }
   ],
   "source": [
    "# Search in right half\n",
    "A = [-1, 0, 1, 3]\n",
    "search_entry_equal_to_its_index(A)"
   ]
  },
  {
   "cell_type": "code",
   "execution_count": null,
   "metadata": {},
   "outputs": [],
   "source": []
  }
 ],
 "metadata": {
  "kernelspec": {
   "display_name": "Python 3",
   "language": "python",
   "name": "python3"
  },
  "language_info": {
   "codemirror_mode": {
    "name": "ipython",
    "version": 3
   },
   "file_extension": ".py",
   "mimetype": "text/x-python",
   "name": "python",
   "nbconvert_exporter": "python",
   "pygments_lexer": "ipython3",
   "version": "3.7.4"
  }
 },
 "nbformat": 4,
 "nbformat_minor": 2
}
