{
 "cells": [
  {
   "cell_type": "code",
   "execution_count": 43,
   "metadata": {},
   "outputs": [],
   "source": [
    "def largest_int_root(k):\n",
    "    \"\"\"\n",
    "    Returns the largest integer square root that is less than or equal to k.\n",
    "    k must be a non-negative integer\n",
    "    \n",
    "    Time: O(log k)\n",
    "    Space: O(1)\n",
    "    \"\"\"\n",
    "\n",
    "    lower_bound, upper_bound = 0, k  # Bounds for the interval containing the square root\n",
    "    while lower_bound <= upper_bound:\n",
    "#         print(f\"lower = {lower_bound}, upper = {upper_bound}\")\n",
    "        mid = (lower_bound + upper_bound) // 2\n",
    "        square = mid * mid\n",
    "        if square < k:\n",
    "            lower_bound = mid + 1\n",
    "        elif square > k:\n",
    "            upper_bound = mid - 1\n",
    "        else: # square == k\n",
    "            return mid\n",
    "    \n",
    "    return lower_bound - 1"
   ]
  },
  {
   "cell_type": "code",
   "execution_count": 44,
   "metadata": {},
   "outputs": [
    {
     "name": "stdout",
     "output_type": "stream",
     "text": [
      "lower = 0, upper = 1\n",
      "lower = 1, upper = 1\n",
      "lower = 0, upper = 2\n",
      "lower = 2, upper = 2\n",
      "lower = 0, upper = 3\n",
      "lower = 2, upper = 3\n",
      "lower = 0, upper = 4\n",
      "lower = 0, upper = 18\n",
      "lower = 0, upper = 8\n",
      "lower = 5, upper = 8\n",
      "lower = 5, upper = 5\n",
      "lower = 0, upper = 230\n",
      "lower = 0, upper = 114\n",
      "lower = 0, upper = 56\n",
      "lower = 0, upper = 27\n",
      "lower = 14, upper = 27\n",
      "lower = 14, upper = 19\n",
      "lower = 14, upper = 15\n",
      "lower = 15, upper = 15\n"
     ]
    }
   ],
   "source": [
    "assert largest_int_root(1) == 1\n",
    "assert largest_int_root(2) == 1\n",
    "assert largest_int_root(3) == 1\n",
    "assert largest_int_root(4) == 2\n",
    "assert largest_int_root(18) == 4\n",
    "assert largest_int_root(230) == 15"
   ]
  },
  {
   "cell_type": "code",
   "execution_count": 45,
   "metadata": {},
   "outputs": [
    {
     "name": "stdout",
     "output_type": "stream",
     "text": [
      "lower = 0, upper = 18\n",
      "lower = 0, upper = 8\n",
      "lower = 5, upper = 8\n",
      "lower = 5, upper = 5\n"
     ]
    }
   ],
   "source": [
    "assert largest_int_root(18) == 4"
   ]
  },
  {
   "cell_type": "code",
   "execution_count": null,
   "metadata": {},
   "outputs": [],
   "source": []
  }
 ],
 "metadata": {
  "kernelspec": {
   "display_name": "Python 3",
   "language": "python",
   "name": "python3"
  },
  "language_info": {
   "codemirror_mode": {
    "name": "ipython",
    "version": 3
   },
   "file_extension": ".py",
   "mimetype": "text/x-python",
   "name": "python",
   "nbconvert_exporter": "python",
   "pygments_lexer": "ipython3",
   "version": "3.7.4"
  }
 },
 "nbformat": 4,
 "nbformat_minor": 2
}
