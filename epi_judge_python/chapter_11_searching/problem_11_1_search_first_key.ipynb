{
 "cells": [
  {
   "cell_type": "code",
   "execution_count": 1,
   "metadata": {},
   "outputs": [
    {
     "data": {
      "text/plain": [
       "'\\nProblem 12.1 : First occurrence of k in a sorted array\\n'"
      ]
     },
     "execution_count": 1,
     "metadata": {},
     "output_type": "execute_result"
    }
   ],
   "source": [
    "\"\"\"\n",
    "Problem 11.1 : First occurrence of k in a sorted array\n",
    "\"\"\""
   ]
  },
  {
   "cell_type": "code",
   "execution_count": 3,
   "metadata": {},
   "outputs": [],
   "source": [
    "def search_first_of_k(arr, k):\n",
    "    \"\"\"\n",
    "    Returns the index of the first occurrence of k in the given array arr.\n",
    "    Returns -1 if k is not in arr\n",
    "    \"\"\"\n",
    "    lower = 0\n",
    "    upper = len(arr) - 1\n",
    "    idx = -1\n",
    "    while lower <= upper:\n",
    "        mid = lower + ( (upper - lower) // 2 )\n",
    "        if arr[mid] > k:\n",
    "            # Eliminate the remaining upper half, because arr is sorted\n",
    "            upper = mid - 1\n",
    "        elif arr[mid] < k:\n",
    "            # Eliminate the remaining lower half, because arr is sorted\n",
    "            lower = mid + 1\n",
    "        else:\n",
    "            # Eliminate the remaining upper half\n",
    "            idx = mid\n",
    "            upper = mid - 1\n",
    "        \n",
    "    return idx"
   ]
  },
  {
   "cell_type": "code",
   "execution_count": 4,
   "metadata": {},
   "outputs": [
    {
     "data": {
      "text/plain": [
       "1"
      ]
     },
     "execution_count": 4,
     "metadata": {},
     "output_type": "execute_result"
    }
   ],
   "source": [
    "# Test inputs\n",
    "arr = [1, 2, 2, 2, 3, 4]\n",
    "search_first_of_k(arr, 2)"
   ]
  },
  {
   "cell_type": "code",
   "execution_count": 6,
   "metadata": {},
   "outputs": [
    {
     "data": {
      "text/plain": [
       "-1"
      ]
     },
     "execution_count": 6,
     "metadata": {},
     "output_type": "execute_result"
    }
   ],
   "source": [
    "search_first_of_k(arr, 5)"
   ]
  },
  {
   "cell_type": "code",
   "execution_count": 7,
   "metadata": {},
   "outputs": [
    {
     "data": {
      "text/plain": [
       "4"
      ]
     },
     "execution_count": 7,
     "metadata": {},
     "output_type": "execute_result"
    }
   ],
   "source": [
    "search_first_of_k(arr, 3)"
   ]
  },
  {
   "cell_type": "code",
   "execution_count": null,
   "metadata": {},
   "outputs": [],
   "source": []
  }
 ],
 "metadata": {
  "kernelspec": {
   "display_name": "Python 3",
   "language": "python",
   "name": "python3"
  },
  "language_info": {
   "codemirror_mode": {
    "name": "ipython",
    "version": 3
   },
   "file_extension": ".py",
   "mimetype": "text/x-python",
   "name": "python",
   "nbconvert_exporter": "python",
   "pygments_lexer": "ipython3",
   "version": "3.7.4"
  }
 },
 "nbformat": 4,
 "nbformat_minor": 2
}
