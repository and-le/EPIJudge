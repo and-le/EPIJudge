{
 "cells": [
  {
   "cell_type": "code",
   "execution_count": 4,
   "metadata": {},
   "outputs": [],
   "source": [
    "\"\"\"\n",
    "Problem 6.7 : Buy and sell a stock twice\n",
    "\"\"\"\n",
    "import sys"
   ]
  },
  {
   "cell_type": "code",
   "execution_count": 27,
   "metadata": {},
   "outputs": [],
   "source": [
    "def buy_and_sell_twice(A):\n",
    "    \"\"\"\n",
    "    Returns the maximum profit that can be obtained by purchasing\n",
    "    and selling a stock twice, where A[i] is the price of the\n",
    "    stock on the ith day.\n",
    "    Time: O(n)\n",
    "    Space: O(n)\n",
    "    \"\"\"\n",
    "    \n",
    "    # Find the maximum profit of buying a stock once **ending** at day i\n",
    "    max_profit_forward = [0 for x in A]    \n",
    "    min_stock = sys.maxsize # Minimum stock price\n",
    "    max_profit = 0 # Max profit so far\n",
    "    \n",
    "    for i in range(len(A)):\n",
    "        min_stock = min(min_stock, A[i])\n",
    "        max_profit = max(max_profit, A[i] - min_stock)\n",
    "        max_profit_forward[i] = max_profit\n",
    "        \n",
    "    # Find the maximum profit of buying a stock once **starting** at day i\n",
    "    max_profit_backward = [0 for x in A]    \n",
    "    max_stock = 0\n",
    "    max_profit = 0\n",
    "    \n",
    "    # Skip the first entry, index 0, because the second stock cannot be bought on the first day\n",
    "    for i in range(len(A) - 1, 0, -1):\n",
    "        max_stock = max(max_stock, A[i])\n",
    "        max_profit = max(max_profit, max_stock - A[i])\n",
    "        max_profit_backward[i] = max_profit\n",
    "        \n",
    "    print(f\"Forward array: {max_profit_forward}\")\n",
    "    print(f\"Backward array: {max_profit_backward}\")\n",
    "\n",
    "    # The maximum profit for buying and selling a stock twice\n",
    "    # is the largest (profit ending at day i) + (profit starting at day i)    \n",
    "    max_profit = 0\n",
    "    for i in range(len(A)):\n",
    "        # On the first day, there is no max_profit_forward\n",
    "        if i == 0:\n",
    "            max_profit = max(max_profit, 0 + max_profit_backward[i])\n",
    "        else:\n",
    "            max_profit = max(max_profit, max_profit_forward[i - 1] + max_profit_backward[i])\n",
    "            \n",
    "    return max_profit"
   ]
  },
  {
   "cell_type": "code",
   "execution_count": 28,
   "metadata": {},
   "outputs": [
    {
     "name": "stdout",
     "output_type": "stream",
     "text": [
      "Forward array: [0, 1, 2, 9]\n",
      "Backward array: [0, 8, 7, 0]\n"
     ]
    },
    {
     "data": {
      "text/plain": [
       "8"
      ]
     },
     "execution_count": 28,
     "metadata": {},
     "output_type": "execute_result"
    }
   ],
   "source": [
    "buy_and_sell_twice([1, 2, 3, 10])"
   ]
  },
  {
   "cell_type": "code",
   "execution_count": null,
   "metadata": {},
   "outputs": [],
   "source": []
  },
  {
   "cell_type": "code",
   "execution_count": null,
   "metadata": {},
   "outputs": [],
   "source": []
  }
 ],
 "metadata": {
  "kernelspec": {
   "display_name": "Python 3",
   "language": "python",
   "name": "python3"
  },
  "language_info": {
   "codemirror_mode": {
    "name": "ipython",
    "version": 3
   },
   "file_extension": ".py",
   "mimetype": "text/x-python",
   "name": "python",
   "nbconvert_exporter": "python",
   "pygments_lexer": "ipython3",
   "version": "3.7.4"
  }
 },
 "nbformat": 4,
 "nbformat_minor": 2
}
