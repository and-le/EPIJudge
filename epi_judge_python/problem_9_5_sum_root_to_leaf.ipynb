{
 "cells": [
  {
   "cell_type": "code",
   "execution_count": 1,
   "metadata": {},
   "outputs": [],
   "source": [
    "from binary_tree_node import BinaryTreeNode"
   ]
  },
  {
   "cell_type": "code",
   "execution_count": 2,
   "metadata": {},
   "outputs": [],
   "source": [
    "def sum_root_to_leaf(tree):\n",
    "    \"\"\"\n",
    "    Returns the sum of all of the root-to-leaf paths rooted at \"tree\". Each node is a binary digit (0 or 1).\n",
    "    Time: O(n)\n",
    "    Space: O(h)\n",
    "    \"\"\"\n",
    "    def sum_root_to_leaf_helper(tree, partial_sum=0):\n",
    "        if not tree:\n",
    "            return 0\n",
    "        partial_sum = (2 * partial_sum) + tree.data\n",
    "        \n",
    "        # Leaf \n",
    "        if not tree.left and not tree.right:\n",
    "            return partial_sum\n",
    "        else:\n",
    "            return (\n",
    "                sum_root_to_leaf_helper(tree.left, partial_sum) +\n",
    "                sum_root_to_leaf_helper(tree.right, partial_sum)\n",
    "                   )\n",
    "        \n",
    "    return sum_root_to_leaf_helper(tree)"
   ]
  },
  {
   "cell_type": "code",
   "execution_count": 4,
   "metadata": {},
   "outputs": [],
   "source": [
    "tree = BinaryTreeNode(1)\n",
    "l1 = BinaryTreeNode(0)\n",
    "l2 = BinaryTreeNode(0)\n",
    "l3 = BinaryTreeNode(0)\n",
    "l4 = BinaryTreeNode(1)\n",
    "r1 = BinaryTreeNode(1)\n",
    "\n",
    "tree.left = l1\n",
    "l1.left = l2\n",
    "l2.left = l3\n",
    "l2.right = l4\n",
    "tree.right = r1\n",
    "\n",
    "assert sum_root_to_leaf(tree) == 20"
   ]
  },
  {
   "cell_type": "code",
   "execution_count": null,
   "metadata": {},
   "outputs": [],
   "source": []
  }
 ],
 "metadata": {
  "kernelspec": {
   "display_name": "Python 3",
   "language": "python",
   "name": "python3"
  },
  "language_info": {
   "codemirror_mode": {
    "name": "ipython",
    "version": 3
   },
   "file_extension": ".py",
   "mimetype": "text/x-python",
   "name": "python",
   "nbconvert_exporter": "python",
   "pygments_lexer": "ipython3",
   "version": "3.7.4"
  }
 },
 "nbformat": 4,
 "nbformat_minor": 2
}
