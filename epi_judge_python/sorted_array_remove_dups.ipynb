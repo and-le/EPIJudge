{
 "cells": [
  {
   "cell_type": "code",
   "execution_count": null,
   "metadata": {},
   "outputs": [],
   "source": [
    "\"\"\"\n",
    "Problem 6.5: Remove duplicates from a sorted array.\n",
    "\"\"\""
   ]
  },
  {
   "cell_type": "code",
   "execution_count": 53,
   "metadata": {},
   "outputs": [],
   "source": [
    "def swap(A, i, j):\n",
    "    temp = A[i]\n",
    "    A[i] = A[j]\n",
    "    A[j] = temp\n",
    "    \n",
    "def remove_dups(A):\n",
    "    \"\"\"\n",
    "    Removes the duplicates from the given sorted array. After the last unique\n",
    "    element in the last, the remaining elements are undefined.\n",
    "    Returns the resulting array and the number of unique elemnets.\n",
    "    Time: O(n)\n",
    "    Space: O(1)\n",
    "    \"\"\"\n",
    "    \n",
    "    # Base case: a single element array has no duplicates\n",
    "    if len(A) == 1:\n",
    "        return A\n",
    "    \n",
    "    idx_of_unique = 0 # Index of last element in sorted sub-array of unique elements\n",
    "    idx_of_cmp = 1 # Index of the element to compare to the last element of the unique subarray\n",
    "    while idx_of_cmp < len(A):\n",
    "        \n",
    "        # If a duplicate is found, keep advancing until aunique element is found\n",
    "        if A[idx_of_unique] == A[idx_of_cmp]:\n",
    "            idx_of_cmp += 1\n",
    "            \n",
    "        # If a unique element is found, swap it with the element after the end of the unique subarray\n",
    "        else:\n",
    "            swap(A, idx_of_unique + 1, idx_of_cmp)\n",
    "            idx_of_cmp += 1\n",
    "            idx_of_unique += 1\n",
    "            \n",
    "    return A, idx_of_unique + 1\n",
    "    \n",
    "\n",
    "    "
   ]
  },
  {
   "cell_type": "code",
   "execution_count": 47,
   "metadata": {},
   "outputs": [
    {
     "data": {
      "text/plain": [
       "([1, 2, 3, 4], 4)"
      ]
     },
     "execution_count": 47,
     "metadata": {},
     "output_type": "execute_result"
    }
   ],
   "source": [
    "# No duplicates\n",
    "remove_dups([1, 2, 3, 4])"
   ]
  },
  {
   "cell_type": "code",
   "execution_count": 48,
   "metadata": {},
   "outputs": [
    {
     "data": {
      "text/plain": [
       "([1, 2, 3, 2], 3)"
      ]
     },
     "execution_count": 48,
     "metadata": {},
     "output_type": "execute_result"
    }
   ],
   "source": [
    "# One duplicate, one repetition\n",
    "remove_dups([1, 2, 2, 3])"
   ]
  },
  {
   "cell_type": "code",
   "execution_count": 49,
   "metadata": {},
   "outputs": [
    {
     "data": {
      "text/plain": [
       "([1, 2, 3, 2, 2, 2], 3)"
      ]
     },
     "execution_count": 49,
     "metadata": {},
     "output_type": "execute_result"
    }
   ],
   "source": [
    "# One duplicate, repetitions\n",
    "remove_dups([1, 2, 2, 2, 2, 3])"
   ]
  },
  {
   "cell_type": "code",
   "execution_count": 50,
   "metadata": {},
   "outputs": [
    {
     "data": {
      "text/plain": [
       "([1, 2, 3, 1, 3], 3)"
      ]
     },
     "execution_count": 50,
     "metadata": {},
     "output_type": "execute_result"
    }
   ],
   "source": [
    "# Multiple duplicates, single repetitions\n",
    "remove_dups([1, 1, 2, 3, 3])"
   ]
  },
  {
   "cell_type": "code",
   "execution_count": 51,
   "metadata": {},
   "outputs": [
    {
     "data": {
      "text/plain": [
       "([1, 2, 3, 1, 1, 3], 3)"
      ]
     },
     "execution_count": 51,
     "metadata": {},
     "output_type": "execute_result"
    }
   ],
   "source": [
    "# Multiple duplicates, multiple repetitions\n",
    "remove_dups([1, 1, 1, 2, 3, 3])"
   ]
  },
  {
   "cell_type": "code",
   "execution_count": 52,
   "metadata": {},
   "outputs": [
    {
     "data": {
      "text/plain": [
       "([1, 2, 3, 4, 3, 3], 4)"
      ]
     },
     "execution_count": 52,
     "metadata": {},
     "output_type": "execute_result"
    }
   ],
   "source": [
    "remove_dups([1, 2, 3, 3, 3, 4])"
   ]
  }
 ],
 "metadata": {
  "kernelspec": {
   "display_name": "Python 3",
   "language": "python",
   "name": "python3"
  },
  "language_info": {
   "codemirror_mode": {
    "name": "ipython",
    "version": 3
   },
   "file_extension": ".py",
   "mimetype": "text/x-python",
   "name": "python",
   "nbconvert_exporter": "python",
   "pygments_lexer": "ipython3",
   "version": "3.7.4"
  }
 },
 "nbformat": 4,
 "nbformat_minor": 2
}
