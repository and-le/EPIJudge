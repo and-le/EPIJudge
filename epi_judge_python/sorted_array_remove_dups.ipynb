{
 "cells": [
  {
   "cell_type": "code",
   "execution_count": 2,
   "metadata": {},
   "outputs": [
    {
     "data": {
      "text/plain": [
       "'\\nProblem 6.5: Remove duplicates from a sorted array.\\n'"
      ]
     },
     "execution_count": 2,
     "metadata": {},
     "output_type": "execute_result"
    }
   ],
   "source": [
    "\"\"\"\n",
    "Problem 6.5: Remove duplicates from a sorted array.\n",
    "\"\"\""
   ]
  },
  {
   "cell_type": "code",
   "execution_count": 3,
   "metadata": {},
   "outputs": [],
   "source": [
    "def swap(A, i, j):\n",
    "    temp = A[i]\n",
    "    A[i] = A[j]\n",
    "    A[j] = temp\n",
    "    \n",
    "def remove_dups(A):\n",
    "    \"\"\"\n",
    "    Removes the duplicates from the given sorted array. After the last unique\n",
    "    element in the last, the remaining elements are undefined.\n",
    "    Returns the resulting array and the number of unique elemnets.\n",
    "    Time: O(n)\n",
    "    Space: O(1)\n",
    "    \"\"\"\n",
    "    \n",
    "    # Base case: a single element array has no duplicates\n",
    "    if len(A) == 1:\n",
    "        return A\n",
    "    \n",
    "    idx_of_unique = 0 # Index of last element in sorted sub-array of unique elements\n",
    "    idx_of_cmp = 1 # Index of the element to compare to the last element of the unique subarray\n",
    "    while idx_of_cmp < len(A):\n",
    "        \n",
    "        # If a duplicate is found, keep advancing until aunique element is found\n",
    "        if A[idx_of_unique] == A[idx_of_cmp]:\n",
    "            idx_of_cmp += 1\n",
    "            \n",
    "        # If a unique element is found, swap it with the element after the end of the unique subarray\n",
    "        else:\n",
    "            swap(A, idx_of_unique + 1, idx_of_cmp)\n",
    "            idx_of_cmp += 1\n",
    "            idx_of_unique += 1\n",
    "            \n",
    "    return A, idx_of_unique + 1\n",
    "    \n",
    "\n",
    "    "
   ]
  },
  {
   "cell_type": "code",
   "execution_count": 47,
   "metadata": {},
   "outputs": [
    {
     "data": {
      "text/plain": [
       "([1, 2, 3, 4], 4)"
      ]
     },
     "execution_count": 47,
     "metadata": {},
     "output_type": "execute_result"
    }
   ],
   "source": [
    "# No duplicates\n",
    "remove_dups([1, 2, 3, 4])"
   ]
  },
  {
   "cell_type": "code",
   "execution_count": 48,
   "metadata": {},
   "outputs": [
    {
     "data": {
      "text/plain": [
       "([1, 2, 3, 2], 3)"
      ]
     },
     "execution_count": 48,
     "metadata": {},
     "output_type": "execute_result"
    }
   ],
   "source": [
    "# One duplicate, one repetition\n",
    "remove_dups([1, 2, 2, 3])"
   ]
  },
  {
   "cell_type": "code",
   "execution_count": 49,
   "metadata": {},
   "outputs": [
    {
     "data": {
      "text/plain": [
       "([1, 2, 3, 2, 2, 2], 3)"
      ]
     },
     "execution_count": 49,
     "metadata": {},
     "output_type": "execute_result"
    }
   ],
   "source": [
    "# One duplicate, repetitions\n",
    "remove_dups([1, 2, 2, 2, 2, 3])"
   ]
  },
  {
   "cell_type": "code",
   "execution_count": 50,
   "metadata": {},
   "outputs": [
    {
     "data": {
      "text/plain": [
       "([1, 2, 3, 1, 3], 3)"
      ]
     },
     "execution_count": 50,
     "metadata": {},
     "output_type": "execute_result"
    }
   ],
   "source": [
    "# Multiple duplicates, single repetitions\n",
    "remove_dups([1, 1, 2, 3, 3])"
   ]
  },
  {
   "cell_type": "code",
   "execution_count": 51,
   "metadata": {},
   "outputs": [
    {
     "data": {
      "text/plain": [
       "([1, 2, 3, 1, 1, 3], 3)"
      ]
     },
     "execution_count": 51,
     "metadata": {},
     "output_type": "execute_result"
    }
   ],
   "source": [
    "# Multiple duplicates, multiple repetitions\n",
    "remove_dups([1, 1, 1, 2, 3, 3])"
   ]
  },
  {
   "cell_type": "code",
   "execution_count": 52,
   "metadata": {},
   "outputs": [
    {
     "data": {
      "text/plain": [
       "([1, 2, 3, 4, 3, 3], 4)"
      ]
     },
     "execution_count": 52,
     "metadata": {},
     "output_type": "execute_result"
    }
   ],
   "source": [
    "remove_dups([1, 2, 3, 3, 3, 4])"
   ]
  },
  {
   "cell_type": "code",
   "execution_count": 25,
   "metadata": {},
   "outputs": [],
   "source": [
    "def remove_key(A, key):\n",
    "    \"\"\"\n",
    "    Removes all occurences of the element \"key\" from the array and\n",
    "    returns a tuple of (updated array, number of elements in A that are not equal to key).\n",
    "    Time: O(n)\n",
    "    Space: O(1)\n",
    "    \"\"\"\n",
    "    i = 0 # index into sub-array of elements not equal to key\n",
    "    j = len(A) - 1 # index into sub-array of elements equal to key\n",
    "    \n",
    "    # Advance through the array, moving occurrences of key to the\n",
    "    # end.\n",
    "    \n",
    "    while i < j:\n",
    "        if A[i] == key:\n",
    "            swap(A, i, j)\n",
    "            # A[j] could be equal to key, so don't increment i\n",
    "            # Decrement j to expand the \"key\" subarray\n",
    "            j = j - 1\n",
    "        else:\n",
    "            # Expand the non - \"key\" subarray\n",
    "            i += 1\n",
    "    # The above loop stops when i == j, which requires the following check:            \n",
    "    # If the element at A[i] != key, add 1 to account for one more element\n",
    "    # not equal to key\n",
    "    if A[i] != key:\n",
    "        i += 1\n",
    "            \n",
    "    return A, i\n",
    "            "
   ]
  },
  {
   "cell_type": "code",
   "execution_count": 26,
   "metadata": {},
   "outputs": [
    {
     "data": {
      "text/plain": [
       "([1, 3, 3, 2, 2], 3)"
      ]
     },
     "execution_count": 26,
     "metadata": {},
     "output_type": "execute_result"
    }
   ],
   "source": [
    "remove_key([1, 2, 2, 3, 3], 2)"
   ]
  },
  {
   "cell_type": "code",
   "execution_count": 29,
   "metadata": {},
   "outputs": [
    {
     "data": {
      "text/plain": [
       "([1, 3, 3], 1)"
      ]
     },
     "execution_count": 29,
     "metadata": {},
     "output_type": "execute_result"
    }
   ],
   "source": [
    "remove_key([1, 3, 3], 3)"
   ]
  },
  {
   "cell_type": "code",
   "execution_count": 30,
   "metadata": {},
   "outputs": [
    {
     "data": {
      "text/plain": [
       "([1, 2, 5, 3, 2], 5)"
      ]
     },
     "execution_count": 30,
     "metadata": {},
     "output_type": "execute_result"
    }
   ],
   "source": [
    "# Key not in array\n",
    "remove_key([1, 2, 5, 3, 2], 10)"
   ]
  },
  {
   "cell_type": "code",
   "execution_count": 31,
   "metadata": {},
   "outputs": [
    {
     "data": {
      "text/plain": [
       "([1, 1, 1, 4, 3, 2, 2, 2], 5)"
      ]
     },
     "execution_count": 31,
     "metadata": {},
     "output_type": "execute_result"
    }
   ],
   "source": [
    "# Key values are not consecutive\n",
    "remove_key([1, 2, 1, 4, 2, 3, 2, 1], 2)"
   ]
  },
  {
   "cell_type": "code",
   "execution_count": 40,
   "metadata": {},
   "outputs": [],
   "source": [
    "def remove_extras(A, m):\n",
    "    \"\"\"\n",
    "    Updates the sorted array A so that for each element \"x\" in A, x appears\n",
    "    at most min(2, m) times, where m > 0.\n",
    "    Only 1 pass through the array is allowed, and no additional\n",
    "    storage is allowed.\n",
    "    All elements after the valid portion of the valid array may not be in\n",
    "    any particular order.\n",
    "    \"\"\"\n",
    "    if len(A) == 1:\n",
    "        return A\n",
    "    \n",
    "    count = 1 # Count of the current element being checked for extras\n",
    "    write_index = 1 # Index to put the remaining elements in\n",
    "    should_delete = (count == min(2, m)) # If the element at the current index should be \"deleted\" from the final array\n",
    "    for i in range(1, len(A)):\n",
    "#         print(f\"index i = {i}\")\n",
    "#         print(f\"write index = {write_index}\")\n",
    "#         print(A)\n",
    "\n",
    "\n",
    "        # If a duplicate is found\n",
    "        if A[i] == A[write_index - 1]:\n",
    "            if should_delete:\n",
    "                # Advance over this duplicate\n",
    "                pass\n",
    "            else:\n",
    "                # Don't delete, update count\n",
    "                count += 1\n",
    "                should_delete = (count == min(2, m))\n",
    "                swap(A, i, write_index)\n",
    "                write_index += 1\n",
    "        # If a non-duplicate is found\n",
    "        else:\n",
    "            swap(A, i, write_index)\n",
    "            write_index += 1\n",
    "            count = 1\n",
    "            should_delete = (count == min(2, m))       \n",
    "#         print(f\"should delete = {should_delete}\\n\")\n",
    "\n",
    "    return A\n",
    "    \n",
    "    "
   ]
  },
  {
   "cell_type": "code",
   "execution_count": 41,
   "metadata": {},
   "outputs": [
    {
     "data": {
      "text/plain": [
       "[1, 2, 3, 4]"
      ]
     },
     "execution_count": 41,
     "metadata": {},
     "output_type": "execute_result"
    }
   ],
   "source": [
    "# Don't remove any extras, no duplicates\n",
    "remove_extras([1, 2, 3, 4], 1)"
   ]
  },
  {
   "cell_type": "code",
   "execution_count": 42,
   "metadata": {},
   "outputs": [
    {
     "name": "stdout",
     "output_type": "stream",
     "text": [
      "index i = 4\n",
      "write index = 4\n",
      "[1, 1, 2, 2, 3]\n"
     ]
    },
    {
     "data": {
      "text/plain": [
       "[1, 1, 2, 2, 3]"
      ]
     },
     "execution_count": 42,
     "metadata": {},
     "output_type": "execute_result"
    }
   ],
   "source": [
    "# Don't remove any extras, with duplicates\n",
    "remove_extras([1, 1, 2, 2, 3], 2)"
   ]
  },
  {
   "cell_type": "code",
   "execution_count": 43,
   "metadata": {},
   "outputs": [
    {
     "name": "stdout",
     "output_type": "stream",
     "text": [
      "index i = 4\n",
      "write index = 3\n",
      "[1, 2, 3, 2, 4, 4, 4]\n"
     ]
    },
    {
     "data": {
      "text/plain": [
       "[1, 2, 3, 4, 2, 4, 4]"
      ]
     },
     "execution_count": 43,
     "metadata": {},
     "output_type": "execute_result"
    }
   ],
   "source": [
    "# Remove extras, m = 1\n",
    "remove_extras([1, 2, 2, 3, 4, 4, 4], 1)"
   ]
  },
  {
   "cell_type": "code",
   "execution_count": 44,
   "metadata": {},
   "outputs": [
    {
     "name": "stdout",
     "output_type": "stream",
     "text": [
      "index i = 4\n",
      "write index = 3\n",
      "[2, 2, 3, 2, 3, 3, 4]\n"
     ]
    },
    {
     "data": {
      "text/plain": [
       "[2, 2, 3, 3, 4, 3, 2]"
      ]
     },
     "execution_count": 44,
     "metadata": {},
     "output_type": "execute_result"
    }
   ],
   "source": [
    "# Remove extras, m > 2\n",
    "remove_extras([2, 2, 2, 3, 3, 3, 4], 3)"
   ]
  },
  {
   "cell_type": "code",
   "execution_count": null,
   "metadata": {},
   "outputs": [],
   "source": []
  },
  {
   "cell_type": "code",
   "execution_count": null,
   "metadata": {},
   "outputs": [],
   "source": []
  }
 ],
 "metadata": {
  "kernelspec": {
   "display_name": "Python 3",
   "language": "python",
   "name": "python3"
  },
  "language_info": {
   "codemirror_mode": {
    "name": "ipython",
    "version": 3
   },
   "file_extension": ".py",
   "mimetype": "text/x-python",
   "name": "python",
   "nbconvert_exporter": "python",
   "pygments_lexer": "ipython3",
   "version": "3.7.4"
  }
 },
 "nbformat": 4,
 "nbformat_minor": 2
}
