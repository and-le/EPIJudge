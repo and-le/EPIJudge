{
 "cells": [
  {
   "cell_type": "code",
   "execution_count": 4,
   "metadata": {},
   "outputs": [
    {
     "data": {
      "text/plain": [
       "'\\nProblem 6.9 : Apply a permutation to an array\\n'"
      ]
     },
     "execution_count": 4,
     "metadata": {},
     "output_type": "execute_result"
    }
   ],
   "source": [
    "\"\"\"\n",
    "Problem 6.9 : Apply a permutation to an array\n",
    "\"\"\""
   ]
  },
  {
   "cell_type": "code",
   "execution_count": 13,
   "metadata": {},
   "outputs": [],
   "source": [
    "def swap(A, i, j):\n",
    "    temp = A[i]\n",
    "    A[i] = A[j]\n",
    "    A[j] = temp\n",
    "    \n",
    "def apply_permutation(A, P):\n",
    "    \"\"\"\n",
    "    Applies the permutation P to A, and returns the permuted A.\n",
    "    P[i] indicates that the element at index i in the original A should be\n",
    "    at index P[i] in the permuted A.\n",
    "    \n",
    "    Time: O(n)\n",
    "    Space: O(n)\n",
    "    \"\"\"\n",
    "    for i in range(len(A)):\n",
    "        next_idx = i\n",
    "        \n",
    "        # If an index is negative, then the element corresponding to this index\n",
    "        # has been moved to its correct location\n",
    "        while P[next_idx] >= 0:\n",
    "            swap(A, i, next_idx)\n",
    "            temp = P[next_idx] # next index to go to\n",
    "            \n",
    "            P[next_idx] -= len(A) # Make this index negative\n",
    "            next_idx = temp\n",
    "            \n",
    "    # Restore permutation\n",
    "    for i in range(len(P)):\n",
    "        P[i] += len(A)\n",
    "    \n",
    "    return A, P"
   ]
  },
  {
   "cell_type": "code",
   "execution_count": 14,
   "metadata": {},
   "outputs": [
    {
     "data": {
      "text/plain": [
       "(['d', 'b', 'a', 'c'], [2, 1, 3, 0])"
      ]
     },
     "execution_count": 14,
     "metadata": {},
     "output_type": "execute_result"
    }
   ],
   "source": [
    "apply_permutation(['a', 'b', 'c', 'd'], [2, 1, 3, 0])"
   ]
  },
  {
   "cell_type": "code",
   "execution_count": 15,
   "metadata": {},
   "outputs": [
    {
     "data": {
      "text/plain": [
       "(['d', 'c', 'b', 'a'], [3, 2, 1, 0])"
      ]
     },
     "execution_count": 15,
     "metadata": {},
     "output_type": "execute_result"
    }
   ],
   "source": [
    "apply_permutation(['a', 'b', 'c', 'd'], [3, 2, 1, 0])"
   ]
  },
  {
   "cell_type": "code",
   "execution_count": null,
   "metadata": {},
   "outputs": [],
   "source": []
  }
 ],
 "metadata": {
  "kernelspec": {
   "display_name": "Python 3",
   "language": "python",
   "name": "python3"
  },
  "language_info": {
   "codemirror_mode": {
    "name": "ipython",
    "version": 3
   },
   "file_extension": ".py",
   "mimetype": "text/x-python",
   "name": "python",
   "nbconvert_exporter": "python",
   "pygments_lexer": "ipython3",
   "version": "3.7.4"
  }
 },
 "nbformat": 4,
 "nbformat_minor": 2
}
