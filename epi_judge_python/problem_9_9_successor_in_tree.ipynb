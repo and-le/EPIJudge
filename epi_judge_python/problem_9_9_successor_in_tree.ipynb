{
 "cells": [
  {
   "cell_type": "code",
   "execution_count": 2,
   "metadata": {},
   "outputs": [],
   "source": [
    "from binary_tree_with_parent_prototype import BinaryTreeNode"
   ]
  },
  {
   "cell_type": "code",
   "execution_count": 16,
   "metadata": {},
   "outputs": [],
   "source": [
    "def successor(node):\n",
    "    \"\"\"\n",
    "    Returns the successor of the given node if the successor exists; None otherwise\n",
    "    Time: O(h)\n",
    "    Space: O(1)\n",
    "    \"\"\"\n",
    "    \n",
    "    # The successor is the left-most node in the given node's right subtree\n",
    "    if node.right:\n",
    "        cur = node.right\n",
    "        while cur.left:\n",
    "            cur = cur.left\n",
    "        \n",
    "        return cur\n",
    "    \n",
    "    # The successor is the parent of the node that is the left child of its parent\n",
    "    cur = node\n",
    "    # While the current node is not the left child of the parent\n",
    "    while cur.parent and cur != cur.parent.left:\n",
    "        cur = cur.parent\n",
    "\n",
    "    return cur.parent      "
   ]
  },
  {
   "cell_type": "code",
   "execution_count": 17,
   "metadata": {},
   "outputs": [],
   "source": [
    "\"\"\"\n",
    "                         20\n",
    "                10              30\n",
    "                \n",
    "                    15       25       35\n",
    "\n",
    "\n",
    "\n",
    "\"\"\"\n",
    "root = BinaryTreeNode(20)\n",
    "\n",
    "l1 = BinaryTreeNode(10)\n",
    "l2 = BinaryTreeNode(15)\n",
    "\n",
    "r1 = BinaryTreeNode(30)\n",
    "r2 = BinaryTreeNode(25)\n",
    "r3 = BinaryTreeNode(35)\n",
    "\n",
    "root.left, l1.parent = l1, root\n",
    "l1.right, l2.parent = l2, l1\n",
    "root.right, r1.parent = r1, root\n",
    "r1.left, r2.parent = r2, r1\n",
    "r1.right, r3.parent = r3, r1"
   ]
  },
  {
   "cell_type": "code",
   "execution_count": 18,
   "metadata": {},
   "outputs": [],
   "source": [
    "assert successor(root).data == 25\n",
    "assert successor(l1).data == 15\n",
    "assert successor(l2).data == 20\n",
    "assert not successor(r3)"
   ]
  },
  {
   "cell_type": "code",
   "execution_count": null,
   "metadata": {},
   "outputs": [],
   "source": []
  }
 ],
 "metadata": {
  "kernelspec": {
   "display_name": "Python 3",
   "language": "python",
   "name": "python3"
  },
  "language_info": {
   "codemirror_mode": {
    "name": "ipython",
    "version": 3
   },
   "file_extension": ".py",
   "mimetype": "text/x-python",
   "name": "python",
   "nbconvert_exporter": "python",
   "pygments_lexer": "ipython3",
   "version": "3.7.4"
  }
 },
 "nbformat": 4,
 "nbformat_minor": 2
}
