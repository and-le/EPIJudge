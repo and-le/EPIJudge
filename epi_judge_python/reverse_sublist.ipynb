{
 "cells": [
  {
   "cell_type": "code",
   "execution_count": 2,
   "metadata": {},
   "outputs": [],
   "source": [
    "\"\"\"\n",
    "Problem 8.2: Reverse a sub-list of a linked list\n",
    "\"\"\"\n",
    "from list_node import ListNode"
   ]
  },
  {
   "cell_type": "code",
   "execution_count": 116,
   "metadata": {},
   "outputs": [],
   "source": [
    "def reverse_sublist(lst, start, finish):\n",
    "    \"\"\"\n",
    "    Reverses the nodes beginning at index start and ending at index finish\n",
    "    for the given linked list whose head node is lst.\n",
    "    Indexing is 1-based.\n",
    "    \"\"\"\n",
    "    if start > finish:\n",
    "        raise ValueError(\"Start should be less than finish\")\n",
    "    elif start == finish:\n",
    "        return lst\n",
    "   \n",
    "    head = lst\n",
    "    before_start = None # Node before node at index start\n",
    "    curr = lst\n",
    "    i = 1\n",
    "    while i < start:\n",
    "        before_start = curr\n",
    "        curr = curr.next\n",
    "        i += 1\n",
    "        \n",
    "    print(f\"before start node = {before_start}\")\n",
    "    print(f\"start node = {curr}\")\n",
    "    start_node = curr # Node at index start\n",
    "    \n",
    "    prev = before_start # Node before curr\n",
    "    \n",
    "    while i < finish:\n",
    "        temp = curr.next # Store the next node\n",
    "        curr.next = prev # Reverse the next pointer for curr\n",
    "        prev = curr # Update prev\n",
    "        curr = temp\n",
    "        i += 1\n",
    "        \n",
    "    # The start node points to the first node after index finish\n",
    "    start_node.next = curr.next\n",
    "        \n",
    "    # curr is at index finish\n",
    "    curr.next = prev  \n",
    "        \n",
    "    # If the start of the sub-list is at index 1\n",
    "    if start == 1:\n",
    "        head = curr        \n",
    "    else:\n",
    "        head.next = curr\n",
    "    \n",
    "    return head   \n",
    "        "
   ]
  },
  {
   "cell_type": "code",
   "execution_count": 121,
   "metadata": {},
   "outputs": [],
   "source": [
    "# Test cases\n",
    "n1 = ListNode(1, None)\n",
    "n2 = ListNode(3, None)\n",
    "n3 = ListNode(5, None)\n",
    "n4 = ListNode(7, None)\n",
    "n5 = ListNode(9, None)\n",
    "n6 = ListNode(11, None)\n",
    "\n",
    "n1.next = n2\n",
    "n2.next = n3\n",
    "n3.next = n4\n",
    "n4.next = n5\n",
    "n5.next = n6"
   ]
  },
  {
   "cell_type": "code",
   "execution_count": 122,
   "metadata": {},
   "outputs": [
    {
     "name": "stdout",
     "output_type": "stream",
     "text": [
      "before start node = 1 -> 3 -> 5 -> 7 -> 9 -> 11\n",
      "start node = 3 -> 5 -> 7 -> 9 -> 11\n"
     ]
    },
    {
     "data": {
      "text/plain": [
       "1 -> 9 -> 7 -> 5 -> 3 -> 11"
      ]
     },
     "execution_count": 122,
     "metadata": {},
     "output_type": "execute_result"
    }
   ],
   "source": [
    "# Even-length sublist\n",
    "reverse_sublist(n1, 2, 5)"
   ]
  },
  {
   "cell_type": "code",
   "execution_count": null,
   "metadata": {},
   "outputs": [],
   "source": []
  },
  {
   "cell_type": "code",
   "execution_count": null,
   "metadata": {},
   "outputs": [],
   "source": []
  },
  {
   "cell_type": "code",
   "execution_count": null,
   "metadata": {},
   "outputs": [],
   "source": []
  },
  {
   "cell_type": "code",
   "execution_count": null,
   "metadata": {},
   "outputs": [],
   "source": []
  }
 ],
 "metadata": {
  "kernelspec": {
   "display_name": "Python 3",
   "language": "python",
   "name": "python3"
  },
  "language_info": {
   "codemirror_mode": {
    "name": "ipython",
    "version": 3
   },
   "file_extension": ".py",
   "mimetype": "text/x-python",
   "name": "python",
   "nbconvert_exporter": "python",
   "pygments_lexer": "ipython3",
   "version": "3.7.4"
  }
 },
 "nbformat": 4,
 "nbformat_minor": 2
}
