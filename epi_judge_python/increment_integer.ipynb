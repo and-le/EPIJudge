{
 "cells": [
  {
   "cell_type": "code",
   "execution_count": 25,
   "metadata": {},
   "outputs": [
    {
     "data": {
      "text/plain": [
       "'\\nProblem 6.2: Increment an arbitrary precision integer\\n'"
      ]
     },
     "execution_count": 25,
     "metadata": {},
     "output_type": "execute_result"
    }
   ],
   "source": [
    "\"\"\"\n",
    "Problem 6.2: Increment an arbitrary precision integer\n",
    "\"\"\""
   ]
  },
  {
   "cell_type": "code",
   "execution_count": 26,
   "metadata": {},
   "outputs": [],
   "source": [
    "def incr_int(D):\n",
    "    \"\"\"\n",
    "    Adds 1 to the digit represented by the array D.\n",
    "    Returns the resulting array.\n",
    "    \"\"\"\n",
    "    i = len(D) - 1\n",
    "    carry = 0\n",
    "    while i >= 0:\n",
    "        if D[i] + 1 == 10:\n",
    "            carry = 1\n",
    "        else:\n",
    "            carry = 0\n",
    "            \n",
    "        # Increment this current digit\n",
    "        if carry:\n",
    "            D[i] = 0\n",
    "        else:\n",
    "            D[i] = D[i] + 1\n",
    "            \n",
    "        # If there is no carry, stop.\n",
    "        if not carry:\n",
    "            break\n",
    "        else:\n",
    "            i = i - 1\n",
    "    \n",
    "    # Check for overflow\n",
    "    if carry:\n",
    "        # Add a leading 1\n",
    "        lst = D.insert(0, 1)\n",
    "        return D\n",
    "    else:\n",
    "        return D"
   ]
  },
  {
   "cell_type": "code",
   "execution_count": 27,
   "metadata": {},
   "outputs": [
    {
     "data": {
      "text/plain": [
       "[1, 4, 0, 0]"
      ]
     },
     "execution_count": 27,
     "metadata": {},
     "output_type": "execute_result"
    }
   ],
   "source": [
    "incr_int([1, 3, 9, 9])"
   ]
  },
  {
   "cell_type": "code",
   "execution_count": 28,
   "metadata": {},
   "outputs": [
    {
     "data": {
      "text/plain": [
       "[1, 0, 0, 0]"
      ]
     },
     "execution_count": 28,
     "metadata": {},
     "output_type": "execute_result"
    }
   ],
   "source": [
    "incr_int([9, 9, 9])"
   ]
  }
 ],
 "metadata": {
  "kernelspec": {
   "display_name": "Python 3",
   "language": "python",
   "name": "python3"
  },
  "language_info": {
   "codemirror_mode": {
    "name": "ipython",
    "version": 3
   },
   "file_extension": ".py",
   "mimetype": "text/x-python",
   "name": "python",
   "nbconvert_exporter": "python",
   "pygments_lexer": "ipython3",
   "version": "3.7.4"
  }
 },
 "nbformat": 4,
 "nbformat_minor": 2
}
