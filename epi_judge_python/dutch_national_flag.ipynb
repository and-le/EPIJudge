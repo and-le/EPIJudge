{
 "cells": [
  {
   "cell_type": "code",
   "execution_count": 14,
   "metadata": {
    "scrolled": false
   },
   "outputs": [],
   "source": [
    "\"\"\"\n",
    "Problem 6.1: Dutch National Flag\n",
    "\"\"\""
   ]
  },
  {
   "cell_type": "code",
   "execution_count": 15,
   "metadata": {},
   "outputs": [],
   "source": [
    "def dnf_v1(A, i):\n",
    "    \"\"\"\n",
    "    Version 1 implementation: Makes 3 passes through the array\n",
    "    and creates an extra array to store the rearranged elements\n",
    "    Time: O(n)\n",
    "    Space: O(n)\n",
    "    \"\"\"\n",
    "    B = [] # Rearranged array\n",
    "    \n",
    "    # Identify the < elements\n",
    "    for k in range(len(A)):\n",
    "        if A[k] < A[i]: \n",
    "            B.append(A[k])\n",
    "    \n",
    "    # Identify the == elements\n",
    "    for k in range(len(A)):\n",
    "        if A[k] == A[i]:\n",
    "            B.append(A[k])\n",
    "    \n",
    "    # Identify the > elements\n",
    "    for k in range(len(A)):\n",
    "        if A[k] > A[i]:\n",
    "            B.append(A[k])\n",
    "            \n",
    "    return B\n",
    "            "
   ]
  },
  {
   "cell_type": "code",
   "execution_count": 26,
   "metadata": {},
   "outputs": [],
   "source": [
    "def swap(A, i, j):\n",
    "    \"\"\"\n",
    "    Swaps the ith element of A with the jth element of A\n",
    "    \"\"\"\n",
    "    temp = A[i]\n",
    "    A[i] = A[j]\n",
    "    A[j] = temp    \n",
    "    \n",
    "def dnf_v2(A, i):\n",
    "    \"\"\"\n",
    "    Version 2 implementation: Uses the existing array to\n",
    "    store the rearranged elements\n",
    "    Time: O(n)\n",
    "    Space: O(1)\n",
    "    \"\"\"\n",
    "    left = 0 # Index into < portion \n",
    "    mid = left + 1 # Index into == portion\n",
    "    right = len(A) - 1 # Index into > portion\n",
    "    pivot = A[i]\n",
    "    \n",
    "    while left < right and mid <= right:\n",
    "        if A[left] < pivot:\n",
    "            left += 1\n",
    "            mid += 1\n",
    "        elif A[left] > pivot:\n",
    "            swap(A, left, right)\n",
    "            right -= 1\n",
    "        else:\n",
    "            swap(A, left, mid)\n",
    "            mid += 1\n",
    "        print(A)\n",
    "            \n",
    "    return A\n",
    "    \n"
   ]
  },
  {
   "cell_type": "code",
   "execution_count": 27,
   "metadata": {},
   "outputs": [],
   "source": [
    "# Test input\n",
    "A = [3, 2, 1, 2, 3,]\n",
    "i = 1\n",
    "expected = [1, 2, 2, 3, 3]"
   ]
  },
  {
   "cell_type": "code",
   "execution_count": null,
   "metadata": {},
   "outputs": [],
   "source": []
  }
 ],
 "metadata": {
  "kernelspec": {
   "display_name": "Python 3",
   "language": "python",
   "name": "python3"
  },
  "language_info": {
   "codemirror_mode": {
    "name": "ipython",
    "version": 3
   },
   "file_extension": ".py",
   "mimetype": "text/x-python",
   "name": "python",
   "nbconvert_exporter": "python",
   "pygments_lexer": "ipython3",
   "version": "3.7.4"
  }
 },
 "nbformat": 4,
 "nbformat_minor": 2
}
